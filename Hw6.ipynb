{
 "cells": [
  {
   "cell_type": "markdown",
   "metadata": {
    "id": "BfLjxv-h7nVh"
   },
   "source": [
    "# Предсказание активности молекул по отношению к таргету\n",
    "\n",
    "*При подготовке ноутбука использовались данные из соревнования [Global AI Challenge](https://codenrock.com/contests/global-ai#/)* "
   ]
  },
  {
   "cell_type": "markdown",
   "metadata": {
    "id": "4Mesk6L-WEOS"
   },
   "source": [
    "Целью данной задачи является предсказание активности молекулы лиганда по отношению к таргету - Covid 19"
   ]
  },
  {
   "cell_type": "markdown",
   "metadata": {
    "id": "VGti6b5XvgZP"
   },
   "source": [
    "![](https://cloudfront.jove.com/files/media/science-education/science-education-thumbs/11513.jpg)"
   ]
  },
  {
   "cell_type": "markdown",
   "metadata": {
    "id": "hjme9vCGPeoR"
   },
   "source": [
    "## План анализа данных:\n",
    "\n",
    "  1. Загрузить данные для обучения\n",
    "  2. Обработать данные перед обучением модели\n",
    "  3. Обучить модель на обучающей выборке\n",
    "  4. Загрузить и предобработать данные для тестирования\n",
    "  5. Провалидировать модель на тестовой выборке\n"
   ]
  },
  {
   "cell_type": "markdown",
   "metadata": {
    "id": "yLs9g1vq7nVl"
   },
   "source": [
    "# 0. Установка и импорт библиотек"
   ]
  },
  {
   "cell_type": "code",
   "execution_count": 2,
   "metadata": {
    "colab": {
     "base_uri": "https://localhost:8080/"
    },
    "id": "4yv5A2IvYvgW",
    "outputId": "5cca3c32-3e1e-4164-8279-70940f75fa81"
   },
   "outputs": [
    {
     "name": "stdout",
     "output_type": "stream",
     "text": [
      "\u001b[33mWARNING: You are using pip version 21.0.1; however, version 22.0.4 is available.\r\n",
      "You should consider upgrading via the '/home/ivankozlov98/environments/my_env/bin/python -m pip install --upgrade pip' command.\u001b[0m\r\n"
     ]
    },
    {
     "ename": "RuntimeError",
     "evalue": "This module must ONLY run as part of a Colab notebook!",
     "output_type": "error",
     "traceback": [
      "\u001b[0;31m---------------------------------------------------------------------------\u001b[0m",
      "\u001b[0;31mModuleNotFoundError\u001b[0m                       Traceback (most recent call last)",
      "\u001b[0;32m~/environments/my_env/lib/python3.8/site-packages/condacolab.py\u001b[0m in \u001b[0;36m<module>\u001b[0;34m\u001b[0m\n\u001b[1;32m     25\u001b[0m \u001b[0;32mtry\u001b[0m\u001b[0;34m:\u001b[0m\u001b[0;34m\u001b[0m\u001b[0;34m\u001b[0m\u001b[0m\n\u001b[0;32m---> 26\u001b[0;31m     \u001b[0;32mimport\u001b[0m \u001b[0mgoogle\u001b[0m\u001b[0;34m.\u001b[0m\u001b[0mcolab\u001b[0m\u001b[0;34m\u001b[0m\u001b[0;34m\u001b[0m\u001b[0m\n\u001b[0m\u001b[1;32m     27\u001b[0m \u001b[0;32mexcept\u001b[0m \u001b[0mImportError\u001b[0m\u001b[0;34m:\u001b[0m\u001b[0;34m\u001b[0m\u001b[0;34m\u001b[0m\u001b[0m\n",
      "\u001b[0;31mModuleNotFoundError\u001b[0m: No module named 'google'",
      "\nDuring handling of the above exception, another exception occurred:\n",
      "\u001b[0;31mRuntimeError\u001b[0m                              Traceback (most recent call last)",
      "\u001b[0;32m<ipython-input-2-26c1cb478406>\u001b[0m in \u001b[0;36m<module>\u001b[0;34m\u001b[0m\n\u001b[1;32m      2\u001b[0m \u001b[0;31m# Note: you should probably read the README file at that repo.\u001b[0m\u001b[0;34m\u001b[0m\u001b[0;34m\u001b[0m\u001b[0;34m\u001b[0m\u001b[0m\n\u001b[1;32m      3\u001b[0m \u001b[0mget_ipython\u001b[0m\u001b[0;34m(\u001b[0m\u001b[0;34m)\u001b[0m\u001b[0;34m.\u001b[0m\u001b[0msystem\u001b[0m\u001b[0;34m(\u001b[0m\u001b[0;34m'pip3 install -q condacolab'\u001b[0m\u001b[0;34m)\u001b[0m\u001b[0;34m\u001b[0m\u001b[0;34m\u001b[0m\u001b[0m\n\u001b[0;32m----> 4\u001b[0;31m \u001b[0;32mimport\u001b[0m \u001b[0mcondacolab\u001b[0m\u001b[0;34m\u001b[0m\u001b[0;34m\u001b[0m\u001b[0m\n\u001b[0m\u001b[1;32m      5\u001b[0m \u001b[0mcondacolab\u001b[0m\u001b[0;34m.\u001b[0m\u001b[0minstall\u001b[0m\u001b[0;34m(\u001b[0m\u001b[0;34m)\u001b[0m\u001b[0;34m\u001b[0m\u001b[0;34m\u001b[0m\u001b[0m\n",
      "\u001b[0;32m~/environments/my_env/lib/python3.8/site-packages/condacolab.py\u001b[0m in \u001b[0;36m<module>\u001b[0;34m\u001b[0m\n\u001b[1;32m     26\u001b[0m     \u001b[0;32mimport\u001b[0m \u001b[0mgoogle\u001b[0m\u001b[0;34m.\u001b[0m\u001b[0mcolab\u001b[0m\u001b[0;34m\u001b[0m\u001b[0;34m\u001b[0m\u001b[0m\n\u001b[1;32m     27\u001b[0m \u001b[0;32mexcept\u001b[0m \u001b[0mImportError\u001b[0m\u001b[0;34m:\u001b[0m\u001b[0;34m\u001b[0m\u001b[0;34m\u001b[0m\u001b[0m\n\u001b[0;32m---> 28\u001b[0;31m     \u001b[0;32mraise\u001b[0m \u001b[0mRuntimeError\u001b[0m\u001b[0;34m(\u001b[0m\u001b[0;34m\"This module must ONLY run as part of a Colab notebook!\"\u001b[0m\u001b[0;34m)\u001b[0m\u001b[0;34m\u001b[0m\u001b[0;34m\u001b[0m\u001b[0m\n\u001b[0m\u001b[1;32m     29\u001b[0m \u001b[0;34m\u001b[0m\u001b[0m\n\u001b[1;32m     30\u001b[0m \u001b[0;34m\u001b[0m\u001b[0m\n",
      "\u001b[0;31mRuntimeError\u001b[0m: This module must ONLY run as part of a Colab notebook!"
     ]
    }
   ],
   "source": [
    "# Grab Jaime's excellent condacolab package: https://github.com/jaimergp/condacolab\n",
    "# Note: you should probably read the README file at that repo.\n",
    "# !pip3 install -q condacolab\n",
    "# import condacolab\n",
    "# condacolab.install()"
   ]
  },
  {
   "cell_type": "code",
   "execution_count": 3,
   "metadata": {
    "colab": {
     "base_uri": "https://localhost:8080/"
    },
    "id": "vgb8zsYnYwQ2",
    "outputId": "897adce6-9ee4-4f0f-c845-be9a9335f1d3"
   },
   "outputs": [
    {
     "name": "stdout",
     "output_type": "stream",
     "text": [
      "/bin/bash: mamba: command not found\r\n"
     ]
    }
   ],
   "source": [
    "# !mamba install -c conda-forge rdkit chembl_structure_pipeline"
   ]
  },
  {
   "cell_type": "code",
   "execution_count": 4,
   "metadata": {
    "colab": {
     "base_uri": "https://localhost:8080/"
    },
    "id": "aGLsE-6Di2CT",
    "outputId": "c831201c-1f46-4128-d6a7-833d05aeaa8e"
   },
   "outputs": [
    {
     "name": "stdout",
     "output_type": "stream",
     "text": [
      "Collecting dgl\n",
      "  Downloading dgl-0.6.1-cp38-cp38-manylinux1_x86_64.whl (4.5 MB)\n",
      "\u001b[K     |████████████████████████████████| 4.5 MB 1.6 MB/s eta 0:00:01     |█████████████████████████████▋  | 4.1 MB 1.6 MB/s eta 0:00:01\n",
      "\u001b[?25hRequirement already satisfied: requests>=2.19.0 in /home/ivankozlov98/environments/my_env/lib/python3.8/site-packages (from dgl) (2.27.1)\n",
      "Requirement already satisfied: numpy>=1.14.0 in /home/ivankozlov98/environments/my_env/lib/python3.8/site-packages (from dgl) (1.19.1)\n",
      "Collecting networkx>=2.1\n",
      "  Downloading networkx-2.7.1-py3-none-any.whl (2.0 MB)\n",
      "\u001b[K     |████████████████████████████████| 2.0 MB 554 kB/s eta 0:00:01\n",
      "\u001b[?25hRequirement already satisfied: scipy>=1.1.0 in /home/ivankozlov98/environments/my_env/lib/python3.8/site-packages (from dgl) (1.5.2)\n",
      "Requirement already satisfied: urllib3<1.27,>=1.21.1 in /home/ivankozlov98/environments/my_env/lib/python3.8/site-packages (from requests>=2.19.0->dgl) (1.26.8)\n",
      "Requirement already satisfied: certifi>=2017.4.17 in /home/ivankozlov98/environments/my_env/lib/python3.8/site-packages (from requests>=2.19.0->dgl) (2020.6.20)\n",
      "Requirement already satisfied: idna<4,>=2.5 in /home/ivankozlov98/environments/my_env/lib/python3.8/site-packages (from requests>=2.19.0->dgl) (3.3)\n",
      "Requirement already satisfied: charset-normalizer~=2.0.0 in /home/ivankozlov98/environments/my_env/lib/python3.8/site-packages (from requests>=2.19.0->dgl) (2.0.12)\n",
      "Installing collected packages: networkx, dgl\n",
      "Successfully installed dgl-0.6.1 networkx-2.7.1\n",
      "\u001b[33mWARNING: You are using pip version 21.0.1; however, version 22.0.4 is available.\n",
      "You should consider upgrading via the '/home/ivankozlov98/environments/my_env/bin/python -m pip install --upgrade pip' command.\u001b[0m\n",
      "Collecting dgllife\n",
      "  Downloading dgllife-0.2.9.tar.gz (138 kB)\n",
      "\u001b[K     |████████████████████████████████| 138 kB 595 kB/s eta 0:00:01\n",
      "\u001b[?25hRequirement already satisfied: scikit-learn>=0.22.2 in /home/ivankozlov98/environments/my_env/lib/python3.8/site-packages (from dgllife) (1.0.2)\n",
      "Requirement already satisfied: pandas in /home/ivankozlov98/environments/my_env/lib/python3.8/site-packages (from dgllife) (1.1.2)\n",
      "Requirement already satisfied: requests>=2.22.0 in /home/ivankozlov98/environments/my_env/lib/python3.8/site-packages (from dgllife) (2.27.1)\n",
      "Requirement already satisfied: tqdm in /home/ivankozlov98/environments/my_env/lib/python3.8/site-packages (from dgllife) (4.60.0)\n",
      "Requirement already satisfied: numpy>=1.14.0 in /home/ivankozlov98/environments/my_env/lib/python3.8/site-packages (from dgllife) (1.19.1)\n",
      "Requirement already satisfied: scipy>=1.1.0 in /home/ivankozlov98/environments/my_env/lib/python3.8/site-packages (from dgllife) (1.5.2)\n",
      "Requirement already satisfied: networkx>=2.1 in /home/ivankozlov98/environments/my_env/lib/python3.8/site-packages (from dgllife) (2.7.1)\n",
      "Collecting hyperopt\n",
      "  Downloading hyperopt-0.2.7-py2.py3-none-any.whl (1.6 MB)\n",
      "\u001b[K     |████████████████████████████████| 1.6 MB 1.6 MB/s eta 0:00:01     |██                              | 102 kB 1.6 MB/s eta 0:00:01\n",
      "\u001b[?25hRequirement already satisfied: joblib in /home/ivankozlov98/environments/my_env/lib/python3.8/site-packages (from dgllife) (0.16.0)\n",
      "Requirement already satisfied: idna<4,>=2.5 in /home/ivankozlov98/environments/my_env/lib/python3.8/site-packages (from requests>=2.22.0->dgllife) (3.3)\n",
      "Requirement already satisfied: certifi>=2017.4.17 in /home/ivankozlov98/environments/my_env/lib/python3.8/site-packages (from requests>=2.22.0->dgllife) (2020.6.20)\n",
      "Requirement already satisfied: urllib3<1.27,>=1.21.1 in /home/ivankozlov98/environments/my_env/lib/python3.8/site-packages (from requests>=2.22.0->dgllife) (1.26.8)\n",
      "Requirement already satisfied: charset-normalizer~=2.0.0 in /home/ivankozlov98/environments/my_env/lib/python3.8/site-packages (from requests>=2.22.0->dgllife) (2.0.12)\n",
      "Requirement already satisfied: threadpoolctl>=2.0.0 in /home/ivankozlov98/environments/my_env/lib/python3.8/site-packages (from scikit-learn>=0.22.2->dgllife) (2.1.0)\n",
      "Collecting cloudpickle\n",
      "  Downloading cloudpickle-2.0.0-py3-none-any.whl (25 kB)\n",
      "Requirement already satisfied: future in /home/ivankozlov98/environments/my_env/lib/python3.8/site-packages (from hyperopt->dgllife) (0.18.2)\n",
      "Requirement already satisfied: six in /home/ivankozlov98/environments/my_env/lib/python3.8/site-packages (from hyperopt->dgllife) (1.15.0)\n",
      "Collecting py4j\n",
      "  Downloading py4j-0.10.9.5-py2.py3-none-any.whl (199 kB)\n",
      "\u001b[K     |████████████████████████████████| 199 kB 6.2 MB/s eta 0:00:01\n",
      "\u001b[?25hRequirement already satisfied: pytz>=2017.2 in /home/ivankozlov98/environments/my_env/lib/python3.8/site-packages (from pandas->dgllife) (2020.1)\n",
      "Requirement already satisfied: python-dateutil>=2.7.3 in /home/ivankozlov98/environments/my_env/lib/python3.8/site-packages (from pandas->dgllife) (2.8.1)\n",
      "Building wheels for collected packages: dgllife\n",
      "  Building wheel for dgllife (setup.py) ... \u001b[?25ldone\n",
      "\u001b[?25h  Created wheel for dgllife: filename=dgllife-0.2.9-py3-none-any.whl size=219060 sha256=bc09e021d374ff8a97c6371f8fe4ccc151578ed5aeeb8832f62d2b3e7bce6f92\n",
      "  Stored in directory: /home/ivankozlov98/.cache/pip/wheels/46/54/a3/ef7d72bda8e3345f5568be4c827533bd1d7c9406222866750e\n",
      "Successfully built dgllife\n",
      "Installing collected packages: py4j, cloudpickle, hyperopt, dgllife\n",
      "Successfully installed cloudpickle-2.0.0 dgllife-0.2.9 hyperopt-0.2.7 py4j-0.10.9.5\n",
      "\u001b[33mWARNING: You are using pip version 21.0.1; however, version 22.0.4 is available.\n",
      "You should consider upgrading via the '/home/ivankozlov98/environments/my_env/bin/python -m pip install --upgrade pip' command.\u001b[0m\n"
     ]
    }
   ],
   "source": [
    "!pip3 install  dgl\n",
    "!pip3 install dgllife"
   ]
  },
  {
   "cell_type": "code",
   "execution_count": 5,
   "metadata": {},
   "outputs": [
    {
     "name": "stdout",
     "output_type": "stream",
     "text": [
      "Collecting package metadata (current_repodata.json): done\n",
      "Solving environment: failed with initial frozen solve. Retrying with flexible solve.\n",
      "Solving environment: failed with repodata from current_repodata.json, will retry with next repodata source.\n",
      "Collecting package metadata (repodata.json): done\n",
      "Solving environment: failed with initial frozen solve. Retrying with flexible solve.\n",
      "Solving environment: | ^C\n",
      "failed\n",
      "\n",
      "CondaError: KeyboardInterrupt\n",
      "\n"
     ]
    }
   ],
   "source": []
  },
  {
   "cell_type": "code",
   "execution_count": 1,
   "metadata": {
    "id": "qR-1lYPb7nVm"
   },
   "outputs": [],
   "source": [
    "# Python ≥3.5 is required\n",
    "import sys\n",
    "assert sys.version_info >= (3, 5)\n",
    "\n",
    "# Scikit-Learn ≥0.20 is required\n",
    "import sklearn\n",
    "assert sklearn.__version__ >= \"0.20\"\n",
    "\n",
    "# Common imports\n",
    "import numpy as np\n",
    "import os\n",
    "\n",
    "# To plot pretty figures\n",
    "%matplotlib inline\n",
    "import matplotlib as mpl\n",
    "import matplotlib.pyplot as plt\n",
    "mpl.rc('axes', labelsize=14)\n",
    "mpl.rc('xtick', labelsize=12)\n",
    "mpl.rc('ytick', labelsize=12)\n",
    "\n",
    "# Where to save the figures\n",
    "PROJECT_ROOT_DIR = \".\"\n",
    "CHAPTER_ID = \"end_to_end_project\"\n",
    "IMAGES_PATH = os.path.join(PROJECT_ROOT_DIR, \"images\", CHAPTER_ID)\n",
    "os.makedirs(IMAGES_PATH, exist_ok=True)\n",
    "\n",
    "def save_fig(fig_id, tight_layout=True, fig_extension=\"png\", resolution=300):\n",
    "    path = os.path.join(IMAGES_PATH, fig_id + \".\" + fig_extension)\n",
    "    print(\"Saving figure\", fig_id)\n",
    "    if tight_layout:\n",
    "        plt.tight_layout()\n",
    "    plt.savefig(path, format=fig_extension, dpi=resolution)"
   ]
  },
  {
   "cell_type": "markdown",
   "metadata": {
    "id": "mkKx4rBe7nVn"
   },
   "source": [
    "# 1. Загрузка данных"
   ]
  },
  {
   "cell_type": "code",
   "execution_count": 2,
   "metadata": {
    "colab": {
     "base_uri": "https://localhost:8080/"
    },
    "id": "iu4_4vH5U-b_",
    "outputId": "ad0a960b-0506-4979-9846-e3b3e3a21b47"
   },
   "outputs": [
    {
     "name": "stdout",
     "output_type": "stream",
     "text": [
      "--2022-03-22 18:58:00--  https://www.dropbox.com/s/48c34raijlxc0nw/train.csv\n",
      "Resolving www.dropbox.com (www.dropbox.com)... 162.125.71.18, 2620:100:6034:18::a27d:5412\n",
      "Connecting to www.dropbox.com (www.dropbox.com)|162.125.71.18|:443... connected.\n",
      "HTTP request sent, awaiting response... 301 Moved Permanently\n",
      "Location: /s/raw/48c34raijlxc0nw/train.csv [following]\n",
      "--2022-03-22 18:58:01--  https://www.dropbox.com/s/raw/48c34raijlxc0nw/train.csv\n",
      "Reusing existing connection to www.dropbox.com:443.\n",
      "HTTP request sent, awaiting response... 302 Found\n",
      "Location: https://ucaa0f89f1345e19d437b7543b93.dl.dropboxusercontent.com/cd/0/inline/Bh8GkGzjjkCx62AnMbj7K5gS4vM0i1lFlzbnYrjNuNw2oudarLKs0jdil-Ue9wjwbV5UGkxa7VyTYE6eKNeU2lG7K4aZo5CJp8tDsCXoQg0pk-yBNbTFtMd2DfyXyHEVxt7zXGh9DBgGNx6t1e5dnAeHL6Iwbb0WY6iTOav7XUv1lw/file# [following]\n",
      "--2022-03-22 18:58:02--  https://ucaa0f89f1345e19d437b7543b93.dl.dropboxusercontent.com/cd/0/inline/Bh8GkGzjjkCx62AnMbj7K5gS4vM0i1lFlzbnYrjNuNw2oudarLKs0jdil-Ue9wjwbV5UGkxa7VyTYE6eKNeU2lG7K4aZo5CJp8tDsCXoQg0pk-yBNbTFtMd2DfyXyHEVxt7zXGh9DBgGNx6t1e5dnAeHL6Iwbb0WY6iTOav7XUv1lw/file\n",
      "Resolving ucaa0f89f1345e19d437b7543b93.dl.dropboxusercontent.com (ucaa0f89f1345e19d437b7543b93.dl.dropboxusercontent.com)... 162.125.71.15, 2620:100:6034:15::a27d:540f\n",
      "Connecting to ucaa0f89f1345e19d437b7543b93.dl.dropboxusercontent.com (ucaa0f89f1345e19d437b7543b93.dl.dropboxusercontent.com)|162.125.71.15|:443... connected.\n",
      "HTTP request sent, awaiting response... 200 OK\n",
      "Length: 347946 (340K) [text/plain]\n",
      "Saving to: ‘train.csv’\n",
      "\n",
      "train.csv           100%[===================>] 339.79K   669KB/s    in 0.5s    \n",
      "\n",
      "2022-03-22 18:58:03 (669 KB/s) - ‘train.csv’ saved [347946/347946]\n",
      "\n",
      "--2022-03-22 18:58:03--  https://www.dropbox.com/s/297trreazro8ivr/test_labels.csv\n",
      "Resolving www.dropbox.com (www.dropbox.com)... 162.125.71.18, 2620:100:6034:18::a27d:5412\n",
      "Connecting to www.dropbox.com (www.dropbox.com)|162.125.71.18|:443... connected.\n",
      "HTTP request sent, awaiting response... 301 Moved Permanently\n",
      "Location: /s/raw/297trreazro8ivr/test_labels.csv [following]\n",
      "--2022-03-22 18:58:04--  https://www.dropbox.com/s/raw/297trreazro8ivr/test_labels.csv\n",
      "Reusing existing connection to www.dropbox.com:443.\n",
      "HTTP request sent, awaiting response... 302 Found\n",
      "Location: https://uc5b5bfa78aff9cdb10ca87a714f.dl.dropboxusercontent.com/cd/0/inline/Bh8UhB0DjddJybPBZYlpt9IEoGx1GN2nmbE5tnZdHwHW9PTzy2GpDxA6LdMWwvvtYOrLdahEv1eAVuLhaADOy8YYsCQb_p18QVFLj7OVIiew41StmKACUCTgsvlzRuFBRPIB1aZ5J53QnTP62xTLmwJpMtZh_TKB6A3VyFdMchSCCw/file# [following]\n",
      "--2022-03-22 18:58:05--  https://uc5b5bfa78aff9cdb10ca87a714f.dl.dropboxusercontent.com/cd/0/inline/Bh8UhB0DjddJybPBZYlpt9IEoGx1GN2nmbE5tnZdHwHW9PTzy2GpDxA6LdMWwvvtYOrLdahEv1eAVuLhaADOy8YYsCQb_p18QVFLj7OVIiew41StmKACUCTgsvlzRuFBRPIB1aZ5J53QnTP62xTLmwJpMtZh_TKB6A3VyFdMchSCCw/file\n",
      "Resolving uc5b5bfa78aff9cdb10ca87a714f.dl.dropboxusercontent.com (uc5b5bfa78aff9cdb10ca87a714f.dl.dropboxusercontent.com)... 162.125.71.15, 2620:100:6034:15::a27d:540f\n",
      "Connecting to uc5b5bfa78aff9cdb10ca87a714f.dl.dropboxusercontent.com (uc5b5bfa78aff9cdb10ca87a714f.dl.dropboxusercontent.com)|162.125.71.15|:443... connected.\n",
      "HTTP request sent, awaiting response... 200 OK\n",
      "Length: 102252 (100K) [text/plain]\n",
      "Saving to: ‘test_labels.csv’\n",
      "\n",
      "test_labels.csv     100%[===================>]  99.86K   372KB/s    in 0.3s    \n",
      "\n",
      "2022-03-22 18:58:06 (372 KB/s) - ‘test_labels.csv’ saved [102252/102252]\n",
      "\n"
     ]
    }
   ],
   "source": [
    "!wget https://www.dropbox.com/s/48c34raijlxc0nw/train.csv\n",
    "!wget https://www.dropbox.com/s/297trreazro8ivr/test_labels.csv"
   ]
  },
  {
   "cell_type": "code",
   "execution_count": 3,
   "metadata": {
    "id": "2Vb2iXqFVlIv"
   },
   "outputs": [],
   "source": [
    "DATA_PATH = \"./\"\n",
    "TRAIN_FILE = \"train.csv\"\n",
    "TEST_FILE = \"test_labels.csv\"\n",
    "\n",
    "SMILES_COLUMN = \"smiles\"\n",
    "TARGET_COLUMN = \"Active\""
   ]
  },
  {
   "cell_type": "code",
   "execution_count": 4,
   "metadata": {
    "id": "Wo7p7rlh7nVp"
   },
   "outputs": [],
   "source": [
    "import pandas as pd\n",
    "\n",
    "def load_train_test_data():\n",
    "    train_csv_path = os.path.join(DATA_PATH, TRAIN_FILE)\n",
    "    test_csv_path = os.path.join(DATA_PATH, TEST_FILE)\n",
    "    train_data = pd.read_csv(train_csv_path, index_col = 0)\n",
    "    test_data = pd.read_csv(test_csv_path,index_col = 0)\n",
    "    return train_data.rename(columns = {\"Smiles\":SMILES_COLUMN}), test_data.rename(columns = {\"Smiles\":SMILES_COLUMN})"
   ]
  },
  {
   "cell_type": "markdown",
   "metadata": {
    "id": "d5FULuFD7nVq"
   },
   "source": [
    "## 1.1 Анализ данных, формулировка задачи машинного обучения"
   ]
  },
  {
   "cell_type": "markdown",
   "metadata": {
    "id": "rR7a3bjKYXMg"
   },
   "source": [
    "Молекулы представлены в виде [SMILES нотации](https://en.wikipedia.org/wiki/Simplified_molecular-input_line-entry_system).\n",
    "\n",
    "![](https://upload.wikimedia.org/wikipedia/commons/thumb/0/00/SMILES.png/450px-SMILES.png)"
   ]
  },
  {
   "cell_type": "code",
   "execution_count": 5,
   "metadata": {
    "colab": {
     "base_uri": "https://localhost:8080/",
     "height": 206
    },
    "id": "SFPTy2uU7nVq",
    "outputId": "7b30cc09-19c5-4f30-ebc2-4b2677c9860e"
   },
   "outputs": [
    {
     "data": {
      "text/html": [
       "<div>\n",
       "<style scoped>\n",
       "    .dataframe tbody tr th:only-of-type {\n",
       "        vertical-align: middle;\n",
       "    }\n",
       "\n",
       "    .dataframe tbody tr th {\n",
       "        vertical-align: top;\n",
       "    }\n",
       "\n",
       "    .dataframe thead th {\n",
       "        text-align: right;\n",
       "    }\n",
       "</style>\n",
       "<table border=\"1\" class=\"dataframe\">\n",
       "  <thead>\n",
       "    <tr style=\"text-align: right;\">\n",
       "      <th></th>\n",
       "      <th>smiles</th>\n",
       "      <th>Active</th>\n",
       "    </tr>\n",
       "  </thead>\n",
       "  <tbody>\n",
       "    <tr>\n",
       "      <th>0</th>\n",
       "      <td>COc1ccc2[nH]cc(CCN)c2c1</td>\n",
       "      <td>False</td>\n",
       "    </tr>\n",
       "    <tr>\n",
       "      <th>1</th>\n",
       "      <td>CCCN1CCC[C@H](c2cccc(O)c2)C1.Cl</td>\n",
       "      <td>False</td>\n",
       "    </tr>\n",
       "    <tr>\n",
       "      <th>2</th>\n",
       "      <td>O=C(NO)c1cnc(N2CCN(S(=O)(=O)c3ccc4ccccc4c3)CC2...</td>\n",
       "      <td>False</td>\n",
       "    </tr>\n",
       "    <tr>\n",
       "      <th>3</th>\n",
       "      <td>Nc1cccc(CNC(=O)c2ccc(Oc3ccc(OCc4cccc(F)c4)cc3)...</td>\n",
       "      <td>False</td>\n",
       "    </tr>\n",
       "    <tr>\n",
       "      <th>4</th>\n",
       "      <td>Fc1ccccc1CNCc1ccc(-c2ccnc3[nH]ccc23)cc1</td>\n",
       "      <td>False</td>\n",
       "    </tr>\n",
       "  </tbody>\n",
       "</table>\n",
       "</div>"
      ],
      "text/plain": [
       "                                              smiles  Active\n",
       "0                            COc1ccc2[nH]cc(CCN)c2c1   False\n",
       "1                    CCCN1CCC[C@H](c2cccc(O)c2)C1.Cl   False\n",
       "2  O=C(NO)c1cnc(N2CCN(S(=O)(=O)c3ccc4ccccc4c3)CC2...   False\n",
       "3  Nc1cccc(CNC(=O)c2ccc(Oc3ccc(OCc4cccc(F)c4)cc3)...   False\n",
       "4            Fc1ccccc1CNCc1ccc(-c2ccnc3[nH]ccc23)cc1   False"
      ]
     },
     "execution_count": 5,
     "metadata": {},
     "output_type": "execute_result"
    }
   ],
   "source": [
    "train_data, test_data = load_train_test_data()\n",
    "train_data.head()"
   ]
  },
  {
   "cell_type": "code",
   "execution_count": 6,
   "metadata": {
    "colab": {
     "base_uri": "https://localhost:8080/"
    },
    "id": "0LgIX7sO7nVr",
    "outputId": "2c7b4246-5448-4409-8861-30dd00829dd9"
   },
   "outputs": [
    {
     "name": "stdout",
     "output_type": "stream",
     "text": [
      "<class 'pandas.core.frame.DataFrame'>\n",
      "Int64Index: 5557 entries, 0 to 5556\n",
      "Data columns (total 2 columns):\n",
      " #   Column  Non-Null Count  Dtype \n",
      "---  ------  --------------  ----- \n",
      " 0   smiles  5557 non-null   object\n",
      " 1   Active  5557 non-null   bool  \n",
      "dtypes: bool(1), object(1)\n",
      "memory usage: 92.3+ KB\n"
     ]
    }
   ],
   "source": [
    "train_data.info()"
   ]
  },
  {
   "cell_type": "code",
   "execution_count": 7,
   "metadata": {
    "colab": {
     "base_uri": "https://localhost:8080/"
    },
    "id": "E4y37kGY7nVr",
    "outputId": "fca3a3ad-84be-463a-b5fa-181ac56b7999"
   },
   "outputs": [
    {
     "data": {
      "text/plain": [
       "False    5351\n",
       "True      206\n",
       "Name: Active, dtype: int64"
      ]
     },
     "execution_count": 7,
     "metadata": {},
     "output_type": "execute_result"
    }
   ],
   "source": [
    "train_data[TARGET_COLUMN].value_counts()"
   ]
  },
  {
   "cell_type": "code",
   "execution_count": 9,
   "metadata": {},
   "outputs": [
    {
     "name": "stdout",
     "output_type": "stream",
     "text": [
      "Collecting rdkit-pypi\n",
      "  Using cached rdkit_pypi-2021.9.5.1-cp38-cp38-manylinux_2_17_x86_64.manylinux2014_x86_64.whl (22.5 MB)\n",
      "Requirement already satisfied: Pillow in /home/ivankozlov98/environments/my_env/lib/python3.8/site-packages (from rdkit-pypi) (7.2.0)\n",
      "Requirement already satisfied: numpy>=1.19 in /home/ivankozlov98/environments/my_env/lib/python3.8/site-packages (from rdkit-pypi) (1.19.1)\n",
      "Installing collected packages: rdkit-pypi\n",
      "Successfully installed rdkit-pypi-2021.9.5.1\n",
      "\u001b[33mWARNING: You are using pip version 21.0.1; however, version 22.0.4 is available.\n",
      "You should consider upgrading via the '/home/ivankozlov98/environments/my_env/bin/python -m pip install --upgrade pip' command.\u001b[0m\n"
     ]
    }
   ],
   "source": [
    "!pip3 install rdkit-pypi"
   ]
  },
  {
   "cell_type": "markdown",
   "metadata": {
    "id": "dGqDoviDYJT7"
   },
   "source": [
    "## 1.2 Предобработка данных"
   ]
  },
  {
   "cell_type": "code",
   "execution_count": 10,
   "metadata": {
    "colab": {
     "base_uri": "https://localhost:8080/",
     "height": 322
    },
    "id": "f92T0U7FY2RJ",
    "outputId": "0dee0310-43db-4e01-d11d-19f0b85e1460"
   },
   "outputs": [],
   "source": [
    "from rdkit import Chem\n",
    "from rdkit.Chem.SaltRemover import SaltRemover"
   ]
  },
  {
   "cell_type": "code",
   "execution_count": 11,
   "metadata": {
    "id": "fftxIeZvYN9D"
   },
   "outputs": [],
   "source": [
    "def remove_salts_and_canonicalized(smiles: str):\n",
    "  remover = SaltRemover(defnData=\"[Cl,Br]\")\n",
    "  mol = Chem.MolFromSmiles(smiles)\n",
    "  res = remover.StripMol(mol)\n",
    "  processed_smiles = Chem.MolToSmiles(mol)\n",
    "  return processed_smiles"
   ]
  },
  {
   "cell_type": "code",
   "execution_count": 12,
   "metadata": {
    "id": "JPxDUTZ3bX50"
   },
   "outputs": [],
   "source": [
    "train_data[SMILES_COLUMN] = list(map(remove_salts_and_canonicalized, train_data[SMILES_COLUMN]))\n",
    "test_data[SMILES_COLUMN] = list(map(remove_salts_and_canonicalized, test_data[SMILES_COLUMN]))"
   ]
  },
  {
   "cell_type": "code",
   "execution_count": 13,
   "metadata": {
    "id": "OalSNSQJbnRy"
   },
   "outputs": [],
   "source": [
    "def change_str_target_to_int(targets: pd.Series):\n",
    "  target_map = {True: 1, False: 0}\n",
    "  processed_targets = targets.map(target_map)\n",
    "  return processed_targets.values"
   ]
  },
  {
   "cell_type": "code",
   "execution_count": 14,
   "metadata": {
    "id": "TV2SVaBvbyCJ"
   },
   "outputs": [],
   "source": [
    "train_data[TARGET_COLUMN] = change_str_target_to_int(train_data[TARGET_COLUMN])\n",
    "test_data[TARGET_COLUMN] = change_str_target_to_int(test_data[TARGET_COLUMN])"
   ]
  },
  {
   "cell_type": "code",
   "execution_count": 15,
   "metadata": {
    "colab": {
     "base_uri": "https://localhost:8080/",
     "height": 206
    },
    "id": "qYUE5SVJb74V",
    "outputId": "22276c86-7a09-4896-8f0b-08af8c508b01"
   },
   "outputs": [
    {
     "data": {
      "text/html": [
       "<div>\n",
       "<style scoped>\n",
       "    .dataframe tbody tr th:only-of-type {\n",
       "        vertical-align: middle;\n",
       "    }\n",
       "\n",
       "    .dataframe tbody tr th {\n",
       "        vertical-align: top;\n",
       "    }\n",
       "\n",
       "    .dataframe thead th {\n",
       "        text-align: right;\n",
       "    }\n",
       "</style>\n",
       "<table border=\"1\" class=\"dataframe\">\n",
       "  <thead>\n",
       "    <tr style=\"text-align: right;\">\n",
       "      <th></th>\n",
       "      <th>smiles</th>\n",
       "      <th>Active</th>\n",
       "    </tr>\n",
       "  </thead>\n",
       "  <tbody>\n",
       "    <tr>\n",
       "      <th>0</th>\n",
       "      <td>COc1ccc2[nH]cc(CCN)c2c1</td>\n",
       "      <td>0</td>\n",
       "    </tr>\n",
       "    <tr>\n",
       "      <th>1</th>\n",
       "      <td>CCCN1CCC[C@H](c2cccc(O)c2)C1.Cl</td>\n",
       "      <td>0</td>\n",
       "    </tr>\n",
       "    <tr>\n",
       "      <th>2</th>\n",
       "      <td>O=C(NO)c1cnc(N2CCN(S(=O)(=O)c3ccc4ccccc4c3)CC2...</td>\n",
       "      <td>0</td>\n",
       "    </tr>\n",
       "    <tr>\n",
       "      <th>3</th>\n",
       "      <td>Nc1cccc(CNC(=O)c2ccc(Oc3ccc(OCc4cccc(F)c4)cc3)...</td>\n",
       "      <td>0</td>\n",
       "    </tr>\n",
       "    <tr>\n",
       "      <th>4</th>\n",
       "      <td>Fc1ccccc1CNCc1ccc(-c2ccnc3[nH]ccc23)cc1</td>\n",
       "      <td>0</td>\n",
       "    </tr>\n",
       "  </tbody>\n",
       "</table>\n",
       "</div>"
      ],
      "text/plain": [
       "                                              smiles  Active\n",
       "0                            COc1ccc2[nH]cc(CCN)c2c1       0\n",
       "1                    CCCN1CCC[C@H](c2cccc(O)c2)C1.Cl       0\n",
       "2  O=C(NO)c1cnc(N2CCN(S(=O)(=O)c3ccc4ccccc4c3)CC2...       0\n",
       "3  Nc1cccc(CNC(=O)c2ccc(Oc3ccc(OCc4cccc(F)c4)cc3)...       0\n",
       "4            Fc1ccccc1CNCc1ccc(-c2ccnc3[nH]ccc23)cc1       0"
      ]
     },
     "execution_count": 15,
     "metadata": {},
     "output_type": "execute_result"
    }
   ],
   "source": [
    "#TODO CHECK SaltRemover\n",
    "train_data.head()"
   ]
  },
  {
   "cell_type": "markdown",
   "metadata": {
    "id": "VA5cvAMB7nV0"
   },
   "source": [
    "## 1.3 Feature engineering"
   ]
  },
  {
   "cell_type": "markdown",
   "metadata": {
    "id": "eapoisincy5y"
   },
   "source": [
    "Молекулу можно представить в виде фингерпринта - вектора свойств, полученного по определенному алгоритму.\n",
    "\n",
    "Мы будем считать фингерпринты при помощи библиотеки RDKit. Про различные фингерпринты и их описание можно почитать тут - https://www.rdkit.org/docs/GettingStartedInPython.html#fingerprinting-and-molecular-similarity\n",
    "\n",
    "![](https://sun9-64.userapi.com/impf/_8Zy5WO6Mt0SIPx1YS02DeErAoZ0RHcwgc-kZg/Md98bNVzBg0.jpg?size=831x415&quality=96&sign=cb20481128a04ff523fd662dd0e604ab&type=album)\n"
   ]
  },
  {
   "cell_type": "markdown",
   "metadata": {
    "id": "JGRmKT4GfZhO"
   },
   "source": [
    "### Моргановские фингерпринты (ECFP)\n",
    "\n",
    "![](https://d3i71xaburhd42.cloudfront.net/52adf3589e8b7b9855353e5815669258ef6e3405/6-Figure2-1.png)"
   ]
  },
  {
   "cell_type": "code",
   "execution_count": 16,
   "metadata": {
    "id": "s_dhJG0hcjar"
   },
   "outputs": [],
   "source": [
    "from enum import Enum\n",
    "from functools import partial\n",
    "from rdkit import Chem, DataStructs\n",
    "from rdkit.DataStructs import ExplicitBitVect\n",
    "from rdkit.Chem import AllChem, MACCSkeys\n",
    "from typing import List\n"
   ]
  },
  {
   "cell_type": "code",
   "execution_count": 17,
   "metadata": {
    "id": "fDAw132ncV1z"
   },
   "outputs": [],
   "source": [
    "class FingerprintsNames(Enum):\n",
    "  ECFP4 = \"morgan_2_2048\"\n",
    "  RDKitFP = \"RDKFingerprint\"\n",
    "  TOPOTORSION = \"topological_torsion\"\n",
    "  MACCS = \"MACCSkeys\"\n",
    "  PATTERN = \"PatternFingerprint\"\n",
    "  ATOMPAIR = \"AtomPairFingerprint\"\n",
    "\n",
    "\n",
    "\n",
    "FINGERPRINTS_METHODS = {\n",
    "    FingerprintsNames.ECFP4: partial(AllChem.GetMorganFingerprintAsBitVect, radius=2, nBits=2048),\n",
    "    FingerprintsNames.RDKitFP: Chem.RDKFingerprint,#TODO\n",
    "    FingerprintsNames.TOPOTORSION: AllChem.GetHashedTopologicalTorsionFingerprintAsBitVect,#TODO\n",
    "    FingerprintsNames.MACCS: MACCSkeys.GenMACCSKeys,#TODO\n",
    "    FingerprintsNames.PATTERN: Chem.PatternFingerprint,#TODO\n",
    "    FingerprintsNames.ATOMPAIR: AllChem.GetHashedAtomPairFingerprintAsBitVect}#TODO\n"
   ]
  },
  {
   "cell_type": "code",
   "execution_count": 18,
   "metadata": {
    "id": "JenRUlnqftff"
   },
   "outputs": [],
   "source": [
    "fingerprint_type_name = FingerprintsNames.ECFP4\n",
    "fingerprint_type_method = FINGERPRINTS_METHODS[fingerprint_type_name]"
   ]
  },
  {
   "cell_type": "code",
   "execution_count": 19,
   "metadata": {
    "id": "gq0LMqS_f3IS"
   },
   "outputs": [],
   "source": [
    "def bit_vectors_to_numpy_arrays(fps: List[ExplicitBitVect]) -> np.array:\n",
    "    output_arrays = [np.zeros((1,)) for i in range(len(fps))]\n",
    "    _ = list(\n",
    "        map(lambda fp_output_array: DataStructs.ConvertToNumpyArray(fp_output_array[0], fp_output_array[1]),\n",
    "            zip(fps, output_arrays)))\n",
    "    return np.asarray(output_arrays)\n",
    "\n",
    "def get_np_array_of_fps(fp_type, smiles: List[str]):\n",
    "    # Calculate the morgan fingerprint\n",
    "    mols = [Chem.MolFromSmiles(m) for m in smiles]\n",
    "    fp = list(map(fp_type, mols))\n",
    "    return bit_vectors_to_numpy_arrays(fp)"
   ]
  },
  {
   "cell_type": "code",
   "execution_count": 20,
   "metadata": {
    "id": "51QDqlK9gIPL"
   },
   "outputs": [],
   "source": [
    "train_fp = get_np_array_of_fps(fp_type=fingerprint_type_method, smiles=train_data[SMILES_COLUMN])\n",
    "test_fp = get_np_array_of_fps(fp_type=fingerprint_type_method, smiles=test_data[SMILES_COLUMN])"
   ]
  },
  {
   "cell_type": "code",
   "execution_count": 21,
   "metadata": {
    "id": "UazJXd7ihDaN"
   },
   "outputs": [],
   "source": [
    "y_train = train_data[TARGET_COLUMN]\n",
    "y_test = test_data[TARGET_COLUMN]"
   ]
  },
  {
   "cell_type": "markdown",
   "metadata": {
    "id": "sxGZENW4iK12"
   },
   "source": [
    "# 2. Подготовка к обучению модели"
   ]
  },
  {
   "cell_type": "markdown",
   "metadata": {
    "id": "6Bb6GxjliWoo"
   },
   "source": [
    "## 2.1 Кросс-валидация"
   ]
  },
  {
   "cell_type": "markdown",
   "metadata": {
    "id": "ETyud6zkiWuL"
   },
   "source": [
    "![](https://pubs.rsc.org/image/article/2018/SC/c7sc02664a/c7sc02664a-f3_hi-res.gif)"
   ]
  },
  {
   "cell_type": "code",
   "execution_count": 26,
   "metadata": {},
   "outputs": [
    {
     "name": "stdout",
     "output_type": "stream",
     "text": [
      "Collecting torch\n",
      "  Downloading torch-1.11.0-cp38-cp38-manylinux1_x86_64.whl (750.6 MB)\n",
      "\u001b[K     |████████████████████████████████| 750.6 MB 6.0 kB/s eta 0:00:017   |█                               | 25.9 MB 236 kB/s eta 0:51:00     |█▋                              | 36.6 MB 2.1 MB/s eta 0:05:42     |██▉                             | 65.3 MB 512 kB/s eta 0:22:17     |███                             | 70.6 MB 856 kB/s eta 0:13:14     |███▏                            | 75.5 MB 1.3 MB/s eta 0:08:32     |██████▋                         | 155.6 MB 2.3 MB/s eta 0:04:17     |███████▋                        | 178.6 MB 2.7 MB/s eta 0:03:29     |████████                        | 185.6 MB 3.2 MB/s eta 0:02:59     |██████████▊                     | 251.7 MB 1.7 MB/s eta 0:04:57     |███████████▍                    | 267.5 MB 2.1 MB/s eta 0:03:50     |████████████▍                   | 289.5 MB 1.1 MB/s eta 0:06:54     |████████████▌                   | 293.9 MB 7.3 MB/s eta 0:01:03     |████████████▋                   | 294.6 MB 7.3 MB/s eta 0:01:03     |██████████████▌                 | 338.8 MB 3.2 MB/s eta 0:02:09     |███████████████▍                | 361.0 MB 1.0 MB/s eta 0:06:24     |█████████████████▏              | 401.5 MB 1.1 MB/s eta 0:05:13     |███████████████████▌            | 456.6 MB 2.1 MB/s eta 0:02:18     |███████████████████▋            | 459.7 MB 3.0 MB/s eta 0:01:37     |███████████████████▋            | 459.9 MB 3.0 MB/s eta 0:01:37     |██████████████████████▎         | 523.1 MB 654 kB/s eta 0:05:48     |██████████████████████▊         | 534.0 MB 180 kB/s eta 0:20:03     |███████████████████████         | 538.2 MB 2.9 MB/s eta 0:01:13     |███████████████████████▎        | 545.7 MB 1.1 MB/s eta 0:03:06     |███████████████████████▍        | 547.4 MB 1.1 MB/s eta 0:03:05     |████████████████████████▎       | 569.1 MB 2.8 MB/s eta 0:01:05     |█████████████████████████▋      | 601.0 MB 3.9 MB/s eta 0:00:39     |██████████████████████████▏     | 614.1 MB 2.6 MB/s eta 0:00:53     |████████████████████████████    | 657.0 MB 4.0 MB/s eta 0:00:24     |████████████████████████████▋   | 670.7 MB 2.6 MB/s eta 0:00:31     |████████████████████████████▉   | 675.5 MB 363 kB/s eta 0:03:27     |████████████████████████████▉   | 675.6 MB 363 kB/s eta 0:03:27     |█████████████████████████████   | 681.3 MB 5.0 MB/s eta 0:00:14     |█████████████████████████████▎  | 686.5 MB 9.1 MB/s eta 0:00:08     |█████████████████████████████▊  | 696.7 MB 1.8 MB/s eta 0:00:30     |███████████████████████████████ | 726.2 MB 9.2 MB/s eta 0:00:03     |███████████████████████████████ | 728.4 MB 5.5 MB/s eta 0:00:05\n",
      "\u001b[?25hCollecting typing-extensions\n",
      "  Downloading typing_extensions-4.1.1-py3-none-any.whl (26 kB)\n",
      "Installing collected packages: typing-extensions, torch\n",
      "Successfully installed torch-1.11.0 typing-extensions-4.1.1\n",
      "\u001b[33mWARNING: You are using pip version 21.0.1; however, version 22.0.4 is available.\n",
      "You should consider upgrading via the '/home/ivankozlov98/environments/my_env/bin/python -m pip install --upgrade pip' command.\u001b[0m\n"
     ]
    }
   ],
   "source": [
    "!pip3 install torch"
   ]
  },
  {
   "cell_type": "code",
   "execution_count": 28,
   "metadata": {
    "colab": {
     "base_uri": "https://localhost:8080/"
    },
    "id": "6ODko-1xjg-h",
    "outputId": "1284381e-baea-4fe9-9bde-e649fbc1398d"
   },
   "outputs": [],
   "source": [
    "from dgllife.utils import ScaffoldSplitter"
   ]
  },
  {
   "cell_type": "code",
   "execution_count": 29,
   "metadata": {
    "id": "HKRNnI7Gjaom"
   },
   "outputs": [],
   "source": [
    "class ScaffoldCVSklearn:\n",
    "    def __init__(self, data, k_folds):\n",
    "        self.scaffold_splits = ScaffoldSplitter.k_fold_split(data, k=k_folds)\n",
    "\n",
    "    def split(self):\n",
    "        indices_splits = []\n",
    "        for train_data, val_data in self.scaffold_splits:\n",
    "          train_indices = train_data.indices\n",
    "          val_indices = val_data.indices\n",
    "          indices_splits.append((train_indices, val_indices))\n",
    "        return indices_splits\n",
    "\n",
    "    def convert_data_to_indices(self, dataset):\n",
    "        indices = [index for index, row in dataset.iterrows()]\n",
    "        return indices\n"
   ]
  },
  {
   "cell_type": "code",
   "execution_count": 65,
   "metadata": {},
   "outputs": [],
   "source": [
    "from sklearn.model_selection import ShuffleSplit\n",
    "from sklearn.model_selection import KFold"
   ]
  },
  {
   "cell_type": "code",
   "execution_count": 66,
   "metadata": {
    "colab": {
     "base_uri": "https://localhost:8080/"
    },
    "id": "ZgtmVfTIjkYt",
    "outputId": "da94ee34-5674-4190-a5a5-0202f8be7582"
   },
   "outputs": [],
   "source": [
    "# cv_model = ScaffoldCVSklearn(train_data, k_folds=3) \n",
    "# cv = cv_model.split()\n",
    "cv_model = KFold(n_splits=3) \n",
    "cv = cv_model.split(train_data)"
   ]
  },
  {
   "cell_type": "markdown",
   "metadata": {
    "id": "t3n2DNVWmGwy"
   },
   "source": [
    "## 2.2 Установка модели"
   ]
  },
  {
   "cell_type": "code",
   "execution_count": null,
   "metadata": {
    "id": "5r0a2xyzmXPb"
   },
   "outputs": [],
   "source": [
    "from xgboost import XGBClassifier"
   ]
  },
  {
   "cell_type": "code",
   "execution_count": null,
   "metadata": {
    "id": "UcNAbWj3mOsd"
   },
   "outputs": [],
   "source": [
    "xgb = XGBClassifier(learning_rate=0.02, n_estimators=600, nthread=1, use_label_encoder=False)"
   ]
  },
  {
   "cell_type": "code",
   "execution_count": null,
   "metadata": {
    "id": "2skyVQzSmFi7"
   },
   "outputs": [],
   "source": [
    "params = {\n",
    "        'max_depth': [10],\n",
    "        'n_estimators': [100]\n",
    "    }"
   ]
  },
  {
   "cell_type": "markdown",
   "metadata": {
    "id": "p9LTIVUHmkKH"
   },
   "source": [
    "## 2.3 Поиск параметров"
   ]
  },
  {
   "cell_type": "code",
   "execution_count": 40,
   "metadata": {
    "id": "p4S6qhGXYSYz"
   },
   "outputs": [],
   "source": [
    "from sklearn.model_selection import GridSearchCV"
   ]
  },
  {
   "cell_type": "code",
   "execution_count": 23,
   "metadata": {
    "id": "kOZuGXzdmoGE"
   },
   "outputs": [
    {
     "ename": "NameError",
     "evalue": "name 'GridSearchCV' is not defined",
     "output_type": "error",
     "traceback": [
      "\u001b[0;31m---------------------------------------------------------------------------\u001b[0m",
      "\u001b[0;31mNameError\u001b[0m                                 Traceback (most recent call last)",
      "\u001b[0;32m<ipython-input-23-4a2f02136c57>\u001b[0m in \u001b[0;36m<module>\u001b[0;34m\u001b[0m\n\u001b[0;32m----> 1\u001b[0;31m grid_search = GridSearchCV(xgb, param_grid=params, scoring='accuracy', n_jobs=4,\n\u001b[0m\u001b[1;32m      2\u001b[0m                                cv=cv, verbose=10000)\n",
      "\u001b[0;31mNameError\u001b[0m: name 'GridSearchCV' is not defined"
     ]
    }
   ],
   "source": [
    "grid_search = GridSearchCV(xgb, param_grid=params, scoring='accuracy', n_jobs=4,\n",
    "                               cv=cv, verbose=10000)"
   ]
  },
  {
   "cell_type": "markdown",
   "metadata": {
    "id": "WAkjg3iAmvvI"
   },
   "source": [
    "# Подбор параметров модели"
   ]
  },
  {
   "cell_type": "code",
   "execution_count": 30,
   "metadata": {
    "colab": {
     "base_uri": "https://localhost:8080/"
    },
    "id": "zvUqvA2DuZh7",
    "outputId": "4f8ed2c5-3cff-4eea-c1cb-b4167c696a64"
   },
   "outputs": [
    {
     "name": "stdout",
     "output_type": "stream",
     "text": [
      "\n",
      " Start Grid Search\n",
      "Fitting 3 folds for each of 1 candidates, totalling 3 fits\n"
     ]
    },
    {
     "data": {
      "text/plain": [
       "GridSearchCV(cv=[([5, 6, 13, 81, 96, 126, 149, 160, 163, 175, 194, 196, 230,\n",
       "                   248, 260, 280, 283, 287, 301, 320, 329, 353, 392, 393, 394,\n",
       "                   409, 430, 443, 462, 490, ...],\n",
       "                  [22, 49, 52, 67, 103, 107, 154, 184, 188, 202, 214, 225, 226,\n",
       "                   229, 236, 254, 266, 292, 293, 302, 308, 313, 331, 382, 383,\n",
       "                   402, 454, 474, 477, 482, ...]),\n",
       "                 ([22, 49, 52, 67, 103, 107, 154, 184, 188, 202, 214, 225, 226,\n",
       "                   229, 236, 254, 266, 292, 293, 302, 308, 313, 331,...\n",
       "                   402, 454, 474, 477, 482, ...],\n",
       "                  [170, 537, 714, 962, 1160, 1556, 1726, 1798, 1995, 2549, 2551,\n",
       "                   2639, 2704, 2819, 2933, 3128, 3141, 3156, 3242, 3364, 3397,\n",
       "                   3435, 3474, 3683, 3846, 4470, 4552, 4649, 4674, 4835, ...])],\n",
       "             estimator=XGBClassifier(learning_rate=0.02, n_estimators=600,\n",
       "                                     nthread=1, use_label_encoder=False),\n",
       "             n_jobs=4, param_grid={'max_depth': [10], 'n_estimators': [100]},\n",
       "             scoring='accuracy', verbose=10000)"
      ]
     },
     "execution_count": 30,
     "metadata": {},
     "output_type": "execute_result"
    }
   ],
   "source": [
    "print('\\n Start Grid Search')\n",
    "grid_search.fit(train_fp, y_train)"
   ]
  },
  {
   "cell_type": "code",
   "execution_count": 31,
   "metadata": {
    "colab": {
     "base_uri": "https://localhost:8080/"
    },
    "id": "_jjCU96JmuFR",
    "outputId": "39cb2e67-df94-425d-e408-fc70dadd7a07"
   },
   "outputs": [
    {
     "name": "stdout",
     "output_type": "stream",
     "text": [
      "\n",
      " All results:\n",
      "{'mean_fit_time': array([107.78480299]), 'std_fit_time': array([0.16640527]), 'mean_score_time': array([0.09587534]), 'std_score_time': array([0.03414906]), 'param_max_depth': masked_array(data=[10],\n",
      "             mask=[False],\n",
      "       fill_value='?',\n",
      "            dtype=object), 'param_n_estimators': masked_array(data=[100],\n",
      "             mask=[False],\n",
      "       fill_value='?',\n",
      "            dtype=object), 'params': [{'max_depth': 10, 'n_estimators': 100}], 'split0_test_score': array([0.95412844]), 'split1_test_score': array([0.96706263]), 'split2_test_score': array([0.96976242]), 'mean_test_score': array([0.96365116]), 'std_test_score': array([0.00682319]), 'rank_test_score': array([1], dtype=int32)}\n",
      "\n",
      " Best estimator:\n",
      "XGBClassifier(learning_rate=0.02, max_depth=10, nthread=1,\n",
      "              use_label_encoder=False)\n",
      "\n",
      " Best normalized score\n",
      "0.9636511647875509\n",
      "\n",
      " Best hyperparameters:\n",
      "{'max_depth': 10, 'n_estimators': 100}\n"
     ]
    }
   ],
   "source": [
    "\n",
    "print('\\n All results:')\n",
    "print(grid_search.cv_results_)\n",
    "print('\\n Best estimator:')\n",
    "print(grid_search.best_estimator_)\n",
    "print('\\n Best normalized score')\n",
    "print(grid_search.best_score_)\n",
    "print('\\n Best hyperparameters:')\n",
    "print(grid_search.best_params_)"
   ]
  },
  {
   "cell_type": "markdown",
   "metadata": {
    "id": "knXJz2mdoV9m"
   },
   "source": [
    "# Обучение и оценка модели"
   ]
  },
  {
   "cell_type": "code",
   "execution_count": 32,
   "metadata": {
    "id": "L790fBRZoZf2"
   },
   "outputs": [],
   "source": [
    "xgb = XGBClassifier(max_depth=10, n_estimators=100, learning_rate=0.02,  nthread=1, use_label_encoder=False)"
   ]
  },
  {
   "cell_type": "code",
   "execution_count": 33,
   "metadata": {
    "colab": {
     "base_uri": "https://localhost:8080/"
    },
    "id": "YE1x1_Mqoh09",
    "outputId": "6b5ba62d-51b9-49ec-d27b-50ddc20ec130"
   },
   "outputs": [
    {
     "data": {
      "text/plain": [
       "XGBClassifier(learning_rate=0.02, max_depth=10, nthread=1,\n",
       "              use_label_encoder=False)"
      ]
     },
     "execution_count": 33,
     "metadata": {},
     "output_type": "execute_result"
    }
   ],
   "source": [
    "xgb.fit(train_fp, y_train)"
   ]
  },
  {
   "cell_type": "code",
   "execution_count": 34,
   "metadata": {
    "id": "liD-uHOaojTU"
   },
   "outputs": [],
   "source": [
    "test_predictions = xgb.predict(test_fp)"
   ]
  },
  {
   "cell_type": "code",
   "execution_count": 79,
   "metadata": {
    "id": "kGP02U_uolm-"
   },
   "outputs": [],
   "source": [
    "from sklearn.metrics import f1_score"
   ]
  },
  {
   "cell_type": "code",
   "execution_count": 36,
   "metadata": {
    "colab": {
     "base_uri": "https://localhost:8080/"
    },
    "id": "yDQh30LSotE0",
    "outputId": "20633368-8f36-4e60-f783-c5b9783ea05f"
   },
   "outputs": [
    {
     "name": "stdout",
     "output_type": "stream",
     "text": [
      "Best model test f1 score is 0.265\n"
     ]
    }
   ],
   "source": [
    "score = f1_score(y_test, test_predictions)\n",
    "print(f\"Best model test f1 score is {round(score, 3)}\")"
   ]
  },
  {
   "cell_type": "markdown",
   "metadata": {
    "id": "X3LMIEGPo-Yu"
   },
   "source": [
    "# Задание (10 баллов + 3 бонусных)\n",
    "1. (3 балла) Добавить решение проблемы несбалансированной классификации\n",
    "\n",
    "Варианты:\n",
    "* UnderSampling\n",
    "* OverSampling\n",
    "* SMOTE\n",
    "* Внутренние инструменты модели (`scale_pos_weight`)\n",
    "\n",
    "2. (2 балла) Использовать еще 2 вида фингерпринтов из `FingerprintsNames`\n",
    "\n",
    "3. (3 балла) Получить f1-score на тестовом датасете больше 0.35\n",
    "\n",
    "Варианты:\n",
    "* Увеличить количество параметров в подборе гиперпараметров\n",
    "* Использовать другие алгоритмы подбора гиперпараметров (например, [RandomizedSearch](https://scikit-learn.org/stable/modules/generated/sklearn.model_selection.RandomizedSearchCV.html))\n",
    "* Использовать другие модели (Random Forest, SVC, MLPClassifier, etc)\n",
    "\n",
    "4. (2 балла) Логирование\n",
    "\n",
    "В качестве финального результата предоставьте таблицу (можно `pd.DataFrame`) c колонками: Model, Fingerprint, Best Parameters, Mean Cross-Validation Score, Std Cross-Validation Score, Test Score \n",
    "\n",
    "Проанализируйте результаты: \n",
    "* Какие фингерпринты дали лучший результат?\n",
    "* Какая модель дала лучший результат.\n",
    "* Коррелируют ли скоры на кросс-валидации и тестовой выборке?\n",
    "\n",
    "5. (Бонус +3 балла) Получить f1-score на тестовом датасете больше 0.45"
   ]
  },
  {
   "cell_type": "code",
   "execution_count": 35,
   "metadata": {
    "id": "rtwpUoLprAYb"
   },
   "outputs": [],
   "source": [
    "from catboost import CatBoostClassifier, Pool"
   ]
  },
  {
   "cell_type": "code",
   "execution_count": 179,
   "metadata": {},
   "outputs": [],
   "source": [
    "# False    5351\n",
    "# True      206\n",
    "zero = 5351\n",
    "one = 206\n",
    "scale_pos_weight = (one + zero) / one "
   ]
  },
  {
   "cell_type": "code",
   "execution_count": 216,
   "metadata": {},
   "outputs": [],
   "source": [
    "def task5(fingerprint_method, name_fp, iterations, verbose):\n",
    "    train_fp = get_np_array_of_fps(fp_type=fingerprint_method, smiles=train_data[SMILES_COLUMN])\n",
    "    test_fp = get_np_array_of_fps(fp_type=fingerprint_method, smiles=test_data[SMILES_COLUMN])\n",
    "    model = CatBoostClassifier(depth=7, iterations=iterations, verbose=verbose, learning_rate=0.3, scale_pos_weight=scale_pos_weight, random_state=53)\n",
    "    model.fit(train_fp, y_train)\n",
    "    test_predictions = model.predict(test_fp)\n",
    "    score = f1_score(y_test, test_predictions)\n",
    "    print(f\"For {name_fp}: \")\n",
    "    print(f\"Best model on maccs test f1 score is {round(score, 3)}\")"
   ]
  },
  {
   "cell_type": "code",
   "execution_count": 213,
   "metadata": {
    "id": "JFFOkrzsi_Ro"
   },
   "outputs": [],
   "source": [
    "fingerprint_name_maccs = FingerprintsNames.MACCS\n",
    "fingerprint_name_ATOMPAIR = FingerprintsNames.ATOMPAIR\n",
    "\n",
    "fingerprint_method_maccs = FINGERPRINTS_METHODS[fingerprint_name_maccs]\n",
    "fingerprint_method_ATOMPAIR = FINGERPRINTS_METHODS[fingerprint_name_ATOMPAIR]"
   ]
  },
  {
   "cell_type": "code",
   "execution_count": 214,
   "metadata": {},
   "outputs": [
    {
     "name": "stdout",
     "output_type": "stream",
     "text": [
      "For Maccs: \n",
      "Best model on maccs test f1 score is 0.364\n"
     ]
    }
   ],
   "source": [
    "task5(fingerprint_method_maccs, \"Maccs\", iterations=10000, verbose=False)"
   ]
  },
  {
   "cell_type": "code",
   "execution_count": 217,
   "metadata": {},
   "outputs": [
    {
     "name": "stdout",
     "output_type": "stream",
     "text": [
      "0:\tlearn: 0.6293502\ttotal: 167ms\tremaining: 2m 46s\n",
      "1:\tlearn: 0.5887278\ttotal: 327ms\tremaining: 2m 43s\n",
      "2:\tlearn: 0.5679900\ttotal: 519ms\tremaining: 2m 52s\n",
      "3:\tlearn: 0.5331439\ttotal: 683ms\tremaining: 2m 50s\n",
      "4:\tlearn: 0.5040710\ttotal: 856ms\tremaining: 2m 50s\n",
      "5:\tlearn: 0.4737354\ttotal: 1.02s\tremaining: 2m 49s\n",
      "6:\tlearn: 0.4476091\ttotal: 1.2s\tremaining: 2m 50s\n",
      "7:\tlearn: 0.4307038\ttotal: 1.36s\tremaining: 2m 48s\n",
      "8:\tlearn: 0.4088548\ttotal: 1.53s\tremaining: 2m 48s\n",
      "9:\tlearn: 0.3925072\ttotal: 1.69s\tremaining: 2m 47s\n",
      "10:\tlearn: 0.3870513\ttotal: 1.86s\tremaining: 2m 47s\n",
      "11:\tlearn: 0.3774997\ttotal: 2.02s\tremaining: 2m 46s\n",
      "12:\tlearn: 0.3549959\ttotal: 2.23s\tremaining: 2m 49s\n",
      "13:\tlearn: 0.3438299\ttotal: 2.4s\tremaining: 2m 49s\n",
      "14:\tlearn: 0.3355555\ttotal: 2.58s\tremaining: 2m 49s\n",
      "15:\tlearn: 0.3211676\ttotal: 2.74s\tremaining: 2m 48s\n",
      "16:\tlearn: 0.3155368\ttotal: 2.92s\tremaining: 2m 48s\n",
      "17:\tlearn: 0.2961736\ttotal: 3.08s\tremaining: 2m 47s\n",
      "18:\tlearn: 0.2903274\ttotal: 3.26s\tremaining: 2m 48s\n",
      "19:\tlearn: 0.2805088\ttotal: 3.42s\tremaining: 2m 47s\n",
      "20:\tlearn: 0.2721975\ttotal: 3.6s\tremaining: 2m 47s\n",
      "21:\tlearn: 0.2539704\ttotal: 3.76s\tremaining: 2m 47s\n",
      "22:\tlearn: 0.2448707\ttotal: 3.93s\tremaining: 2m 47s\n",
      "23:\tlearn: 0.2394501\ttotal: 4.1s\tremaining: 2m 46s\n",
      "24:\tlearn: 0.2338266\ttotal: 4.27s\tremaining: 2m 46s\n",
      "25:\tlearn: 0.2279592\ttotal: 4.44s\tremaining: 2m 46s\n",
      "26:\tlearn: 0.2228805\ttotal: 4.62s\tremaining: 2m 46s\n",
      "27:\tlearn: 0.2110006\ttotal: 4.78s\tremaining: 2m 46s\n",
      "28:\tlearn: 0.2051598\ttotal: 4.96s\tremaining: 2m 46s\n",
      "29:\tlearn: 0.1969770\ttotal: 5.13s\tremaining: 2m 45s\n",
      "30:\tlearn: 0.1866408\ttotal: 5.3s\tremaining: 2m 45s\n",
      "31:\tlearn: 0.1762434\ttotal: 5.46s\tremaining: 2m 45s\n",
      "32:\tlearn: 0.1680577\ttotal: 5.64s\tremaining: 2m 45s\n",
      "33:\tlearn: 0.1558602\ttotal: 5.8s\tremaining: 2m 44s\n",
      "34:\tlearn: 0.1441146\ttotal: 5.98s\tremaining: 2m 44s\n",
      "35:\tlearn: 0.1349749\ttotal: 6.14s\tremaining: 2m 44s\n",
      "36:\tlearn: 0.1217662\ttotal: 6.32s\tremaining: 2m 44s\n",
      "37:\tlearn: 0.1149397\ttotal: 6.48s\tremaining: 2m 44s\n",
      "38:\tlearn: 0.1088498\ttotal: 6.66s\tremaining: 2m 44s\n",
      "39:\tlearn: 0.1007710\ttotal: 6.82s\tremaining: 2m 43s\n",
      "40:\tlearn: 0.0926847\ttotal: 7.01s\tremaining: 2m 43s\n",
      "41:\tlearn: 0.0893136\ttotal: 7.17s\tremaining: 2m 43s\n",
      "42:\tlearn: 0.0838623\ttotal: 7.35s\tremaining: 2m 43s\n",
      "43:\tlearn: 0.0783869\ttotal: 7.52s\tremaining: 2m 43s\n",
      "44:\tlearn: 0.0725583\ttotal: 7.71s\tremaining: 2m 43s\n",
      "45:\tlearn: 0.0692959\ttotal: 7.87s\tremaining: 2m 43s\n",
      "46:\tlearn: 0.0658448\ttotal: 8.05s\tremaining: 2m 43s\n",
      "47:\tlearn: 0.0626320\ttotal: 8.21s\tremaining: 2m 42s\n",
      "48:\tlearn: 0.0599109\ttotal: 8.39s\tremaining: 2m 42s\n",
      "49:\tlearn: 0.0569237\ttotal: 8.56s\tremaining: 2m 42s\n",
      "50:\tlearn: 0.0540419\ttotal: 8.73s\tremaining: 2m 42s\n",
      "51:\tlearn: 0.0512650\ttotal: 8.89s\tremaining: 2m 42s\n",
      "52:\tlearn: 0.0481306\ttotal: 9.07s\tremaining: 2m 42s\n",
      "53:\tlearn: 0.0454054\ttotal: 9.23s\tremaining: 2m 41s\n",
      "54:\tlearn: 0.0430347\ttotal: 9.41s\tremaining: 2m 41s\n",
      "55:\tlearn: 0.0415467\ttotal: 9.57s\tremaining: 2m 41s\n",
      "56:\tlearn: 0.0401356\ttotal: 9.76s\tremaining: 2m 41s\n",
      "57:\tlearn: 0.0384194\ttotal: 9.92s\tremaining: 2m 41s\n",
      "58:\tlearn: 0.0367235\ttotal: 10.1s\tremaining: 2m 41s\n",
      "59:\tlearn: 0.0348102\ttotal: 10.3s\tremaining: 2m 40s\n",
      "60:\tlearn: 0.0336794\ttotal: 10.4s\tremaining: 2m 40s\n",
      "61:\tlearn: 0.0322400\ttotal: 10.6s\tremaining: 2m 40s\n",
      "62:\tlearn: 0.0307007\ttotal: 10.8s\tremaining: 2m 40s\n",
      "63:\tlearn: 0.0299433\ttotal: 10.9s\tremaining: 2m 40s\n",
      "64:\tlearn: 0.0289179\ttotal: 11.1s\tremaining: 2m 40s\n",
      "65:\tlearn: 0.0277774\ttotal: 11.3s\tremaining: 2m 39s\n",
      "66:\tlearn: 0.0270320\ttotal: 11.5s\tremaining: 2m 39s\n",
      "67:\tlearn: 0.0265342\ttotal: 11.6s\tremaining: 2m 39s\n",
      "68:\tlearn: 0.0254465\ttotal: 11.8s\tremaining: 2m 39s\n",
      "69:\tlearn: 0.0247356\ttotal: 12s\tremaining: 2m 39s\n",
      "70:\tlearn: 0.0243639\ttotal: 12.2s\tremaining: 2m 39s\n",
      "71:\tlearn: 0.0234122\ttotal: 12.3s\tremaining: 2m 38s\n",
      "72:\tlearn: 0.0228985\ttotal: 12.5s\tremaining: 2m 38s\n",
      "73:\tlearn: 0.0223002\ttotal: 12.7s\tremaining: 2m 38s\n",
      "74:\tlearn: 0.0217005\ttotal: 12.9s\tremaining: 2m 38s\n",
      "75:\tlearn: 0.0208789\ttotal: 13s\tremaining: 2m 38s\n",
      "76:\tlearn: 0.0200655\ttotal: 13.2s\tremaining: 2m 38s\n",
      "77:\tlearn: 0.0195742\ttotal: 13.4s\tremaining: 2m 38s\n",
      "78:\tlearn: 0.0190828\ttotal: 13.6s\tremaining: 2m 38s\n",
      "79:\tlearn: 0.0185914\ttotal: 13.7s\tremaining: 2m 37s\n",
      "80:\tlearn: 0.0179542\ttotal: 13.9s\tremaining: 2m 37s\n",
      "81:\tlearn: 0.0174499\ttotal: 14.1s\tremaining: 2m 37s\n",
      "82:\tlearn: 0.0172854\ttotal: 14.3s\tremaining: 2m 37s\n",
      "83:\tlearn: 0.0170761\ttotal: 14.4s\tremaining: 2m 37s\n",
      "84:\tlearn: 0.0167503\ttotal: 14.6s\tremaining: 2m 37s\n",
      "85:\tlearn: 0.0161259\ttotal: 14.8s\tremaining: 2m 36s\n",
      "86:\tlearn: 0.0156989\ttotal: 14.9s\tremaining: 2m 36s\n",
      "87:\tlearn: 0.0152683\ttotal: 15.1s\tremaining: 2m 36s\n",
      "88:\tlearn: 0.0148919\ttotal: 15.3s\tremaining: 2m 36s\n",
      "89:\tlearn: 0.0146586\ttotal: 15.5s\tremaining: 2m 36s\n",
      "90:\tlearn: 0.0143779\ttotal: 15.6s\tremaining: 2m 36s\n",
      "91:\tlearn: 0.0140091\ttotal: 15.8s\tremaining: 2m 35s\n",
      "92:\tlearn: 0.0138585\ttotal: 16s\tremaining: 2m 35s\n",
      "93:\tlearn: 0.0135888\ttotal: 16.1s\tremaining: 2m 35s\n",
      "94:\tlearn: 0.0133943\ttotal: 16.3s\tremaining: 2m 35s\n",
      "95:\tlearn: 0.0132158\ttotal: 16.5s\tremaining: 2m 35s\n",
      "96:\tlearn: 0.0129355\ttotal: 16.7s\tremaining: 2m 35s\n",
      "97:\tlearn: 0.0126189\ttotal: 16.9s\tremaining: 2m 35s\n",
      "98:\tlearn: 0.0124365\ttotal: 17s\tremaining: 2m 35s\n",
      "99:\tlearn: 0.0122454\ttotal: 17.2s\tremaining: 2m 34s\n",
      "100:\tlearn: 0.0120514\ttotal: 17.4s\tremaining: 2m 34s\n",
      "101:\tlearn: 0.0118677\ttotal: 17.5s\tremaining: 2m 34s\n",
      "102:\tlearn: 0.0116903\ttotal: 17.7s\tremaining: 2m 34s\n",
      "103:\tlearn: 0.0114054\ttotal: 17.9s\tremaining: 2m 34s\n",
      "104:\tlearn: 0.0111637\ttotal: 18.1s\tremaining: 2m 34s\n",
      "105:\tlearn: 0.0109892\ttotal: 18.3s\tremaining: 2m 33s\n",
      "106:\tlearn: 0.0108338\ttotal: 18.5s\tremaining: 2m 34s\n",
      "107:\tlearn: 0.0106954\ttotal: 18.6s\tremaining: 2m 33s\n",
      "108:\tlearn: 0.0106209\ttotal: 18.8s\tremaining: 2m 33s\n",
      "109:\tlearn: 0.0104776\ttotal: 19s\tremaining: 2m 33s\n",
      "110:\tlearn: 0.0104775\ttotal: 19.1s\tremaining: 2m 33s\n",
      "111:\tlearn: 0.0104772\ttotal: 19.3s\tremaining: 2m 33s\n",
      "112:\tlearn: 0.0102843\ttotal: 19.5s\tremaining: 2m 33s\n",
      "113:\tlearn: 0.0101732\ttotal: 19.7s\tremaining: 2m 32s\n",
      "114:\tlearn: 0.0099724\ttotal: 19.8s\tremaining: 2m 32s\n",
      "115:\tlearn: 0.0098368\ttotal: 20s\tremaining: 2m 32s\n",
      "116:\tlearn: 0.0096880\ttotal: 20.2s\tremaining: 2m 32s\n",
      "117:\tlearn: 0.0096285\ttotal: 20.4s\tremaining: 2m 32s\n",
      "118:\tlearn: 0.0094843\ttotal: 20.5s\tremaining: 2m 32s\n",
      "119:\tlearn: 0.0093904\ttotal: 20.7s\tremaining: 2m 31s\n",
      "120:\tlearn: 0.0091112\ttotal: 20.9s\tremaining: 2m 31s\n",
      "121:\tlearn: 0.0090550\ttotal: 21.1s\tremaining: 2m 31s\n",
      "122:\tlearn: 0.0089614\ttotal: 21.2s\tremaining: 2m 31s\n",
      "123:\tlearn: 0.0089611\ttotal: 21.4s\tremaining: 2m 31s\n",
      "124:\tlearn: 0.0088221\ttotal: 21.6s\tremaining: 2m 30s\n",
      "125:\tlearn: 0.0087599\ttotal: 21.8s\tremaining: 2m 30s\n",
      "126:\tlearn: 0.0086970\ttotal: 22s\tremaining: 2m 30s\n",
      "127:\tlearn: 0.0086121\ttotal: 22.1s\tremaining: 2m 30s\n",
      "128:\tlearn: 0.0085131\ttotal: 22.4s\tremaining: 2m 31s\n",
      "129:\tlearn: 0.0084045\ttotal: 22.6s\tremaining: 2m 31s\n",
      "130:\tlearn: 0.0083328\ttotal: 22.8s\tremaining: 2m 31s\n",
      "131:\tlearn: 0.0082175\ttotal: 23s\tremaining: 2m 31s\n",
      "132:\tlearn: 0.0082175\ttotal: 23.2s\tremaining: 2m 31s\n",
      "133:\tlearn: 0.0082175\ttotal: 23.5s\tremaining: 2m 31s\n",
      "134:\tlearn: 0.0082174\ttotal: 23.7s\tremaining: 2m 31s\n",
      "135:\tlearn: 0.0082173\ttotal: 23.9s\tremaining: 2m 31s\n",
      "136:\tlearn: 0.0082173\ttotal: 24.1s\tremaining: 2m 31s\n",
      "137:\tlearn: 0.0082173\ttotal: 24.3s\tremaining: 2m 31s\n",
      "138:\tlearn: 0.0081771\ttotal: 24.4s\tremaining: 2m 31s\n",
      "139:\tlearn: 0.0081299\ttotal: 24.6s\tremaining: 2m 31s\n",
      "140:\tlearn: 0.0081298\ttotal: 24.9s\tremaining: 2m 31s\n",
      "141:\tlearn: 0.0080825\ttotal: 25.1s\tremaining: 2m 31s\n",
      "142:\tlearn: 0.0080038\ttotal: 25.3s\tremaining: 2m 31s\n",
      "143:\tlearn: 0.0079121\ttotal: 25.4s\tremaining: 2m 31s\n",
      "144:\tlearn: 0.0078427\ttotal: 25.6s\tremaining: 2m 31s\n",
      "145:\tlearn: 0.0077909\ttotal: 25.8s\tremaining: 2m 30s\n",
      "146:\tlearn: 0.0076955\ttotal: 26s\tremaining: 2m 30s\n",
      "147:\tlearn: 0.0076592\ttotal: 26.1s\tremaining: 2m 30s\n",
      "148:\tlearn: 0.0075898\ttotal: 26.3s\tremaining: 2m 30s\n",
      "149:\tlearn: 0.0075241\ttotal: 26.5s\tremaining: 2m 30s\n",
      "150:\tlearn: 0.0075241\ttotal: 26.7s\tremaining: 2m 29s\n",
      "151:\tlearn: 0.0074940\ttotal: 26.9s\tremaining: 2m 29s\n",
      "152:\tlearn: 0.0074502\ttotal: 27.1s\tremaining: 2m 29s\n",
      "153:\tlearn: 0.0073697\ttotal: 27.3s\tremaining: 2m 29s\n",
      "154:\tlearn: 0.0073025\ttotal: 27.4s\tremaining: 2m 29s\n",
      "155:\tlearn: 0.0072570\ttotal: 27.7s\tremaining: 2m 29s\n",
      "156:\tlearn: 0.0071991\ttotal: 27.9s\tremaining: 2m 29s\n",
      "157:\tlearn: 0.0071600\ttotal: 28.1s\tremaining: 2m 29s\n",
      "158:\tlearn: 0.0071600\ttotal: 28.2s\tremaining: 2m 29s\n"
     ]
    },
    {
     "name": "stdout",
     "output_type": "stream",
     "text": [
      "159:\tlearn: 0.0071600\ttotal: 28.4s\tremaining: 2m 29s\n",
      "160:\tlearn: 0.0071599\ttotal: 28.6s\tremaining: 2m 28s\n",
      "161:\tlearn: 0.0071282\ttotal: 28.7s\tremaining: 2m 28s\n",
      "162:\tlearn: 0.0070760\ttotal: 28.9s\tremaining: 2m 28s\n",
      "163:\tlearn: 0.0069830\ttotal: 29.1s\tremaining: 2m 28s\n",
      "164:\tlearn: 0.0069437\ttotal: 29.3s\tremaining: 2m 28s\n",
      "165:\tlearn: 0.0069437\ttotal: 29.4s\tremaining: 2m 27s\n",
      "166:\tlearn: 0.0068643\ttotal: 29.6s\tremaining: 2m 27s\n",
      "167:\tlearn: 0.0068642\ttotal: 29.8s\tremaining: 2m 27s\n",
      "168:\tlearn: 0.0068642\ttotal: 29.9s\tremaining: 2m 27s\n",
      "169:\tlearn: 0.0068641\ttotal: 30.1s\tremaining: 2m 27s\n",
      "170:\tlearn: 0.0068641\ttotal: 30.3s\tremaining: 2m 26s\n",
      "171:\tlearn: 0.0068150\ttotal: 30.5s\tremaining: 2m 26s\n",
      "172:\tlearn: 0.0068150\ttotal: 30.6s\tremaining: 2m 26s\n",
      "173:\tlearn: 0.0068150\ttotal: 30.8s\tremaining: 2m 26s\n",
      "174:\tlearn: 0.0068150\ttotal: 31s\tremaining: 2m 26s\n",
      "175:\tlearn: 0.0068150\ttotal: 31.2s\tremaining: 2m 26s\n",
      "176:\tlearn: 0.0068148\ttotal: 31.4s\tremaining: 2m 25s\n",
      "177:\tlearn: 0.0068148\ttotal: 31.6s\tremaining: 2m 25s\n",
      "178:\tlearn: 0.0068148\ttotal: 31.8s\tremaining: 2m 25s\n",
      "179:\tlearn: 0.0068147\ttotal: 32s\tremaining: 2m 25s\n",
      "180:\tlearn: 0.0068147\ttotal: 32.2s\tremaining: 2m 25s\n",
      "181:\tlearn: 0.0067973\ttotal: 32.3s\tremaining: 2m 25s\n",
      "182:\tlearn: 0.0067386\ttotal: 32.5s\tremaining: 2m 25s\n",
      "183:\tlearn: 0.0067385\ttotal: 32.7s\tremaining: 2m 24s\n",
      "184:\tlearn: 0.0067385\ttotal: 32.9s\tremaining: 2m 24s\n",
      "185:\tlearn: 0.0067385\ttotal: 33.1s\tremaining: 2m 24s\n",
      "186:\tlearn: 0.0066928\ttotal: 33.3s\tremaining: 2m 24s\n",
      "187:\tlearn: 0.0066928\ttotal: 33.5s\tremaining: 2m 24s\n",
      "188:\tlearn: 0.0066927\ttotal: 33.7s\tremaining: 2m 24s\n",
      "189:\tlearn: 0.0066927\ttotal: 33.9s\tremaining: 2m 24s\n",
      "190:\tlearn: 0.0066927\ttotal: 34.1s\tremaining: 2m 24s\n",
      "191:\tlearn: 0.0066927\ttotal: 34.2s\tremaining: 2m 24s\n",
      "192:\tlearn: 0.0066927\ttotal: 34.4s\tremaining: 2m 23s\n",
      "193:\tlearn: 0.0066646\ttotal: 34.6s\tremaining: 2m 23s\n",
      "194:\tlearn: 0.0066646\ttotal: 34.8s\tremaining: 2m 23s\n",
      "195:\tlearn: 0.0066646\ttotal: 34.9s\tremaining: 2m 23s\n",
      "196:\tlearn: 0.0066646\ttotal: 35.1s\tremaining: 2m 23s\n",
      "197:\tlearn: 0.0066646\ttotal: 35.3s\tremaining: 2m 22s\n",
      "198:\tlearn: 0.0066641\ttotal: 35.4s\tremaining: 2m 22s\n",
      "199:\tlearn: 0.0066641\ttotal: 35.6s\tremaining: 2m 22s\n",
      "200:\tlearn: 0.0066640\ttotal: 35.8s\tremaining: 2m 22s\n",
      "201:\tlearn: 0.0066231\ttotal: 36s\tremaining: 2m 22s\n",
      "202:\tlearn: 0.0066229\ttotal: 36.1s\tremaining: 2m 21s\n",
      "203:\tlearn: 0.0066229\ttotal: 36.3s\tremaining: 2m 21s\n",
      "204:\tlearn: 0.0066229\ttotal: 36.5s\tremaining: 2m 21s\n",
      "205:\tlearn: 0.0066229\ttotal: 36.6s\tremaining: 2m 21s\n",
      "206:\tlearn: 0.0066229\ttotal: 36.8s\tremaining: 2m 20s\n",
      "207:\tlearn: 0.0066229\ttotal: 37s\tremaining: 2m 20s\n",
      "208:\tlearn: 0.0066229\ttotal: 37.1s\tremaining: 2m 20s\n",
      "209:\tlearn: 0.0066227\ttotal: 37.4s\tremaining: 2m 20s\n",
      "210:\tlearn: 0.0066227\ttotal: 37.6s\tremaining: 2m 20s\n",
      "211:\tlearn: 0.0066227\ttotal: 37.8s\tremaining: 2m 20s\n",
      "212:\tlearn: 0.0066227\ttotal: 38s\tremaining: 2m 20s\n",
      "213:\tlearn: 0.0066227\ttotal: 38.3s\tremaining: 2m 20s\n",
      "214:\tlearn: 0.0066227\ttotal: 38.5s\tremaining: 2m 20s\n",
      "215:\tlearn: 0.0066227\ttotal: 38.7s\tremaining: 2m 20s\n",
      "216:\tlearn: 0.0066227\ttotal: 38.8s\tremaining: 2m 20s\n",
      "217:\tlearn: 0.0066227\ttotal: 39s\tremaining: 2m 19s\n",
      "218:\tlearn: 0.0066227\ttotal: 39.2s\tremaining: 2m 19s\n",
      "219:\tlearn: 0.0066226\ttotal: 39.3s\tremaining: 2m 19s\n",
      "220:\tlearn: 0.0066226\ttotal: 39.5s\tremaining: 2m 19s\n",
      "221:\tlearn: 0.0066226\ttotal: 39.7s\tremaining: 2m 19s\n",
      "222:\tlearn: 0.0066226\ttotal: 39.9s\tremaining: 2m 18s\n",
      "223:\tlearn: 0.0066226\ttotal: 40s\tremaining: 2m 18s\n",
      "224:\tlearn: 0.0066226\ttotal: 40.2s\tremaining: 2m 18s\n",
      "225:\tlearn: 0.0066226\ttotal: 40.4s\tremaining: 2m 18s\n",
      "226:\tlearn: 0.0066226\ttotal: 40.5s\tremaining: 2m 18s\n",
      "227:\tlearn: 0.0066226\ttotal: 40.7s\tremaining: 2m 17s\n",
      "228:\tlearn: 0.0066226\ttotal: 40.9s\tremaining: 2m 17s\n",
      "229:\tlearn: 0.0066225\ttotal: 41s\tremaining: 2m 17s\n",
      "230:\tlearn: 0.0065715\ttotal: 41.2s\tremaining: 2m 17s\n",
      "231:\tlearn: 0.0065714\ttotal: 41.4s\tremaining: 2m 16s\n",
      "232:\tlearn: 0.0065320\ttotal: 41.6s\tremaining: 2m 16s\n",
      "233:\tlearn: 0.0065320\ttotal: 41.7s\tremaining: 2m 16s\n",
      "234:\tlearn: 0.0065320\ttotal: 41.9s\tremaining: 2m 16s\n",
      "235:\tlearn: 0.0065320\ttotal: 42.1s\tremaining: 2m 16s\n",
      "236:\tlearn: 0.0065319\ttotal: 42.2s\tremaining: 2m 16s\n",
      "237:\tlearn: 0.0065318\ttotal: 42.4s\tremaining: 2m 15s\n",
      "238:\tlearn: 0.0065316\ttotal: 42.6s\tremaining: 2m 15s\n",
      "239:\tlearn: 0.0064784\ttotal: 42.8s\tremaining: 2m 15s\n",
      "240:\tlearn: 0.0064784\ttotal: 43s\tremaining: 2m 15s\n",
      "241:\tlearn: 0.0064783\ttotal: 43.2s\tremaining: 2m 15s\n",
      "242:\tlearn: 0.0064783\ttotal: 43.4s\tremaining: 2m 15s\n",
      "243:\tlearn: 0.0064782\ttotal: 43.5s\tremaining: 2m 14s\n",
      "244:\tlearn: 0.0064782\ttotal: 43.7s\tremaining: 2m 14s\n",
      "245:\tlearn: 0.0064782\ttotal: 43.9s\tremaining: 2m 14s\n",
      "246:\tlearn: 0.0064781\ttotal: 44.1s\tremaining: 2m 14s\n",
      "247:\tlearn: 0.0064781\ttotal: 44.2s\tremaining: 2m 14s\n",
      "248:\tlearn: 0.0064781\ttotal: 44.4s\tremaining: 2m 13s\n",
      "249:\tlearn: 0.0064781\ttotal: 44.6s\tremaining: 2m 13s\n",
      "250:\tlearn: 0.0064781\ttotal: 44.8s\tremaining: 2m 13s\n",
      "251:\tlearn: 0.0064779\ttotal: 45s\tremaining: 2m 13s\n",
      "252:\tlearn: 0.0064779\ttotal: 45.1s\tremaining: 2m 13s\n",
      "253:\tlearn: 0.0064778\ttotal: 45.3s\tremaining: 2m 13s\n",
      "254:\tlearn: 0.0064777\ttotal: 45.5s\tremaining: 2m 12s\n",
      "255:\tlearn: 0.0064777\ttotal: 45.7s\tremaining: 2m 12s\n",
      "256:\tlearn: 0.0064776\ttotal: 45.8s\tremaining: 2m 12s\n",
      "257:\tlearn: 0.0064776\ttotal: 46s\tremaining: 2m 12s\n",
      "258:\tlearn: 0.0064776\ttotal: 46.2s\tremaining: 2m 12s\n",
      "259:\tlearn: 0.0064776\ttotal: 46.3s\tremaining: 2m 11s\n",
      "260:\tlearn: 0.0064776\ttotal: 46.5s\tremaining: 2m 11s\n",
      "261:\tlearn: 0.0064775\ttotal: 46.7s\tremaining: 2m 11s\n",
      "262:\tlearn: 0.0064775\ttotal: 46.9s\tremaining: 2m 11s\n",
      "263:\tlearn: 0.0064775\ttotal: 47s\tremaining: 2m 11s\n",
      "264:\tlearn: 0.0064775\ttotal: 47.2s\tremaining: 2m 10s\n",
      "265:\tlearn: 0.0064775\ttotal: 47.4s\tremaining: 2m 10s\n",
      "266:\tlearn: 0.0064775\ttotal: 47.5s\tremaining: 2m 10s\n",
      "267:\tlearn: 0.0064775\ttotal: 47.7s\tremaining: 2m 10s\n",
      "268:\tlearn: 0.0064775\ttotal: 47.9s\tremaining: 2m 10s\n",
      "269:\tlearn: 0.0064774\ttotal: 48s\tremaining: 2m 9s\n",
      "270:\tlearn: 0.0064774\ttotal: 48.2s\tremaining: 2m 9s\n",
      "271:\tlearn: 0.0064774\ttotal: 48.4s\tremaining: 2m 9s\n",
      "272:\tlearn: 0.0064774\ttotal: 48.6s\tremaining: 2m 9s\n",
      "273:\tlearn: 0.0064774\ttotal: 48.7s\tremaining: 2m 9s\n",
      "274:\tlearn: 0.0064773\ttotal: 48.9s\tremaining: 2m 8s\n",
      "275:\tlearn: 0.0064773\ttotal: 49.1s\tremaining: 2m 8s\n",
      "276:\tlearn: 0.0064773\ttotal: 49.2s\tremaining: 2m 8s\n",
      "277:\tlearn: 0.0064773\ttotal: 49.4s\tremaining: 2m 8s\n",
      "278:\tlearn: 0.0064772\ttotal: 49.6s\tremaining: 2m 8s\n",
      "279:\tlearn: 0.0064327\ttotal: 49.8s\tremaining: 2m 7s\n",
      "280:\tlearn: 0.0064327\ttotal: 49.9s\tremaining: 2m 7s\n",
      "281:\tlearn: 0.0064327\ttotal: 50.1s\tremaining: 2m 7s\n",
      "282:\tlearn: 0.0064326\ttotal: 50.3s\tremaining: 2m 7s\n",
      "283:\tlearn: 0.0064325\ttotal: 50.4s\tremaining: 2m 7s\n",
      "284:\tlearn: 0.0064325\ttotal: 50.6s\tremaining: 2m 6s\n",
      "285:\tlearn: 0.0064325\ttotal: 50.8s\tremaining: 2m 6s\n",
      "286:\tlearn: 0.0064325\ttotal: 50.9s\tremaining: 2m 6s\n",
      "287:\tlearn: 0.0064313\ttotal: 51.1s\tremaining: 2m 6s\n",
      "288:\tlearn: 0.0064312\ttotal: 51.3s\tremaining: 2m 6s\n",
      "289:\tlearn: 0.0064311\ttotal: 51.5s\tremaining: 2m 5s\n",
      "290:\tlearn: 0.0064311\ttotal: 51.6s\tremaining: 2m 5s\n",
      "291:\tlearn: 0.0064311\ttotal: 51.8s\tremaining: 2m 5s\n",
      "292:\tlearn: 0.0064310\ttotal: 52s\tremaining: 2m 5s\n",
      "293:\tlearn: 0.0064310\ttotal: 52.2s\tremaining: 2m 5s\n",
      "294:\tlearn: 0.0064309\ttotal: 52.3s\tremaining: 2m 5s\n",
      "295:\tlearn: 0.0064309\ttotal: 52.5s\tremaining: 2m 4s\n",
      "296:\tlearn: 0.0064309\ttotal: 52.7s\tremaining: 2m 4s\n",
      "297:\tlearn: 0.0064309\ttotal: 52.9s\tremaining: 2m 4s\n",
      "298:\tlearn: 0.0064308\ttotal: 53s\tremaining: 2m 4s\n",
      "299:\tlearn: 0.0064308\ttotal: 53.2s\tremaining: 2m 4s\n",
      "300:\tlearn: 0.0064308\ttotal: 53.4s\tremaining: 2m 3s\n",
      "301:\tlearn: 0.0064307\ttotal: 53.6s\tremaining: 2m 3s\n",
      "302:\tlearn: 0.0064307\ttotal: 53.7s\tremaining: 2m 3s\n",
      "303:\tlearn: 0.0064306\ttotal: 53.9s\tremaining: 2m 3s\n",
      "304:\tlearn: 0.0064304\ttotal: 54.1s\tremaining: 2m 3s\n",
      "305:\tlearn: 0.0064304\ttotal: 54.3s\tremaining: 2m 3s\n",
      "306:\tlearn: 0.0064303\ttotal: 54.4s\tremaining: 2m 2s\n",
      "307:\tlearn: 0.0064302\ttotal: 54.6s\tremaining: 2m 2s\n",
      "308:\tlearn: 0.0064302\ttotal: 54.8s\tremaining: 2m 2s\n",
      "309:\tlearn: 0.0064301\ttotal: 54.9s\tremaining: 2m 2s\n",
      "310:\tlearn: 0.0064001\ttotal: 55.1s\tremaining: 2m 2s\n",
      "311:\tlearn: 0.0064001\ttotal: 55.3s\tremaining: 2m 1s\n",
      "312:\tlearn: 0.0064001\ttotal: 55.4s\tremaining: 2m 1s\n",
      "313:\tlearn: 0.0064001\ttotal: 55.6s\tremaining: 2m 1s\n",
      "314:\tlearn: 0.0063999\ttotal: 55.8s\tremaining: 2m 1s\n",
      "315:\tlearn: 0.0063514\ttotal: 56s\tremaining: 2m 1s\n",
      "316:\tlearn: 0.0063513\ttotal: 56.1s\tremaining: 2m\n"
     ]
    },
    {
     "name": "stdout",
     "output_type": "stream",
     "text": [
      "317:\tlearn: 0.0063513\ttotal: 56.3s\tremaining: 2m\n",
      "318:\tlearn: 0.0063513\ttotal: 56.5s\tremaining: 2m\n",
      "319:\tlearn: 0.0063513\ttotal: 56.7s\tremaining: 2m\n",
      "320:\tlearn: 0.0063511\ttotal: 56.9s\tremaining: 2m\n",
      "321:\tlearn: 0.0063511\ttotal: 57.1s\tremaining: 2m\n",
      "322:\tlearn: 0.0063511\ttotal: 57.2s\tremaining: 1m 59s\n",
      "323:\tlearn: 0.0063510\ttotal: 57.4s\tremaining: 1m 59s\n",
      "324:\tlearn: 0.0063510\ttotal: 57.6s\tremaining: 1m 59s\n",
      "325:\tlearn: 0.0063510\ttotal: 57.8s\tremaining: 1m 59s\n",
      "326:\tlearn: 0.0063510\ttotal: 57.9s\tremaining: 1m 59s\n",
      "327:\tlearn: 0.0063510\ttotal: 58.1s\tremaining: 1m 59s\n",
      "328:\tlearn: 0.0063510\ttotal: 58.3s\tremaining: 1m 58s\n",
      "329:\tlearn: 0.0063510\ttotal: 58.5s\tremaining: 1m 58s\n",
      "330:\tlearn: 0.0063111\ttotal: 58.7s\tremaining: 1m 58s\n",
      "331:\tlearn: 0.0063111\ttotal: 58.9s\tremaining: 1m 58s\n",
      "332:\tlearn: 0.0063111\ttotal: 59s\tremaining: 1m 58s\n",
      "333:\tlearn: 0.0063110\ttotal: 59.3s\tremaining: 1m 58s\n",
      "334:\tlearn: 0.0063110\ttotal: 59.5s\tremaining: 1m 58s\n",
      "335:\tlearn: 0.0063109\ttotal: 59.7s\tremaining: 1m 57s\n",
      "336:\tlearn: 0.0063109\ttotal: 59.9s\tremaining: 1m 57s\n",
      "337:\tlearn: 0.0063109\ttotal: 1m\tremaining: 1m 57s\n",
      "338:\tlearn: 0.0063106\ttotal: 1m\tremaining: 1m 57s\n",
      "339:\tlearn: 0.0063106\ttotal: 1m\tremaining: 1m 57s\n",
      "340:\tlearn: 0.0063106\ttotal: 1m\tremaining: 1m 57s\n",
      "341:\tlearn: 0.0063105\ttotal: 1m\tremaining: 1m 57s\n",
      "342:\tlearn: 0.0063105\ttotal: 1m\tremaining: 1m 56s\n",
      "343:\tlearn: 0.0063105\ttotal: 1m 1s\tremaining: 1m 56s\n",
      "344:\tlearn: 0.0063105\ttotal: 1m 1s\tremaining: 1m 56s\n",
      "345:\tlearn: 0.0063105\ttotal: 1m 1s\tremaining: 1m 56s\n",
      "346:\tlearn: 0.0063105\ttotal: 1m 1s\tremaining: 1m 56s\n",
      "347:\tlearn: 0.0063105\ttotal: 1m 1s\tremaining: 1m 56s\n",
      "348:\tlearn: 0.0063105\ttotal: 1m 2s\tremaining: 1m 56s\n",
      "349:\tlearn: 0.0063105\ttotal: 1m 2s\tremaining: 1m 56s\n",
      "350:\tlearn: 0.0063105\ttotal: 1m 2s\tremaining: 1m 56s\n",
      "351:\tlearn: 0.0063104\ttotal: 1m 2s\tremaining: 1m 55s\n",
      "352:\tlearn: 0.0063104\ttotal: 1m 3s\tremaining: 1m 55s\n",
      "353:\tlearn: 0.0063104\ttotal: 1m 3s\tremaining: 1m 55s\n",
      "354:\tlearn: 0.0062695\ttotal: 1m 3s\tremaining: 1m 55s\n",
      "355:\tlearn: 0.0062695\ttotal: 1m 3s\tremaining: 1m 55s\n",
      "356:\tlearn: 0.0062695\ttotal: 1m 4s\tremaining: 1m 55s\n",
      "357:\tlearn: 0.0062695\ttotal: 1m 4s\tremaining: 1m 55s\n",
      "358:\tlearn: 0.0062695\ttotal: 1m 4s\tremaining: 1m 55s\n",
      "359:\tlearn: 0.0062695\ttotal: 1m 4s\tremaining: 1m 55s\n",
      "360:\tlearn: 0.0062695\ttotal: 1m 4s\tremaining: 1m 55s\n",
      "361:\tlearn: 0.0062695\ttotal: 1m 5s\tremaining: 1m 54s\n",
      "362:\tlearn: 0.0062695\ttotal: 1m 5s\tremaining: 1m 54s\n",
      "363:\tlearn: 0.0062695\ttotal: 1m 5s\tremaining: 1m 54s\n",
      "364:\tlearn: 0.0062695\ttotal: 1m 5s\tremaining: 1m 54s\n",
      "365:\tlearn: 0.0062695\ttotal: 1m 5s\tremaining: 1m 54s\n",
      "366:\tlearn: 0.0062695\ttotal: 1m 6s\tremaining: 1m 54s\n",
      "367:\tlearn: 0.0062695\ttotal: 1m 6s\tremaining: 1m 53s\n",
      "368:\tlearn: 0.0062695\ttotal: 1m 6s\tremaining: 1m 53s\n",
      "369:\tlearn: 0.0062695\ttotal: 1m 6s\tremaining: 1m 53s\n",
      "370:\tlearn: 0.0062695\ttotal: 1m 6s\tremaining: 1m 53s\n",
      "371:\tlearn: 0.0062695\ttotal: 1m 7s\tremaining: 1m 53s\n",
      "372:\tlearn: 0.0062695\ttotal: 1m 7s\tremaining: 1m 52s\n",
      "373:\tlearn: 0.0062695\ttotal: 1m 7s\tremaining: 1m 52s\n",
      "374:\tlearn: 0.0062695\ttotal: 1m 7s\tremaining: 1m 52s\n",
      "375:\tlearn: 0.0062695\ttotal: 1m 7s\tremaining: 1m 52s\n",
      "376:\tlearn: 0.0062695\ttotal: 1m 7s\tremaining: 1m 52s\n",
      "377:\tlearn: 0.0062694\ttotal: 1m 8s\tremaining: 1m 51s\n",
      "378:\tlearn: 0.0062694\ttotal: 1m 8s\tremaining: 1m 51s\n",
      "379:\tlearn: 0.0062694\ttotal: 1m 8s\tremaining: 1m 51s\n",
      "380:\tlearn: 0.0062694\ttotal: 1m 8s\tremaining: 1m 51s\n",
      "381:\tlearn: 0.0062694\ttotal: 1m 8s\tremaining: 1m 51s\n",
      "382:\tlearn: 0.0062694\ttotal: 1m 8s\tremaining: 1m 50s\n",
      "383:\tlearn: 0.0062694\ttotal: 1m 9s\tremaining: 1m 50s\n",
      "384:\tlearn: 0.0062693\ttotal: 1m 9s\tremaining: 1m 50s\n",
      "385:\tlearn: 0.0062693\ttotal: 1m 9s\tremaining: 1m 50s\n",
      "386:\tlearn: 0.0062693\ttotal: 1m 9s\tremaining: 1m 50s\n",
      "387:\tlearn: 0.0062693\ttotal: 1m 9s\tremaining: 1m 50s\n",
      "388:\tlearn: 0.0062693\ttotal: 1m 9s\tremaining: 1m 49s\n",
      "389:\tlearn: 0.0062692\ttotal: 1m 10s\tremaining: 1m 49s\n",
      "390:\tlearn: 0.0062692\ttotal: 1m 10s\tremaining: 1m 49s\n",
      "391:\tlearn: 0.0062691\ttotal: 1m 10s\tremaining: 1m 49s\n",
      "392:\tlearn: 0.0062686\ttotal: 1m 10s\tremaining: 1m 49s\n",
      "393:\tlearn: 0.0062686\ttotal: 1m 10s\tremaining: 1m 48s\n",
      "394:\tlearn: 0.0062686\ttotal: 1m 10s\tremaining: 1m 48s\n",
      "395:\tlearn: 0.0062686\ttotal: 1m 11s\tremaining: 1m 48s\n",
      "396:\tlearn: 0.0062686\ttotal: 1m 11s\tremaining: 1m 48s\n",
      "397:\tlearn: 0.0062686\ttotal: 1m 11s\tremaining: 1m 48s\n",
      "398:\tlearn: 0.0062686\ttotal: 1m 11s\tremaining: 1m 47s\n",
      "399:\tlearn: 0.0062685\ttotal: 1m 11s\tremaining: 1m 47s\n",
      "400:\tlearn: 0.0062685\ttotal: 1m 12s\tremaining: 1m 47s\n",
      "401:\tlearn: 0.0062684\ttotal: 1m 12s\tremaining: 1m 47s\n",
      "402:\tlearn: 0.0062380\ttotal: 1m 12s\tremaining: 1m 47s\n",
      "403:\tlearn: 0.0062380\ttotal: 1m 12s\tremaining: 1m 46s\n",
      "404:\tlearn: 0.0062379\ttotal: 1m 12s\tremaining: 1m 46s\n",
      "405:\tlearn: 0.0062379\ttotal: 1m 12s\tremaining: 1m 46s\n",
      "406:\tlearn: 0.0062379\ttotal: 1m 13s\tremaining: 1m 46s\n",
      "407:\tlearn: 0.0062379\ttotal: 1m 13s\tremaining: 1m 46s\n",
      "408:\tlearn: 0.0062379\ttotal: 1m 13s\tremaining: 1m 46s\n",
      "409:\tlearn: 0.0062241\ttotal: 1m 13s\tremaining: 1m 45s\n",
      "410:\tlearn: 0.0062240\ttotal: 1m 13s\tremaining: 1m 45s\n",
      "411:\tlearn: 0.0062240\ttotal: 1m 13s\tremaining: 1m 45s\n",
      "412:\tlearn: 0.0062240\ttotal: 1m 14s\tremaining: 1m 45s\n",
      "413:\tlearn: 0.0062240\ttotal: 1m 14s\tremaining: 1m 45s\n",
      "414:\tlearn: 0.0062240\ttotal: 1m 14s\tremaining: 1m 44s\n",
      "415:\tlearn: 0.0062240\ttotal: 1m 14s\tremaining: 1m 44s\n",
      "416:\tlearn: 0.0062240\ttotal: 1m 14s\tremaining: 1m 44s\n",
      "417:\tlearn: 0.0062240\ttotal: 1m 14s\tremaining: 1m 44s\n",
      "418:\tlearn: 0.0062240\ttotal: 1m 15s\tremaining: 1m 44s\n",
      "419:\tlearn: 0.0062240\ttotal: 1m 15s\tremaining: 1m 43s\n",
      "420:\tlearn: 0.0062240\ttotal: 1m 15s\tremaining: 1m 43s\n",
      "421:\tlearn: 0.0062240\ttotal: 1m 15s\tremaining: 1m 43s\n",
      "422:\tlearn: 0.0062240\ttotal: 1m 15s\tremaining: 1m 43s\n",
      "423:\tlearn: 0.0062240\ttotal: 1m 15s\tremaining: 1m 43s\n",
      "424:\tlearn: 0.0062239\ttotal: 1m 16s\tremaining: 1m 42s\n",
      "425:\tlearn: 0.0062239\ttotal: 1m 16s\tremaining: 1m 42s\n",
      "426:\tlearn: 0.0062239\ttotal: 1m 16s\tremaining: 1m 42s\n",
      "427:\tlearn: 0.0062239\ttotal: 1m 16s\tremaining: 1m 42s\n",
      "428:\tlearn: 0.0062239\ttotal: 1m 16s\tremaining: 1m 42s\n",
      "429:\tlearn: 0.0062239\ttotal: 1m 16s\tremaining: 1m 42s\n",
      "430:\tlearn: 0.0062239\ttotal: 1m 17s\tremaining: 1m 41s\n",
      "431:\tlearn: 0.0062238\ttotal: 1m 17s\tremaining: 1m 41s\n",
      "432:\tlearn: 0.0062238\ttotal: 1m 17s\tremaining: 1m 41s\n",
      "433:\tlearn: 0.0062238\ttotal: 1m 17s\tremaining: 1m 41s\n",
      "434:\tlearn: 0.0062238\ttotal: 1m 17s\tremaining: 1m 41s\n",
      "435:\tlearn: 0.0062238\ttotal: 1m 17s\tremaining: 1m 40s\n",
      "436:\tlearn: 0.0062238\ttotal: 1m 18s\tremaining: 1m 40s\n",
      "437:\tlearn: 0.0062238\ttotal: 1m 18s\tremaining: 1m 40s\n",
      "438:\tlearn: 0.0062238\ttotal: 1m 18s\tremaining: 1m 40s\n",
      "439:\tlearn: 0.0062238\ttotal: 1m 18s\tremaining: 1m 40s\n",
      "440:\tlearn: 0.0062238\ttotal: 1m 18s\tremaining: 1m 39s\n",
      "441:\tlearn: 0.0062237\ttotal: 1m 18s\tremaining: 1m 39s\n",
      "442:\tlearn: 0.0062237\ttotal: 1m 19s\tremaining: 1m 39s\n",
      "443:\tlearn: 0.0062237\ttotal: 1m 19s\tremaining: 1m 39s\n",
      "444:\tlearn: 0.0062237\ttotal: 1m 19s\tremaining: 1m 39s\n",
      "445:\tlearn: 0.0062237\ttotal: 1m 19s\tremaining: 1m 38s\n",
      "446:\tlearn: 0.0062237\ttotal: 1m 19s\tremaining: 1m 38s\n",
      "447:\tlearn: 0.0062236\ttotal: 1m 20s\tremaining: 1m 38s\n",
      "448:\tlearn: 0.0062235\ttotal: 1m 20s\tremaining: 1m 38s\n",
      "449:\tlearn: 0.0062235\ttotal: 1m 20s\tremaining: 1m 38s\n",
      "450:\tlearn: 0.0062235\ttotal: 1m 20s\tremaining: 1m 38s\n",
      "451:\tlearn: 0.0062235\ttotal: 1m 20s\tremaining: 1m 37s\n",
      "452:\tlearn: 0.0062235\ttotal: 1m 20s\tremaining: 1m 37s\n",
      "453:\tlearn: 0.0062235\ttotal: 1m 21s\tremaining: 1m 37s\n",
      "454:\tlearn: 0.0062235\ttotal: 1m 21s\tremaining: 1m 37s\n",
      "455:\tlearn: 0.0062235\ttotal: 1m 21s\tremaining: 1m 37s\n",
      "456:\tlearn: 0.0062235\ttotal: 1m 21s\tremaining: 1m 36s\n",
      "457:\tlearn: 0.0062235\ttotal: 1m 21s\tremaining: 1m 36s\n",
      "458:\tlearn: 0.0062235\ttotal: 1m 21s\tremaining: 1m 36s\n",
      "459:\tlearn: 0.0062235\ttotal: 1m 22s\tremaining: 1m 36s\n",
      "460:\tlearn: 0.0062235\ttotal: 1m 22s\tremaining: 1m 36s\n",
      "461:\tlearn: 0.0062234\ttotal: 1m 22s\tremaining: 1m 35s\n",
      "462:\tlearn: 0.0062234\ttotal: 1m 22s\tremaining: 1m 35s\n",
      "463:\tlearn: 0.0062234\ttotal: 1m 22s\tremaining: 1m 35s\n",
      "464:\tlearn: 0.0062234\ttotal: 1m 22s\tremaining: 1m 35s\n",
      "465:\tlearn: 0.0062234\ttotal: 1m 23s\tremaining: 1m 35s\n",
      "466:\tlearn: 0.0062234\ttotal: 1m 23s\tremaining: 1m 35s\n",
      "467:\tlearn: 0.0062234\ttotal: 1m 23s\tremaining: 1m 34s\n",
      "468:\tlearn: 0.0062234\ttotal: 1m 23s\tremaining: 1m 34s\n",
      "469:\tlearn: 0.0062234\ttotal: 1m 23s\tremaining: 1m 34s\n",
      "470:\tlearn: 0.0062233\ttotal: 1m 23s\tremaining: 1m 34s\n",
      "471:\tlearn: 0.0062232\ttotal: 1m 24s\tremaining: 1m 34s\n"
     ]
    },
    {
     "name": "stdout",
     "output_type": "stream",
     "text": [
      "472:\tlearn: 0.0062232\ttotal: 1m 24s\tremaining: 1m 33s\n",
      "473:\tlearn: 0.0062231\ttotal: 1m 24s\tremaining: 1m 33s\n",
      "474:\tlearn: 0.0062231\ttotal: 1m 24s\tremaining: 1m 33s\n",
      "475:\tlearn: 0.0062231\ttotal: 1m 24s\tremaining: 1m 33s\n",
      "476:\tlearn: 0.0062231\ttotal: 1m 25s\tremaining: 1m 33s\n",
      "477:\tlearn: 0.0062231\ttotal: 1m 25s\tremaining: 1m 33s\n",
      "478:\tlearn: 0.0062231\ttotal: 1m 25s\tremaining: 1m 33s\n",
      "479:\tlearn: 0.0062231\ttotal: 1m 25s\tremaining: 1m 32s\n",
      "480:\tlearn: 0.0062231\ttotal: 1m 25s\tremaining: 1m 32s\n",
      "481:\tlearn: 0.0062231\ttotal: 1m 26s\tremaining: 1m 32s\n",
      "482:\tlearn: 0.0062231\ttotal: 1m 26s\tremaining: 1m 32s\n",
      "483:\tlearn: 0.0062231\ttotal: 1m 26s\tremaining: 1m 32s\n",
      "484:\tlearn: 0.0062231\ttotal: 1m 26s\tremaining: 1m 31s\n",
      "485:\tlearn: 0.0062230\ttotal: 1m 26s\tremaining: 1m 31s\n",
      "486:\tlearn: 0.0062230\ttotal: 1m 26s\tremaining: 1m 31s\n",
      "487:\tlearn: 0.0062230\ttotal: 1m 27s\tremaining: 1m 31s\n",
      "488:\tlearn: 0.0062230\ttotal: 1m 27s\tremaining: 1m 31s\n",
      "489:\tlearn: 0.0062230\ttotal: 1m 27s\tremaining: 1m 31s\n",
      "490:\tlearn: 0.0062230\ttotal: 1m 27s\tremaining: 1m 30s\n",
      "491:\tlearn: 0.0062230\ttotal: 1m 27s\tremaining: 1m 30s\n",
      "492:\tlearn: 0.0062229\ttotal: 1m 28s\tremaining: 1m 30s\n",
      "493:\tlearn: 0.0062229\ttotal: 1m 28s\tremaining: 1m 30s\n",
      "494:\tlearn: 0.0062228\ttotal: 1m 28s\tremaining: 1m 30s\n",
      "495:\tlearn: 0.0062228\ttotal: 1m 28s\tremaining: 1m 30s\n",
      "496:\tlearn: 0.0062228\ttotal: 1m 28s\tremaining: 1m 29s\n",
      "497:\tlearn: 0.0062228\ttotal: 1m 28s\tremaining: 1m 29s\n",
      "498:\tlearn: 0.0062227\ttotal: 1m 29s\tremaining: 1m 29s\n",
      "499:\tlearn: 0.0062227\ttotal: 1m 29s\tremaining: 1m 29s\n",
      "500:\tlearn: 0.0062227\ttotal: 1m 29s\tremaining: 1m 29s\n",
      "501:\tlearn: 0.0062227\ttotal: 1m 29s\tremaining: 1m 28s\n",
      "502:\tlearn: 0.0062227\ttotal: 1m 29s\tremaining: 1m 28s\n",
      "503:\tlearn: 0.0062227\ttotal: 1m 30s\tremaining: 1m 28s\n",
      "504:\tlearn: 0.0062227\ttotal: 1m 30s\tremaining: 1m 28s\n",
      "505:\tlearn: 0.0062227\ttotal: 1m 30s\tremaining: 1m 28s\n",
      "506:\tlearn: 0.0062227\ttotal: 1m 30s\tremaining: 1m 28s\n",
      "507:\tlearn: 0.0062226\ttotal: 1m 30s\tremaining: 1m 27s\n",
      "508:\tlearn: 0.0062226\ttotal: 1m 30s\tremaining: 1m 27s\n",
      "509:\tlearn: 0.0062226\ttotal: 1m 31s\tremaining: 1m 27s\n",
      "510:\tlearn: 0.0062226\ttotal: 1m 31s\tremaining: 1m 27s\n",
      "511:\tlearn: 0.0062226\ttotal: 1m 31s\tremaining: 1m 27s\n",
      "512:\tlearn: 0.0062226\ttotal: 1m 31s\tremaining: 1m 27s\n",
      "513:\tlearn: 0.0062226\ttotal: 1m 31s\tremaining: 1m 26s\n",
      "514:\tlearn: 0.0062225\ttotal: 1m 32s\tremaining: 1m 26s\n",
      "515:\tlearn: 0.0062225\ttotal: 1m 32s\tremaining: 1m 26s\n",
      "516:\tlearn: 0.0062225\ttotal: 1m 32s\tremaining: 1m 26s\n",
      "517:\tlearn: 0.0062224\ttotal: 1m 32s\tremaining: 1m 26s\n",
      "518:\tlearn: 0.0062224\ttotal: 1m 32s\tremaining: 1m 26s\n",
      "519:\tlearn: 0.0062224\ttotal: 1m 33s\tremaining: 1m 25s\n",
      "520:\tlearn: 0.0062224\ttotal: 1m 33s\tremaining: 1m 25s\n",
      "521:\tlearn: 0.0062224\ttotal: 1m 33s\tremaining: 1m 25s\n",
      "522:\tlearn: 0.0062224\ttotal: 1m 33s\tremaining: 1m 25s\n",
      "523:\tlearn: 0.0062224\ttotal: 1m 33s\tremaining: 1m 25s\n",
      "524:\tlearn: 0.0062224\ttotal: 1m 33s\tremaining: 1m 24s\n",
      "525:\tlearn: 0.0062223\ttotal: 1m 34s\tremaining: 1m 24s\n",
      "526:\tlearn: 0.0062223\ttotal: 1m 34s\tremaining: 1m 24s\n",
      "527:\tlearn: 0.0062223\ttotal: 1m 34s\tremaining: 1m 24s\n",
      "528:\tlearn: 0.0062222\ttotal: 1m 34s\tremaining: 1m 24s\n",
      "529:\tlearn: 0.0062222\ttotal: 1m 34s\tremaining: 1m 24s\n",
      "530:\tlearn: 0.0062222\ttotal: 1m 34s\tremaining: 1m 23s\n",
      "531:\tlearn: 0.0062222\ttotal: 1m 35s\tremaining: 1m 23s\n",
      "532:\tlearn: 0.0062221\ttotal: 1m 35s\tremaining: 1m 23s\n",
      "533:\tlearn: 0.0062221\ttotal: 1m 35s\tremaining: 1m 23s\n",
      "534:\tlearn: 0.0062221\ttotal: 1m 35s\tremaining: 1m 23s\n",
      "535:\tlearn: 0.0062221\ttotal: 1m 35s\tremaining: 1m 22s\n",
      "536:\tlearn: 0.0062221\ttotal: 1m 35s\tremaining: 1m 22s\n",
      "537:\tlearn: 0.0062221\ttotal: 1m 36s\tremaining: 1m 22s\n",
      "538:\tlearn: 0.0062221\ttotal: 1m 36s\tremaining: 1m 22s\n",
      "539:\tlearn: 0.0062221\ttotal: 1m 36s\tremaining: 1m 22s\n",
      "540:\tlearn: 0.0062221\ttotal: 1m 36s\tremaining: 1m 21s\n",
      "541:\tlearn: 0.0062221\ttotal: 1m 36s\tremaining: 1m 21s\n",
      "542:\tlearn: 0.0062221\ttotal: 1m 36s\tremaining: 1m 21s\n",
      "543:\tlearn: 0.0062220\ttotal: 1m 37s\tremaining: 1m 21s\n",
      "544:\tlearn: 0.0062220\ttotal: 1m 37s\tremaining: 1m 21s\n",
      "545:\tlearn: 0.0062220\ttotal: 1m 37s\tremaining: 1m 21s\n",
      "546:\tlearn: 0.0062220\ttotal: 1m 37s\tremaining: 1m 20s\n",
      "547:\tlearn: 0.0062220\ttotal: 1m 37s\tremaining: 1m 20s\n",
      "548:\tlearn: 0.0062220\ttotal: 1m 38s\tremaining: 1m 20s\n",
      "549:\tlearn: 0.0062220\ttotal: 1m 38s\tremaining: 1m 20s\n",
      "550:\tlearn: 0.0062220\ttotal: 1m 38s\tremaining: 1m 20s\n",
      "551:\tlearn: 0.0062220\ttotal: 1m 38s\tremaining: 1m 19s\n",
      "552:\tlearn: 0.0062220\ttotal: 1m 38s\tremaining: 1m 19s\n",
      "553:\tlearn: 0.0062220\ttotal: 1m 38s\tremaining: 1m 19s\n",
      "554:\tlearn: 0.0062220\ttotal: 1m 39s\tremaining: 1m 19s\n",
      "555:\tlearn: 0.0062220\ttotal: 1m 39s\tremaining: 1m 19s\n",
      "556:\tlearn: 0.0062220\ttotal: 1m 39s\tremaining: 1m 19s\n",
      "557:\tlearn: 0.0062220\ttotal: 1m 39s\tremaining: 1m 18s\n",
      "558:\tlearn: 0.0062220\ttotal: 1m 39s\tremaining: 1m 18s\n",
      "559:\tlearn: 0.0062219\ttotal: 1m 39s\tremaining: 1m 18s\n",
      "560:\tlearn: 0.0062219\ttotal: 1m 40s\tremaining: 1m 18s\n",
      "561:\tlearn: 0.0062219\ttotal: 1m 40s\tremaining: 1m 18s\n",
      "562:\tlearn: 0.0062219\ttotal: 1m 40s\tremaining: 1m 17s\n",
      "563:\tlearn: 0.0062219\ttotal: 1m 40s\tremaining: 1m 17s\n",
      "564:\tlearn: 0.0062219\ttotal: 1m 40s\tremaining: 1m 17s\n",
      "565:\tlearn: 0.0062219\ttotal: 1m 40s\tremaining: 1m 17s\n",
      "566:\tlearn: 0.0062219\ttotal: 1m 41s\tremaining: 1m 17s\n",
      "567:\tlearn: 0.0061646\ttotal: 1m 41s\tremaining: 1m 17s\n",
      "568:\tlearn: 0.0061646\ttotal: 1m 41s\tremaining: 1m 16s\n",
      "569:\tlearn: 0.0061646\ttotal: 1m 41s\tremaining: 1m 16s\n",
      "570:\tlearn: 0.0061645\ttotal: 1m 41s\tremaining: 1m 16s\n",
      "571:\tlearn: 0.0061645\ttotal: 1m 41s\tremaining: 1m 16s\n",
      "572:\tlearn: 0.0061645\ttotal: 1m 42s\tremaining: 1m 16s\n",
      "573:\tlearn: 0.0061645\ttotal: 1m 42s\tremaining: 1m 15s\n",
      "574:\tlearn: 0.0061645\ttotal: 1m 42s\tremaining: 1m 15s\n",
      "575:\tlearn: 0.0061645\ttotal: 1m 42s\tremaining: 1m 15s\n",
      "576:\tlearn: 0.0061645\ttotal: 1m 42s\tremaining: 1m 15s\n",
      "577:\tlearn: 0.0061645\ttotal: 1m 42s\tremaining: 1m 15s\n",
      "578:\tlearn: 0.0061645\ttotal: 1m 43s\tremaining: 1m 15s\n",
      "579:\tlearn: 0.0061645\ttotal: 1m 43s\tremaining: 1m 14s\n",
      "580:\tlearn: 0.0061645\ttotal: 1m 43s\tremaining: 1m 14s\n",
      "581:\tlearn: 0.0061645\ttotal: 1m 43s\tremaining: 1m 14s\n",
      "582:\tlearn: 0.0061644\ttotal: 1m 43s\tremaining: 1m 14s\n",
      "583:\tlearn: 0.0061644\ttotal: 1m 44s\tremaining: 1m 14s\n",
      "584:\tlearn: 0.0061644\ttotal: 1m 44s\tremaining: 1m 13s\n",
      "585:\tlearn: 0.0061644\ttotal: 1m 44s\tremaining: 1m 13s\n",
      "586:\tlearn: 0.0061644\ttotal: 1m 44s\tremaining: 1m 13s\n",
      "587:\tlearn: 0.0061644\ttotal: 1m 44s\tremaining: 1m 13s\n",
      "588:\tlearn: 0.0061644\ttotal: 1m 44s\tremaining: 1m 13s\n",
      "589:\tlearn: 0.0061643\ttotal: 1m 45s\tremaining: 1m 12s\n",
      "590:\tlearn: 0.0061643\ttotal: 1m 45s\tremaining: 1m 12s\n",
      "591:\tlearn: 0.0061643\ttotal: 1m 45s\tremaining: 1m 12s\n",
      "592:\tlearn: 0.0061643\ttotal: 1m 45s\tremaining: 1m 12s\n",
      "593:\tlearn: 0.0061643\ttotal: 1m 45s\tremaining: 1m 12s\n",
      "594:\tlearn: 0.0061643\ttotal: 1m 45s\tremaining: 1m 12s\n",
      "595:\tlearn: 0.0061643\ttotal: 1m 46s\tremaining: 1m 11s\n",
      "596:\tlearn: 0.0061642\ttotal: 1m 46s\tremaining: 1m 11s\n",
      "597:\tlearn: 0.0061642\ttotal: 1m 46s\tremaining: 1m 11s\n",
      "598:\tlearn: 0.0061642\ttotal: 1m 46s\tremaining: 1m 11s\n",
      "599:\tlearn: 0.0061642\ttotal: 1m 46s\tremaining: 1m 11s\n",
      "600:\tlearn: 0.0061642\ttotal: 1m 46s\tremaining: 1m 10s\n",
      "601:\tlearn: 0.0061642\ttotal: 1m 47s\tremaining: 1m 10s\n",
      "602:\tlearn: 0.0061641\ttotal: 1m 47s\tremaining: 1m 10s\n",
      "603:\tlearn: 0.0061641\ttotal: 1m 47s\tremaining: 1m 10s\n",
      "604:\tlearn: 0.0061641\ttotal: 1m 47s\tremaining: 1m 10s\n",
      "605:\tlearn: 0.0061641\ttotal: 1m 47s\tremaining: 1m 10s\n",
      "606:\tlearn: 0.0061641\ttotal: 1m 47s\tremaining: 1m 9s\n",
      "607:\tlearn: 0.0061640\ttotal: 1m 48s\tremaining: 1m 9s\n",
      "608:\tlearn: 0.0061640\ttotal: 1m 48s\tremaining: 1m 9s\n",
      "609:\tlearn: 0.0061640\ttotal: 1m 48s\tremaining: 1m 9s\n",
      "610:\tlearn: 0.0061640\ttotal: 1m 48s\tremaining: 1m 9s\n",
      "611:\tlearn: 0.0061640\ttotal: 1m 48s\tremaining: 1m 8s\n",
      "612:\tlearn: 0.0061640\ttotal: 1m 48s\tremaining: 1m 8s\n",
      "613:\tlearn: 0.0061640\ttotal: 1m 49s\tremaining: 1m 8s\n",
      "614:\tlearn: 0.0061639\ttotal: 1m 49s\tremaining: 1m 8s\n",
      "615:\tlearn: 0.0061639\ttotal: 1m 49s\tremaining: 1m 8s\n",
      "616:\tlearn: 0.0061639\ttotal: 1m 49s\tremaining: 1m 8s\n",
      "617:\tlearn: 0.0061638\ttotal: 1m 49s\tremaining: 1m 7s\n",
      "618:\tlearn: 0.0061638\ttotal: 1m 49s\tremaining: 1m 7s\n",
      "619:\tlearn: 0.0061638\ttotal: 1m 50s\tremaining: 1m 7s\n",
      "620:\tlearn: 0.0061638\ttotal: 1m 50s\tremaining: 1m 7s\n",
      "621:\tlearn: 0.0061638\ttotal: 1m 50s\tremaining: 1m 7s\n",
      "622:\tlearn: 0.0061637\ttotal: 1m 50s\tremaining: 1m 6s\n",
      "623:\tlearn: 0.0061637\ttotal: 1m 50s\tremaining: 1m 6s\n",
      "624:\tlearn: 0.0061637\ttotal: 1m 50s\tremaining: 1m 6s\n"
     ]
    },
    {
     "name": "stdout",
     "output_type": "stream",
     "text": [
      "625:\tlearn: 0.0061284\ttotal: 1m 51s\tremaining: 1m 6s\n",
      "626:\tlearn: 0.0061284\ttotal: 1m 51s\tremaining: 1m 6s\n",
      "627:\tlearn: 0.0061284\ttotal: 1m 51s\tremaining: 1m 6s\n",
      "628:\tlearn: 0.0061284\ttotal: 1m 51s\tremaining: 1m 5s\n",
      "629:\tlearn: 0.0061283\ttotal: 1m 51s\tremaining: 1m 5s\n",
      "630:\tlearn: 0.0061283\ttotal: 1m 52s\tremaining: 1m 5s\n",
      "631:\tlearn: 0.0061283\ttotal: 1m 52s\tremaining: 1m 5s\n",
      "632:\tlearn: 0.0061283\ttotal: 1m 52s\tremaining: 1m 5s\n",
      "633:\tlearn: 0.0061283\ttotal: 1m 52s\tremaining: 1m 4s\n",
      "634:\tlearn: 0.0061282\ttotal: 1m 52s\tremaining: 1m 4s\n",
      "635:\tlearn: 0.0061282\ttotal: 1m 52s\tremaining: 1m 4s\n",
      "636:\tlearn: 0.0061281\ttotal: 1m 53s\tremaining: 1m 4s\n",
      "637:\tlearn: 0.0061281\ttotal: 1m 53s\tremaining: 1m 4s\n",
      "638:\tlearn: 0.0061281\ttotal: 1m 53s\tremaining: 1m 4s\n",
      "639:\tlearn: 0.0061281\ttotal: 1m 53s\tremaining: 1m 3s\n",
      "640:\tlearn: 0.0061010\ttotal: 1m 53s\tremaining: 1m 3s\n",
      "641:\tlearn: 0.0061010\ttotal: 1m 53s\tremaining: 1m 3s\n",
      "642:\tlearn: 0.0061010\ttotal: 1m 54s\tremaining: 1m 3s\n",
      "643:\tlearn: 0.0061010\ttotal: 1m 54s\tremaining: 1m 3s\n",
      "644:\tlearn: 0.0061010\ttotal: 1m 54s\tremaining: 1m 2s\n",
      "645:\tlearn: 0.0061010\ttotal: 1m 54s\tremaining: 1m 2s\n",
      "646:\tlearn: 0.0061010\ttotal: 1m 54s\tremaining: 1m 2s\n",
      "647:\tlearn: 0.0061010\ttotal: 1m 54s\tremaining: 1m 2s\n",
      "648:\tlearn: 0.0061010\ttotal: 1m 55s\tremaining: 1m 2s\n",
      "649:\tlearn: 0.0061010\ttotal: 1m 55s\tremaining: 1m 2s\n",
      "650:\tlearn: 0.0061009\ttotal: 1m 55s\tremaining: 1m 1s\n",
      "651:\tlearn: 0.0061009\ttotal: 1m 55s\tremaining: 1m 1s\n",
      "652:\tlearn: 0.0061009\ttotal: 1m 55s\tremaining: 1m 1s\n",
      "653:\tlearn: 0.0061009\ttotal: 1m 55s\tremaining: 1m 1s\n",
      "654:\tlearn: 0.0061009\ttotal: 1m 56s\tremaining: 1m 1s\n",
      "655:\tlearn: 0.0061009\ttotal: 1m 56s\tremaining: 1m 1s\n",
      "656:\tlearn: 0.0061009\ttotal: 1m 56s\tremaining: 1m\n",
      "657:\tlearn: 0.0061009\ttotal: 1m 56s\tremaining: 1m\n",
      "658:\tlearn: 0.0061009\ttotal: 1m 57s\tremaining: 1m\n",
      "659:\tlearn: 0.0061008\ttotal: 1m 57s\tremaining: 1m\n",
      "660:\tlearn: 0.0061008\ttotal: 1m 57s\tremaining: 1m\n",
      "661:\tlearn: 0.0061008\ttotal: 1m 57s\tremaining: 1m\n",
      "662:\tlearn: 0.0061008\ttotal: 1m 57s\tremaining: 59.9s\n",
      "663:\tlearn: 0.0061007\ttotal: 1m 57s\tremaining: 59.7s\n",
      "664:\tlearn: 0.0061007\ttotal: 1m 58s\tremaining: 59.5s\n",
      "665:\tlearn: 0.0061007\ttotal: 1m 58s\tremaining: 59.3s\n",
      "666:\tlearn: 0.0061007\ttotal: 1m 58s\tremaining: 59.1s\n",
      "667:\tlearn: 0.0061007\ttotal: 1m 58s\tremaining: 59s\n",
      "668:\tlearn: 0.0061007\ttotal: 1m 58s\tremaining: 58.8s\n",
      "669:\tlearn: 0.0061007\ttotal: 1m 58s\tremaining: 58.6s\n",
      "670:\tlearn: 0.0061007\ttotal: 1m 59s\tremaining: 58.4s\n",
      "671:\tlearn: 0.0061006\ttotal: 1m 59s\tremaining: 58.2s\n",
      "672:\tlearn: 0.0061006\ttotal: 1m 59s\tremaining: 58.1s\n",
      "673:\tlearn: 0.0061006\ttotal: 1m 59s\tremaining: 57.9s\n",
      "674:\tlearn: 0.0061006\ttotal: 1m 59s\tremaining: 57.7s\n",
      "675:\tlearn: 0.0061005\ttotal: 2m\tremaining: 57.5s\n",
      "676:\tlearn: 0.0061005\ttotal: 2m\tremaining: 57.3s\n",
      "677:\tlearn: 0.0061005\ttotal: 2m\tremaining: 57.2s\n",
      "678:\tlearn: 0.0061005\ttotal: 2m\tremaining: 57s\n",
      "679:\tlearn: 0.0061005\ttotal: 2m\tremaining: 56.8s\n",
      "680:\tlearn: 0.0061005\ttotal: 2m\tremaining: 56.6s\n",
      "681:\tlearn: 0.0061005\ttotal: 2m 1s\tremaining: 56.5s\n",
      "682:\tlearn: 0.0061005\ttotal: 2m 1s\tremaining: 56.3s\n",
      "683:\tlearn: 0.0061004\ttotal: 2m 1s\tremaining: 56.1s\n",
      "684:\tlearn: 0.0061004\ttotal: 2m 1s\tremaining: 55.9s\n",
      "685:\tlearn: 0.0061004\ttotal: 2m 1s\tremaining: 55.7s\n",
      "686:\tlearn: 0.0061003\ttotal: 2m 1s\tremaining: 55.5s\n",
      "687:\tlearn: 0.0061003\ttotal: 2m 2s\tremaining: 55.4s\n",
      "688:\tlearn: 0.0061003\ttotal: 2m 2s\tremaining: 55.2s\n",
      "689:\tlearn: 0.0061003\ttotal: 2m 2s\tremaining: 55s\n",
      "690:\tlearn: 0.0061003\ttotal: 2m 2s\tremaining: 54.8s\n",
      "691:\tlearn: 0.0061003\ttotal: 2m 2s\tremaining: 54.7s\n",
      "692:\tlearn: 0.0061002\ttotal: 2m 2s\tremaining: 54.5s\n",
      "693:\tlearn: 0.0061002\ttotal: 2m 3s\tremaining: 54.3s\n",
      "694:\tlearn: 0.0061002\ttotal: 2m 3s\tremaining: 54.1s\n",
      "695:\tlearn: 0.0061002\ttotal: 2m 3s\tremaining: 53.9s\n",
      "696:\tlearn: 0.0061002\ttotal: 2m 3s\tremaining: 53.8s\n",
      "697:\tlearn: 0.0061002\ttotal: 2m 3s\tremaining: 53.6s\n",
      "698:\tlearn: 0.0061002\ttotal: 2m 4s\tremaining: 53.4s\n",
      "699:\tlearn: 0.0061001\ttotal: 2m 4s\tremaining: 53.2s\n",
      "700:\tlearn: 0.0061001\ttotal: 2m 4s\tremaining: 53.1s\n",
      "701:\tlearn: 0.0061001\ttotal: 2m 4s\tremaining: 52.9s\n",
      "702:\tlearn: 0.0061001\ttotal: 2m 4s\tremaining: 52.7s\n",
      "703:\tlearn: 0.0061001\ttotal: 2m 4s\tremaining: 52.5s\n",
      "704:\tlearn: 0.0061000\ttotal: 2m 5s\tremaining: 52.3s\n",
      "705:\tlearn: 0.0061000\ttotal: 2m 5s\tremaining: 52.2s\n",
      "706:\tlearn: 0.0061000\ttotal: 2m 5s\tremaining: 52s\n",
      "707:\tlearn: 0.0061000\ttotal: 2m 5s\tremaining: 51.8s\n",
      "708:\tlearn: 0.0061000\ttotal: 2m 5s\tremaining: 51.6s\n",
      "709:\tlearn: 0.0060997\ttotal: 2m 5s\tremaining: 51.4s\n",
      "710:\tlearn: 0.0060997\ttotal: 2m 6s\tremaining: 51.3s\n",
      "711:\tlearn: 0.0060997\ttotal: 2m 6s\tremaining: 51.1s\n",
      "712:\tlearn: 0.0060997\ttotal: 2m 6s\tremaining: 50.9s\n",
      "713:\tlearn: 0.0060996\ttotal: 2m 6s\tremaining: 50.7s\n",
      "714:\tlearn: 0.0060996\ttotal: 2m 6s\tremaining: 50.6s\n",
      "715:\tlearn: 0.0060996\ttotal: 2m 7s\tremaining: 50.4s\n",
      "716:\tlearn: 0.0060995\ttotal: 2m 7s\tremaining: 50.2s\n",
      "717:\tlearn: 0.0060995\ttotal: 2m 7s\tremaining: 50s\n",
      "718:\tlearn: 0.0060995\ttotal: 2m 7s\tremaining: 49.8s\n",
      "719:\tlearn: 0.0060995\ttotal: 2m 7s\tremaining: 49.7s\n",
      "720:\tlearn: 0.0060995\ttotal: 2m 7s\tremaining: 49.5s\n",
      "721:\tlearn: 0.0060994\ttotal: 2m 8s\tremaining: 49.3s\n",
      "722:\tlearn: 0.0060994\ttotal: 2m 8s\tremaining: 49.1s\n",
      "723:\tlearn: 0.0060994\ttotal: 2m 8s\tremaining: 48.9s\n",
      "724:\tlearn: 0.0060994\ttotal: 2m 8s\tremaining: 48.8s\n",
      "725:\tlearn: 0.0060994\ttotal: 2m 8s\tremaining: 48.6s\n",
      "726:\tlearn: 0.0060994\ttotal: 2m 8s\tremaining: 48.4s\n",
      "727:\tlearn: 0.0060993\ttotal: 2m 9s\tremaining: 48.2s\n",
      "728:\tlearn: 0.0060993\ttotal: 2m 9s\tremaining: 48.1s\n",
      "729:\tlearn: 0.0060993\ttotal: 2m 9s\tremaining: 47.9s\n",
      "730:\tlearn: 0.0060557\ttotal: 2m 9s\tremaining: 47.7s\n",
      "731:\tlearn: 0.0060207\ttotal: 2m 9s\tremaining: 47.5s\n",
      "732:\tlearn: 0.0060206\ttotal: 2m 9s\tremaining: 47.3s\n",
      "733:\tlearn: 0.0060206\ttotal: 2m 10s\tremaining: 47.2s\n",
      "734:\tlearn: 0.0060206\ttotal: 2m 10s\tremaining: 47s\n",
      "735:\tlearn: 0.0060205\ttotal: 2m 10s\tremaining: 46.8s\n",
      "736:\tlearn: 0.0060205\ttotal: 2m 10s\tremaining: 46.6s\n",
      "737:\tlearn: 0.0060205\ttotal: 2m 10s\tremaining: 46.4s\n",
      "738:\tlearn: 0.0060204\ttotal: 2m 11s\tremaining: 46.3s\n",
      "739:\tlearn: 0.0060204\ttotal: 2m 11s\tremaining: 46.1s\n",
      "740:\tlearn: 0.0060204\ttotal: 2m 11s\tremaining: 45.9s\n",
      "741:\tlearn: 0.0060204\ttotal: 2m 11s\tremaining: 45.7s\n",
      "742:\tlearn: 0.0060204\ttotal: 2m 11s\tremaining: 45.6s\n",
      "743:\tlearn: 0.0060203\ttotal: 2m 11s\tremaining: 45.4s\n",
      "744:\tlearn: 0.0060202\ttotal: 2m 12s\tremaining: 45.2s\n",
      "745:\tlearn: 0.0060202\ttotal: 2m 12s\tremaining: 45s\n",
      "746:\tlearn: 0.0060202\ttotal: 2m 12s\tremaining: 44.8s\n",
      "747:\tlearn: 0.0060201\ttotal: 2m 12s\tremaining: 44.7s\n",
      "748:\tlearn: 0.0060201\ttotal: 2m 12s\tremaining: 44.5s\n",
      "749:\tlearn: 0.0060201\ttotal: 2m 12s\tremaining: 44.3s\n",
      "750:\tlearn: 0.0060201\ttotal: 2m 13s\tremaining: 44.1s\n",
      "751:\tlearn: 0.0060201\ttotal: 2m 13s\tremaining: 44s\n",
      "752:\tlearn: 0.0060201\ttotal: 2m 13s\tremaining: 43.8s\n",
      "753:\tlearn: 0.0060201\ttotal: 2m 13s\tremaining: 43.6s\n",
      "754:\tlearn: 0.0060201\ttotal: 2m 13s\tremaining: 43.4s\n",
      "755:\tlearn: 0.0060201\ttotal: 2m 13s\tremaining: 43.2s\n",
      "756:\tlearn: 0.0060201\ttotal: 2m 14s\tremaining: 43.1s\n",
      "757:\tlearn: 0.0060201\ttotal: 2m 14s\tremaining: 42.9s\n",
      "758:\tlearn: 0.0060200\ttotal: 2m 14s\tremaining: 42.7s\n",
      "759:\tlearn: 0.0060200\ttotal: 2m 14s\tremaining: 42.5s\n",
      "760:\tlearn: 0.0060200\ttotal: 2m 14s\tremaining: 42.3s\n",
      "761:\tlearn: 0.0060200\ttotal: 2m 15s\tremaining: 42.2s\n",
      "762:\tlearn: 0.0060200\ttotal: 2m 15s\tremaining: 42s\n",
      "763:\tlearn: 0.0060200\ttotal: 2m 15s\tremaining: 41.8s\n",
      "764:\tlearn: 0.0059855\ttotal: 2m 15s\tremaining: 41.6s\n",
      "765:\tlearn: 0.0059855\ttotal: 2m 15s\tremaining: 41.5s\n",
      "766:\tlearn: 0.0059854\ttotal: 2m 15s\tremaining: 41.3s\n",
      "767:\tlearn: 0.0059854\ttotal: 2m 16s\tremaining: 41.1s\n",
      "768:\tlearn: 0.0059854\ttotal: 2m 16s\tremaining: 40.9s\n",
      "769:\tlearn: 0.0059854\ttotal: 2m 16s\tremaining: 40.7s\n",
      "770:\tlearn: 0.0059854\ttotal: 2m 16s\tremaining: 40.6s\n",
      "771:\tlearn: 0.0059854\ttotal: 2m 16s\tremaining: 40.4s\n",
      "772:\tlearn: 0.0059853\ttotal: 2m 16s\tremaining: 40.2s\n",
      "773:\tlearn: 0.0059853\ttotal: 2m 17s\tremaining: 40s\n",
      "774:\tlearn: 0.0059852\ttotal: 2m 17s\tremaining: 39.9s\n",
      "775:\tlearn: 0.0059851\ttotal: 2m 17s\tremaining: 39.7s\n",
      "776:\tlearn: 0.0059851\ttotal: 2m 17s\tremaining: 39.5s\n",
      "777:\tlearn: 0.0059851\ttotal: 2m 17s\tremaining: 39.3s\n",
      "778:\tlearn: 0.0059851\ttotal: 2m 17s\tremaining: 39.1s\n",
      "779:\tlearn: 0.0059851\ttotal: 2m 18s\tremaining: 39s\n",
      "780:\tlearn: 0.0059851\ttotal: 2m 18s\tremaining: 38.8s\n",
      "781:\tlearn: 0.0059851\ttotal: 2m 18s\tremaining: 38.6s\n",
      "782:\tlearn: 0.0059850\ttotal: 2m 18s\tremaining: 38.4s\n"
     ]
    },
    {
     "name": "stdout",
     "output_type": "stream",
     "text": [
      "783:\tlearn: 0.0059850\ttotal: 2m 18s\tremaining: 38.3s\n",
      "784:\tlearn: 0.0059850\ttotal: 2m 19s\tremaining: 38.1s\n",
      "785:\tlearn: 0.0059850\ttotal: 2m 19s\tremaining: 37.9s\n",
      "786:\tlearn: 0.0059849\ttotal: 2m 19s\tremaining: 37.7s\n",
      "787:\tlearn: 0.0059849\ttotal: 2m 19s\tremaining: 37.5s\n",
      "788:\tlearn: 0.0059849\ttotal: 2m 19s\tremaining: 37.4s\n",
      "789:\tlearn: 0.0059849\ttotal: 2m 19s\tremaining: 37.2s\n",
      "790:\tlearn: 0.0059848\ttotal: 2m 20s\tremaining: 37s\n",
      "791:\tlearn: 0.0059848\ttotal: 2m 20s\tremaining: 36.8s\n",
      "792:\tlearn: 0.0059847\ttotal: 2m 20s\tremaining: 36.7s\n",
      "793:\tlearn: 0.0059846\ttotal: 2m 20s\tremaining: 36.5s\n",
      "794:\tlearn: 0.0059846\ttotal: 2m 20s\tremaining: 36.3s\n",
      "795:\tlearn: 0.0059846\ttotal: 2m 20s\tremaining: 36.1s\n",
      "796:\tlearn: 0.0059846\ttotal: 2m 21s\tremaining: 35.9s\n",
      "797:\tlearn: 0.0059846\ttotal: 2m 21s\tremaining: 35.8s\n",
      "798:\tlearn: 0.0059846\ttotal: 2m 21s\tremaining: 35.6s\n",
      "799:\tlearn: 0.0059844\ttotal: 2m 21s\tremaining: 35.4s\n",
      "800:\tlearn: 0.0059844\ttotal: 2m 21s\tremaining: 35.2s\n",
      "801:\tlearn: 0.0059843\ttotal: 2m 21s\tremaining: 35s\n",
      "802:\tlearn: 0.0059843\ttotal: 2m 22s\tremaining: 34.9s\n",
      "803:\tlearn: 0.0059843\ttotal: 2m 22s\tremaining: 34.7s\n",
      "804:\tlearn: 0.0059843\ttotal: 2m 22s\tremaining: 34.5s\n",
      "805:\tlearn: 0.0059843\ttotal: 2m 22s\tremaining: 34.3s\n",
      "806:\tlearn: 0.0059843\ttotal: 2m 22s\tremaining: 34.2s\n",
      "807:\tlearn: 0.0059843\ttotal: 2m 22s\tremaining: 34s\n",
      "808:\tlearn: 0.0059842\ttotal: 2m 23s\tremaining: 33.8s\n",
      "809:\tlearn: 0.0059842\ttotal: 2m 23s\tremaining: 33.6s\n",
      "810:\tlearn: 0.0059842\ttotal: 2m 23s\tremaining: 33.4s\n",
      "811:\tlearn: 0.0059842\ttotal: 2m 23s\tremaining: 33.3s\n",
      "812:\tlearn: 0.0059842\ttotal: 2m 23s\tremaining: 33.1s\n",
      "813:\tlearn: 0.0059841\ttotal: 2m 24s\tremaining: 32.9s\n",
      "814:\tlearn: 0.0059841\ttotal: 2m 24s\tremaining: 32.7s\n",
      "815:\tlearn: 0.0059841\ttotal: 2m 24s\tremaining: 32.6s\n",
      "816:\tlearn: 0.0059841\ttotal: 2m 24s\tremaining: 32.4s\n",
      "817:\tlearn: 0.0059841\ttotal: 2m 24s\tremaining: 32.2s\n",
      "818:\tlearn: 0.0059841\ttotal: 2m 24s\tremaining: 32s\n",
      "819:\tlearn: 0.0059840\ttotal: 2m 25s\tremaining: 31.9s\n",
      "820:\tlearn: 0.0059840\ttotal: 2m 25s\tremaining: 31.7s\n",
      "821:\tlearn: 0.0059840\ttotal: 2m 25s\tremaining: 31.5s\n",
      "822:\tlearn: 0.0059838\ttotal: 2m 25s\tremaining: 31.3s\n",
      "823:\tlearn: 0.0059838\ttotal: 2m 25s\tremaining: 31.1s\n",
      "824:\tlearn: 0.0059838\ttotal: 2m 25s\tremaining: 31s\n",
      "825:\tlearn: 0.0059837\ttotal: 2m 26s\tremaining: 30.8s\n",
      "826:\tlearn: 0.0059837\ttotal: 2m 26s\tremaining: 30.6s\n",
      "827:\tlearn: 0.0059837\ttotal: 2m 26s\tremaining: 30.4s\n",
      "828:\tlearn: 0.0059837\ttotal: 2m 26s\tremaining: 30.2s\n",
      "829:\tlearn: 0.0059837\ttotal: 2m 26s\tremaining: 30.1s\n",
      "830:\tlearn: 0.0059837\ttotal: 2m 26s\tremaining: 29.9s\n",
      "831:\tlearn: 0.0059837\ttotal: 2m 27s\tremaining: 29.7s\n",
      "832:\tlearn: 0.0059836\ttotal: 2m 27s\tremaining: 29.5s\n",
      "833:\tlearn: 0.0059836\ttotal: 2m 27s\tremaining: 29.4s\n",
      "834:\tlearn: 0.0059836\ttotal: 2m 27s\tremaining: 29.2s\n",
      "835:\tlearn: 0.0059835\ttotal: 2m 27s\tremaining: 29s\n",
      "836:\tlearn: 0.0059835\ttotal: 2m 28s\tremaining: 28.8s\n",
      "837:\tlearn: 0.0059835\ttotal: 2m 28s\tremaining: 28.6s\n",
      "838:\tlearn: 0.0059835\ttotal: 2m 28s\tremaining: 28.5s\n",
      "839:\tlearn: 0.0059834\ttotal: 2m 28s\tremaining: 28.3s\n",
      "840:\tlearn: 0.0059834\ttotal: 2m 28s\tremaining: 28.1s\n",
      "841:\tlearn: 0.0059834\ttotal: 2m 28s\tremaining: 27.9s\n",
      "842:\tlearn: 0.0059834\ttotal: 2m 29s\tremaining: 27.8s\n",
      "843:\tlearn: 0.0059833\ttotal: 2m 29s\tremaining: 27.6s\n",
      "844:\tlearn: 0.0059833\ttotal: 2m 29s\tremaining: 27.4s\n",
      "845:\tlearn: 0.0059833\ttotal: 2m 29s\tremaining: 27.2s\n",
      "846:\tlearn: 0.0059833\ttotal: 2m 29s\tremaining: 27s\n",
      "847:\tlearn: 0.0059833\ttotal: 2m 29s\tremaining: 26.9s\n",
      "848:\tlearn: 0.0059833\ttotal: 2m 30s\tremaining: 26.7s\n",
      "849:\tlearn: 0.0059832\ttotal: 2m 30s\tremaining: 26.5s\n",
      "850:\tlearn: 0.0059832\ttotal: 2m 30s\tremaining: 26.3s\n",
      "851:\tlearn: 0.0059831\ttotal: 2m 30s\tremaining: 26.2s\n",
      "852:\tlearn: 0.0059830\ttotal: 2m 30s\tremaining: 26s\n",
      "853:\tlearn: 0.0059830\ttotal: 2m 30s\tremaining: 25.8s\n",
      "854:\tlearn: 0.0059830\ttotal: 2m 31s\tremaining: 25.6s\n",
      "855:\tlearn: 0.0059830\ttotal: 2m 31s\tremaining: 25.4s\n",
      "856:\tlearn: 0.0059830\ttotal: 2m 31s\tremaining: 25.3s\n",
      "857:\tlearn: 0.0059830\ttotal: 2m 31s\tremaining: 25.1s\n",
      "858:\tlearn: 0.0059829\ttotal: 2m 31s\tremaining: 24.9s\n",
      "859:\tlearn: 0.0059829\ttotal: 2m 31s\tremaining: 24.7s\n",
      "860:\tlearn: 0.0059829\ttotal: 2m 32s\tremaining: 24.6s\n",
      "861:\tlearn: 0.0059829\ttotal: 2m 32s\tremaining: 24.4s\n",
      "862:\tlearn: 0.0059829\ttotal: 2m 32s\tremaining: 24.2s\n",
      "863:\tlearn: 0.0059827\ttotal: 2m 32s\tremaining: 24s\n",
      "864:\tlearn: 0.0059827\ttotal: 2m 32s\tremaining: 23.9s\n",
      "865:\tlearn: 0.0059827\ttotal: 2m 33s\tremaining: 23.7s\n",
      "866:\tlearn: 0.0059827\ttotal: 2m 33s\tremaining: 23.5s\n",
      "867:\tlearn: 0.0059827\ttotal: 2m 33s\tremaining: 23.3s\n",
      "868:\tlearn: 0.0059827\ttotal: 2m 33s\tremaining: 23.1s\n",
      "869:\tlearn: 0.0059827\ttotal: 2m 33s\tremaining: 23s\n",
      "870:\tlearn: 0.0059827\ttotal: 2m 33s\tremaining: 22.8s\n",
      "871:\tlearn: 0.0059827\ttotal: 2m 34s\tremaining: 22.6s\n",
      "872:\tlearn: 0.0059826\ttotal: 2m 34s\tremaining: 22.4s\n",
      "873:\tlearn: 0.0059825\ttotal: 2m 34s\tremaining: 22.3s\n",
      "874:\tlearn: 0.0059825\ttotal: 2m 34s\tremaining: 22.1s\n",
      "875:\tlearn: 0.0059825\ttotal: 2m 34s\tremaining: 21.9s\n",
      "876:\tlearn: 0.0059825\ttotal: 2m 34s\tremaining: 21.7s\n",
      "877:\tlearn: 0.0059824\ttotal: 2m 35s\tremaining: 21.5s\n",
      "878:\tlearn: 0.0059824\ttotal: 2m 35s\tremaining: 21.4s\n",
      "879:\tlearn: 0.0059824\ttotal: 2m 35s\tremaining: 21.2s\n",
      "880:\tlearn: 0.0059824\ttotal: 2m 35s\tremaining: 21s\n",
      "881:\tlearn: 0.0059823\ttotal: 2m 35s\tremaining: 20.8s\n",
      "882:\tlearn: 0.0059823\ttotal: 2m 35s\tremaining: 20.7s\n",
      "883:\tlearn: 0.0059823\ttotal: 2m 36s\tremaining: 20.5s\n",
      "884:\tlearn: 0.0059823\ttotal: 2m 36s\tremaining: 20.3s\n",
      "885:\tlearn: 0.0059823\ttotal: 2m 36s\tremaining: 20.1s\n",
      "886:\tlearn: 0.0059823\ttotal: 2m 36s\tremaining: 19.9s\n",
      "887:\tlearn: 0.0059823\ttotal: 2m 36s\tremaining: 19.8s\n",
      "888:\tlearn: 0.0059822\ttotal: 2m 36s\tremaining: 19.6s\n",
      "889:\tlearn: 0.0059822\ttotal: 2m 37s\tremaining: 19.4s\n",
      "890:\tlearn: 0.0059822\ttotal: 2m 37s\tremaining: 19.2s\n",
      "891:\tlearn: 0.0059822\ttotal: 2m 37s\tremaining: 19.1s\n",
      "892:\tlearn: 0.0059822\ttotal: 2m 37s\tremaining: 18.9s\n",
      "893:\tlearn: 0.0059821\ttotal: 2m 37s\tremaining: 18.7s\n",
      "894:\tlearn: 0.0059821\ttotal: 2m 37s\tremaining: 18.5s\n",
      "895:\tlearn: 0.0059821\ttotal: 2m 38s\tremaining: 18.4s\n",
      "896:\tlearn: 0.0059821\ttotal: 2m 38s\tremaining: 18.2s\n",
      "897:\tlearn: 0.0059820\ttotal: 2m 38s\tremaining: 18s\n",
      "898:\tlearn: 0.0059820\ttotal: 2m 38s\tremaining: 17.8s\n",
      "899:\tlearn: 0.0059820\ttotal: 2m 38s\tremaining: 17.7s\n",
      "900:\tlearn: 0.0059820\ttotal: 2m 39s\tremaining: 17.5s\n",
      "901:\tlearn: 0.0059820\ttotal: 2m 39s\tremaining: 17.3s\n",
      "902:\tlearn: 0.0059819\ttotal: 2m 39s\tremaining: 17.1s\n",
      "903:\tlearn: 0.0059818\ttotal: 2m 39s\tremaining: 16.9s\n",
      "904:\tlearn: 0.0059818\ttotal: 2m 39s\tremaining: 16.8s\n",
      "905:\tlearn: 0.0059818\ttotal: 2m 39s\tremaining: 16.6s\n",
      "906:\tlearn: 0.0059818\ttotal: 2m 40s\tremaining: 16.4s\n",
      "907:\tlearn: 0.0059817\ttotal: 2m 40s\tremaining: 16.2s\n",
      "908:\tlearn: 0.0059817\ttotal: 2m 40s\tremaining: 16.1s\n",
      "909:\tlearn: 0.0059817\ttotal: 2m 40s\tremaining: 15.9s\n",
      "910:\tlearn: 0.0059816\ttotal: 2m 40s\tremaining: 15.7s\n",
      "911:\tlearn: 0.0059816\ttotal: 2m 40s\tremaining: 15.5s\n",
      "912:\tlearn: 0.0059816\ttotal: 2m 41s\tremaining: 15.4s\n",
      "913:\tlearn: 0.0059816\ttotal: 2m 41s\tremaining: 15.2s\n",
      "914:\tlearn: 0.0059417\ttotal: 2m 41s\tremaining: 15s\n",
      "915:\tlearn: 0.0059416\ttotal: 2m 41s\tremaining: 14.8s\n",
      "916:\tlearn: 0.0059416\ttotal: 2m 41s\tremaining: 14.6s\n",
      "917:\tlearn: 0.0059416\ttotal: 2m 41s\tremaining: 14.5s\n",
      "918:\tlearn: 0.0059416\ttotal: 2m 42s\tremaining: 14.3s\n",
      "919:\tlearn: 0.0059415\ttotal: 2m 42s\tremaining: 14.1s\n",
      "920:\tlearn: 0.0059415\ttotal: 2m 42s\tremaining: 14s\n",
      "921:\tlearn: 0.0059415\ttotal: 2m 42s\tremaining: 13.8s\n",
      "922:\tlearn: 0.0059415\ttotal: 2m 43s\tremaining: 13.6s\n",
      "923:\tlearn: 0.0059415\ttotal: 2m 43s\tremaining: 13.4s\n",
      "924:\tlearn: 0.0059414\ttotal: 2m 43s\tremaining: 13.2s\n",
      "925:\tlearn: 0.0059413\ttotal: 2m 43s\tremaining: 13.1s\n",
      "926:\tlearn: 0.0059413\ttotal: 2m 43s\tremaining: 12.9s\n",
      "927:\tlearn: 0.0059413\ttotal: 2m 43s\tremaining: 12.7s\n",
      "928:\tlearn: 0.0059413\ttotal: 2m 44s\tremaining: 12.5s\n",
      "929:\tlearn: 0.0059413\ttotal: 2m 44s\tremaining: 12.4s\n",
      "930:\tlearn: 0.0059413\ttotal: 2m 44s\tremaining: 12.2s\n",
      "931:\tlearn: 0.0059413\ttotal: 2m 44s\tremaining: 12s\n",
      "932:\tlearn: 0.0059412\ttotal: 2m 44s\tremaining: 11.8s\n",
      "933:\tlearn: 0.0059412\ttotal: 2m 44s\tremaining: 11.7s\n",
      "934:\tlearn: 0.0059412\ttotal: 2m 45s\tremaining: 11.5s\n",
      "935:\tlearn: 0.0059411\ttotal: 2m 45s\tremaining: 11.3s\n",
      "936:\tlearn: 0.0059411\ttotal: 2m 45s\tremaining: 11.1s\n",
      "937:\tlearn: 0.0059411\ttotal: 2m 45s\tremaining: 10.9s\n",
      "938:\tlearn: 0.0059411\ttotal: 2m 45s\tremaining: 10.8s\n"
     ]
    },
    {
     "name": "stdout",
     "output_type": "stream",
     "text": [
      "939:\tlearn: 0.0059411\ttotal: 2m 45s\tremaining: 10.6s\n",
      "940:\tlearn: 0.0059411\ttotal: 2m 46s\tremaining: 10.4s\n",
      "941:\tlearn: 0.0059411\ttotal: 2m 46s\tremaining: 10.2s\n",
      "942:\tlearn: 0.0059411\ttotal: 2m 46s\tremaining: 10.1s\n",
      "943:\tlearn: 0.0059411\ttotal: 2m 46s\tremaining: 9.89s\n",
      "944:\tlearn: 0.0059410\ttotal: 2m 46s\tremaining: 9.71s\n",
      "945:\tlearn: 0.0059410\ttotal: 2m 47s\tremaining: 9.53s\n",
      "946:\tlearn: 0.0059410\ttotal: 2m 47s\tremaining: 9.36s\n",
      "947:\tlearn: 0.0059410\ttotal: 2m 47s\tremaining: 9.18s\n",
      "948:\tlearn: 0.0059409\ttotal: 2m 47s\tremaining: 9s\n",
      "949:\tlearn: 0.0059409\ttotal: 2m 47s\tremaining: 8.83s\n",
      "950:\tlearn: 0.0059408\ttotal: 2m 47s\tremaining: 8.65s\n",
      "951:\tlearn: 0.0059408\ttotal: 2m 48s\tremaining: 8.48s\n",
      "952:\tlearn: 0.0059406\ttotal: 2m 48s\tremaining: 8.3s\n",
      "953:\tlearn: 0.0059406\ttotal: 2m 48s\tremaining: 8.13s\n",
      "954:\tlearn: 0.0059406\ttotal: 2m 48s\tremaining: 7.96s\n",
      "955:\tlearn: 0.0059405\ttotal: 2m 49s\tremaining: 7.78s\n",
      "956:\tlearn: 0.0059405\ttotal: 2m 49s\tremaining: 7.61s\n",
      "957:\tlearn: 0.0059405\ttotal: 2m 49s\tremaining: 7.43s\n",
      "958:\tlearn: 0.0059405\ttotal: 2m 49s\tremaining: 7.26s\n",
      "959:\tlearn: 0.0059405\ttotal: 2m 49s\tremaining: 7.08s\n",
      "960:\tlearn: 0.0059404\ttotal: 2m 50s\tremaining: 6.91s\n",
      "961:\tlearn: 0.0059404\ttotal: 2m 50s\tremaining: 6.73s\n",
      "962:\tlearn: 0.0059404\ttotal: 2m 50s\tremaining: 6.55s\n",
      "963:\tlearn: 0.0059404\ttotal: 2m 50s\tremaining: 6.38s\n",
      "964:\tlearn: 0.0059404\ttotal: 2m 50s\tremaining: 6.2s\n",
      "965:\tlearn: 0.0059403\ttotal: 2m 51s\tremaining: 6.02s\n",
      "966:\tlearn: 0.0059403\ttotal: 2m 51s\tremaining: 5.85s\n",
      "967:\tlearn: 0.0059403\ttotal: 2m 51s\tremaining: 5.68s\n",
      "968:\tlearn: 0.0059403\ttotal: 2m 51s\tremaining: 5.5s\n",
      "969:\tlearn: 0.0059403\ttotal: 2m 52s\tremaining: 5.32s\n",
      "970:\tlearn: 0.0059403\ttotal: 2m 52s\tremaining: 5.15s\n",
      "971:\tlearn: 0.0059403\ttotal: 2m 52s\tremaining: 4.97s\n",
      "972:\tlearn: 0.0059402\ttotal: 2m 52s\tremaining: 4.79s\n",
      "973:\tlearn: 0.0059402\ttotal: 2m 52s\tremaining: 4.62s\n",
      "974:\tlearn: 0.0059402\ttotal: 2m 53s\tremaining: 4.44s\n",
      "975:\tlearn: 0.0059402\ttotal: 2m 53s\tremaining: 4.26s\n",
      "976:\tlearn: 0.0059402\ttotal: 2m 53s\tremaining: 4.08s\n",
      "977:\tlearn: 0.0059401\ttotal: 2m 53s\tremaining: 3.9s\n",
      "978:\tlearn: 0.0059401\ttotal: 2m 53s\tremaining: 3.73s\n",
      "979:\tlearn: 0.0059401\ttotal: 2m 54s\tremaining: 3.55s\n",
      "980:\tlearn: 0.0059401\ttotal: 2m 54s\tremaining: 3.37s\n",
      "981:\tlearn: 0.0059401\ttotal: 2m 54s\tremaining: 3.2s\n",
      "982:\tlearn: 0.0059400\ttotal: 2m 54s\tremaining: 3.02s\n",
      "983:\tlearn: 0.0059400\ttotal: 2m 54s\tremaining: 2.84s\n",
      "984:\tlearn: 0.0059400\ttotal: 2m 54s\tremaining: 2.66s\n",
      "985:\tlearn: 0.0059400\ttotal: 2m 55s\tremaining: 2.49s\n",
      "986:\tlearn: 0.0059400\ttotal: 2m 55s\tremaining: 2.31s\n",
      "987:\tlearn: 0.0059399\ttotal: 2m 55s\tremaining: 2.13s\n",
      "988:\tlearn: 0.0059399\ttotal: 2m 56s\tremaining: 1.96s\n",
      "989:\tlearn: 0.0059399\ttotal: 2m 56s\tremaining: 1.78s\n",
      "990:\tlearn: 0.0059399\ttotal: 2m 56s\tremaining: 1.6s\n",
      "991:\tlearn: 0.0059399\ttotal: 2m 56s\tremaining: 1.43s\n",
      "992:\tlearn: 0.0059399\ttotal: 2m 57s\tremaining: 1.25s\n",
      "993:\tlearn: 0.0059399\ttotal: 2m 57s\tremaining: 1.07s\n",
      "994:\tlearn: 0.0059399\ttotal: 2m 57s\tremaining: 892ms\n",
      "995:\tlearn: 0.0059398\ttotal: 2m 57s\tremaining: 714ms\n",
      "996:\tlearn: 0.0059398\ttotal: 2m 57s\tremaining: 535ms\n",
      "997:\tlearn: 0.0059398\ttotal: 2m 58s\tremaining: 357ms\n",
      "998:\tlearn: 0.0059398\ttotal: 2m 58s\tremaining: 178ms\n",
      "999:\tlearn: 0.0059398\ttotal: 2m 58s\tremaining: 0us\n",
      "For ATOMPAIR: \n",
      "Best model on maccs test f1 score is 0.25\n"
     ]
    }
   ],
   "source": [
    "task5(fingerprint_method_ATOMPAIR, \"ATOMPAIR\", iterations=1000, verbose=True)"
   ]
  },
  {
   "cell_type": "code",
   "execution_count": null,
   "metadata": {},
   "outputs": [],
   "source": [
    "# TODO\n",
    "# Я доделаю эту работу"
   ]
  }
 ],
 "metadata": {
  "colab": {
   "collapsed_sections": [],
   "name": "Hw6.ipynb",
   "provenance": []
  },
  "kernelspec": {
   "display_name": "Python 3",
   "language": "python",
   "name": "python3"
  },
  "language_info": {
   "codemirror_mode": {
    "name": "ipython",
    "version": 3
   },
   "file_extension": ".py",
   "mimetype": "text/x-python",
   "name": "python",
   "nbconvert_exporter": "python",
   "pygments_lexer": "ipython3",
   "version": "3.8.2"
  },
  "nav_menu": {
   "height": "279px",
   "width": "309px"
  },
  "toc": {
   "nav_menu": {},
   "number_sections": true,
   "sideBar": true,
   "skip_h1_title": false,
   "toc_cell": false,
   "toc_position": {},
   "toc_section_display": "block",
   "toc_window_display": false
  }
 },
 "nbformat": 4,
 "nbformat_minor": 1
}
