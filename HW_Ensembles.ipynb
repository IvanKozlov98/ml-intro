{
 "cells": [
  {
   "cell_type": "markdown",
   "metadata": {},
   "source": [
    "# Случайные леса\n",
    "__Суммарное количество баллов: 10__\n",
    "\n",
    "В этом задании вам предстоит реализовать ансамбль деревьев решений, известный как случайный лес, применить его к публичным данным и сравнить его эффективность с ансамблями из самых популярных библиотек."
   ]
  },
  {
   "cell_type": "code",
   "execution_count": 62,
   "metadata": {},
   "outputs": [],
   "source": [
    "from sklearn.model_selection import train_test_split\n",
    "import numpy as np\n",
    "import pandas as pd\n",
    "import random\n",
    "import matplotlib.pyplot as plt\n",
    "import matplotlib\n",
    "import copy\n",
    "from tqdm import tqdm\n",
    "from typing import Callable, Union, NoReturn, Optional, Dict, Any, List"
   ]
  },
  {
   "cell_type": "markdown",
   "metadata": {},
   "source": [
    "Реализуем сам Random Forest. Идея очень простая: строим `n` деревьев, а затем берем модальное предсказание. Используйте реализацию дерева из HW3.\n",
    "\n",
    "#### Параметры конструктора\n",
    "`n_estimators` - количество используемых для предсказания деревьев.\n",
    "\n",
    "Остальное - параметры деревьев.\n",
    "\n",
    "#### Методы\n",
    "`fit(X, y)` - строит `n_estimators` деревьев по выборке `X`.\n",
    "\n",
    "`predict(X)` - для каждого элемента выборки `X` возвращает самый частый класс, который предсказывают для него деревья."
   ]
  },
  {
   "cell_type": "code",
   "execution_count": 38,
   "metadata": {},
   "outputs": [],
   "source": [
    "def get_props(x: np.ndarray):\n",
    "    \"\"\"\n",
    "    Считает пропорции\n",
    "    \"\"\"\n",
    "    tmp = np.unique(x, return_counts=True)\n",
    "    return tmp[1] / x.shape[0]\n",
    "\n",
    "\n",
    "def gini(x: np.ndarray) -> float:\n",
    "    \"\"\"\n",
    "    Считает коэффициент Джини для массива меток x.\n",
    "    \"\"\"\n",
    "    props = get_props(x)\n",
    "    return np.sum(props * (1 - props))\n",
    "\n",
    "\n",
    "def entropy(x: np.ndarray) -> float:\n",
    "    \"\"\"\n",
    "    Считает энтропию для массива меток x.\n",
    "    \"\"\"\n",
    "    props = get_props(x)\n",
    "    return -np.sum(props * np.log(props))\n",
    "\n",
    "\n",
    "def gain(left_y: np.ndarray, right_y: np.ndarray, criterion: Callable) -> float:\n",
    "    \"\"\"\n",
    "    Считает информативность разбиения массива меток.\n",
    "\n",
    "    Parameters\n",
    "    ----------\n",
    "    left_y : np.ndarray\n",
    "        Левая часть разбиения.\n",
    "    right_y : np.ndarray\n",
    "        Правая часть разбиения.\n",
    "    criterion : Callable\n",
    "        Критерий разбиения.\n",
    "    \"\"\"\n",
    "    left_size = left_y.shape[0]\n",
    "    right_size = right_y.shape[0]\n",
    "    common_size = left_size + right_size\n",
    "    return common_size * criterion(np.hstack((left_y, right_y))) - left_size * criterion(\n",
    "        left_y) - right_size * criterion(right_y)\n",
    "\n",
    "\n",
    "class DecisionTreeLeaf:\n",
    "    def __init__(self, y):\n",
    "        unique_y, freq = np.unique(y, return_counts=True)\n",
    "        self.y = unique_y[np.argmax(freq)]\n",
    "        self.y_to_prob = dict(zip(unique_y, freq / y.shape[0]))\n",
    "\n",
    "class DecisionTreeNode:\n",
    "    def __init__(self, split_dim, split_value, left, right):\n",
    "        self.split_dim = split_dim\n",
    "        self.split_value = split_value\n",
    "        self.left = left\n",
    "        self.right = right\n",
    "\n",
    "\n",
    "class DecisionTreeClassifier:\n",
    "    \"\"\"\n",
    "    Attributes\n",
    "    ----------\n",
    "    root : Union[DecisionTreeNode, DecisionTreeLeaf]\n",
    "        Корень дерева.\n",
    "\n",
    "    (можете добавлять в класс другие аттрибуты).\n",
    "\n",
    "    \"\"\"\n",
    "\n",
    "    def __init__(self, criterion: str = \"gini\",\n",
    "                 max_depth: Optional[int] = None,\n",
    "                 min_samples_leaf: int = 1,\n",
    "                 max_features=\"auto\"):\n",
    "        \"\"\"\n",
    "        Parameters\n",
    "        ----------\n",
    "        criterion : str\n",
    "            Задает критерий, который будет использоваться при построении дерева.\n",
    "            Возможные значения: \"gini\", \"entropy\".\n",
    "        max_depth : Optional[int]\n",
    "            Ограничение глубины дерева. Если None - глубина не ограничена.\n",
    "        min_samples_leaf : int\n",
    "            Минимальное количество элементов в каждом листе дерева.\n",
    "        max_features=\"auto\" - количество признаков, которые могут использоваться в узле.\n",
    "            Если \"auto\" - равно sqrt(X.shape[1])\n",
    "\n",
    "        \"\"\"\n",
    "        self.root = None\n",
    "        self.max_depth = 30 if max_depth is None else max_depth\n",
    "        self.min_samples_leaf = min_samples_leaf\n",
    "        self.min_gain = 1.0e-5\n",
    "        self.max_features_mode = max_features\n",
    "        if criterion == \"gini\":\n",
    "            self.criterion = gini\n",
    "        elif criterion == \"entropy\":\n",
    "            self.criterion = entropy\n",
    "        else:\n",
    "            raise NotImplementedError\n",
    "\n",
    "    def _gain_dim(self, X, y, dim: int):\n",
    "        objects_count = X.shape[0]\n",
    "        values_by_dim = X.T[dim]\n",
    "        sort_idx = np.argsort(values_by_dim)\n",
    "\n",
    "        values_by_dim = values_by_dim[sort_idx]\n",
    "        y = y[sort_idx]\n",
    "\n",
    "        best_split_value = values_by_dim[0]\n",
    "        max_gain = gain(left_y=y[:(0 + 1)], right_y=y[(0 + 1):], criterion=self.criterion)\n",
    "        for object_idx in range(objects_count - 1):\n",
    "            split_value = (values_by_dim[object_idx] + values_by_dim[object_idx + 1]) / 2\n",
    "            cur_gain = gain(left_y=y[:(object_idx + 1)], right_y=y[(object_idx + 1):], criterion=self.criterion)\n",
    "            if cur_gain > max_gain:\n",
    "                max_gain = cur_gain\n",
    "                best_split_value = split_value\n",
    "\n",
    "        return max_gain, best_split_value\n",
    "\n",
    "    def _split_nodes_by_feature(self, X: np.ndarray, y: np.ndarray, dim: int, split_value):\n",
    "        values_by_dim = X.T[dim]\n",
    "        left_idx = values_by_dim < split_value\n",
    "        right_idx = ~left_idx\n",
    "        return X[left_idx], y[left_idx], X[right_idx], y[right_idx]\n",
    "\n",
    "    def _build_tree(self, X: np.ndarray, y: np.ndarray, depth: int) -> Union[DecisionTreeNode, DecisionTreeLeaf]:\n",
    "        if depth == self.max_depth or y.shape[0] <= self.min_samples_leaf:\n",
    "            return DecisionTreeLeaf(y)\n",
    "        max_gain = float('-inf')\n",
    "        split_value_of_max = 0\n",
    "        dim_of_max = 0\n",
    "\n",
    "        sub_features = np.random.choice(np.arange(self.features_count), self.max_features)\n",
    "        for dim_idx in sub_features:\n",
    "            cur_gain, split_value = self._gain_dim(X, y, dim_idx)\n",
    "            if cur_gain > max_gain:\n",
    "                max_gain, split_value_of_max, dim_of_max = cur_gain, split_value, dim_idx\n",
    "        # split into children nodes\n",
    "        left_X, left_y, right_X, right_y = self._split_nodes_by_feature(X, y, dim_of_max, split_value_of_max)\n",
    "        # if we cannot split nodes\n",
    "        if left_y.shape[0] == 0 or right_y.shape[0] == 0:\n",
    "            return DecisionTreeLeaf(y)\n",
    "\n",
    "        left_node = self._build_tree(left_X, left_y, depth + 1)\n",
    "        right_node = self._build_tree(right_X, right_y, depth + 1)\n",
    "\n",
    "        return DecisionTreeNode(split_dim=dim_of_max, split_value=split_value_of_max, left=left_node, right=right_node)\n",
    "\n",
    "    def get_idx_out_of_bag(self, choice, all_size):\n",
    "        inds = np.empty(all_size, dtype=bool)\n",
    "        inds.fill(True)\n",
    "        inds[choice] = False\n",
    "        return inds\n",
    "\n",
    "    def fit(self, X: np.ndarray, y: np.ndarray) -> NoReturn:\n",
    "        \"\"\"\n",
    "        Строит дерево решений по обучающей выборке.\n",
    "\n",
    "        Parameters\n",
    "        ----------\n",
    "        X : np.ndarray\n",
    "            Обучающая выборка.\n",
    "        y : np.ndarray\n",
    "            Вектор меток классов.\n",
    "        \"\"\"\n",
    "        self.dimension_count = X.shape[1]\n",
    "\n",
    "        size_train = X.shape[0]\n",
    "        idx_train = np.random.choice(np.arange(X.shape[0]), size_train)\n",
    "        X_train = X[idx_train]\n",
    "        y_train = y[idx_train]\n",
    "        self.features_count = X.shape[1]\n",
    "        self.max_features = int(np.sqrt(self.features_count)) if self.max_features_mode == \"auto\" else self.max_features_mode\n",
    "\n",
    "        idx_out_of_bag = self.get_idx_out_of_bag(idx_train, X.shape[0])\n",
    "        self.out_of_bag_X = X[idx_out_of_bag].copy()\n",
    "        self.out_of_bag_y = y[idx_out_of_bag].copy()\n",
    "\n",
    "        self.root = self._build_tree(X_train, y_train, depth=0)\n",
    "\n",
    "    def _search_leaf(self, x, list_splits=None) -> Union[DecisionTreeNode, DecisionTreeLeaf]:\n",
    "        node = self.root\n",
    "        while isinstance(node, DecisionTreeNode):\n",
    "            if list_splits is not None:\n",
    "                list_splits.append((node.split_dim, node.split_value))\n",
    "            if x[node.split_dim] < node.split_value:\n",
    "                node = node.left\n",
    "            else:\n",
    "                node = node.right\n",
    "        return node\n",
    "\n",
    "    def get_path(self, x):\n",
    "        list_splits = []\n",
    "        leaf = self._search_leaf(x, list_splits)\n",
    "        p = leaf.y_to_prob\n",
    "        return max(p.keys(), key=lambda k: p[k]), list_splits\n",
    "\n",
    "    def _predict_proba_point(self, x):\n",
    "        # go to the leaf\n",
    "        leaf = self._search_leaf(x)\n",
    "        return leaf.y_to_prob\n",
    "\n",
    "    def predict_proba(self, X: np.ndarray) -> List[Dict[Any, float]]:\n",
    "        \"\"\"\n",
    "        Предсказывает вероятность классов для элементов из X.\n",
    "\n",
    "        Parameters\n",
    "        ----------\n",
    "        X : np.ndarray\n",
    "            Элементы для предсказания.\n",
    "\n",
    "        Return\n",
    "        ------\n",
    "        List[Dict[Any, float]]\n",
    "            Для каждого элемента из X возвращает словарь\n",
    "            {метка класса -> вероятность класса}.\n",
    "        \"\"\"\n",
    "        return list(map(self._predict_proba_point, X))\n",
    "\n",
    "    def predict(self, X: np.ndarray) -> list:\n",
    "        \"\"\"\n",
    "        Предсказывает классы для элементов X.\n",
    "\n",
    "        Parameters\n",
    "        ----------\n",
    "        X : np.ndarray\n",
    "            Элементы для предсказания.\n",
    "\n",
    "        Return\n",
    "        ------\n",
    "        list\n",
    "            Вектор предсказанных меток для элементов X.\n",
    "        \"\"\"\n",
    "        proba = self.predict_proba(X)\n",
    "        return [max(p.keys(), key=lambda k: p[k]) for p in proba]\n",
    "\n",
    "    def feature_importance(self):\n",
    "        importance = np.zeros(self.features_count)\n",
    "        err_objs = np.mean(self.predict(self.out_of_bag_X) != self.out_of_bag_y)\n",
    "        for dim in range(self.features_count):\n",
    "            row = self.out_of_bag_X[:, dim].copy()\n",
    "            shuffle_row = self.out_of_bag_X[:, dim].copy()\n",
    "            np.random.shuffle(shuffle_row)\n",
    "\n",
    "            self.out_of_bag_X[:, dim] = shuffle_row\n",
    "            err_oob_j = np.mean(self.predict(self.out_of_bag_X) != self.out_of_bag_y)\n",
    "            # returning to the original state\n",
    "            self.out_of_bag_X[:, dim] = row\n",
    "\n",
    "            importance[dim] = err_oob_j - err_objs\n",
    "        return importance\n",
    "\n",
    "\n",
    "def most_freq(x):\n",
    "    (values, counts) = np.unique(x, return_counts=True)\n",
    "    return values[np.argmax(counts)]\n",
    "\n",
    "\n",
    "class RandomForestClassifier:\n",
    "    def __init__(self, criterion=\"gini\", max_depth=None, min_samples_leaf=1, max_features=\"auto\", n_estimators=10):\n",
    "        self.criterion = criterion\n",
    "        self.max_depth = max_depth\n",
    "        self.min_samples_leaf = min_samples_leaf\n",
    "        self.n_estimators = n_estimators\n",
    "        self.max_features = max_features\n",
    "        self.trees = [DecisionTreeClassifier(criterion=self.criterion,\n",
    "                                             max_depth=self.max_depth, min_samples_leaf=self.min_samples_leaf,\n",
    "                                             max_features=self.max_features) for _ in range(self.n_estimators)]\n",
    "        self.trained = False\n",
    "\n",
    "    def fit(self, X, y):\n",
    "        self.y_type = type(y)\n",
    "        for i in range(self.n_estimators):\n",
    "            self.trees[i].fit(X, y)\n",
    "        self.trained = True\n",
    "\n",
    "    def predict(self, X):\n",
    "        result_matrix = np.empty((self.n_estimators, X.shape[0]), dtype=self.y_type)\n",
    "        for idx, tree in enumerate(self.trees):\n",
    "            result_matrix[idx] = tree.predict(X)\n",
    "        result = np.empty(X.shape[0], dtype=self.y_type)\n",
    "        result_matrix = result_matrix.T\n",
    "        for idx, row in enumerate(result_matrix):\n",
    "            result[idx] = most_freq(row)\n",
    "        return result\n",
    "\n",
    "    def feature_importance(self):\n",
    "        assert self.trained\n",
    "        return np.mean([tree.feature_importance() for tree in self.trees], axis=0)"
   ]
  },
  {
   "cell_type": "markdown",
   "metadata": {},
   "source": [
    "Часто хочется понимать, насколько большую роль играет тот или иной признак для предсказания класса объекта. Есть различные способы посчитать его важность. Один из простых способов сделать это для Random Forest выглядит так:\n",
    "1. Посчитать out-of-bag ошибку предсказания `err_oob` (https://en.wikipedia.org/wiki/Out-of-bag_error)\n",
    "2. Перемешать значения признака `j` у объектов выборки (у каждого из объектов изменится значение признака `j` на какой-то другой)\n",
    "3. Посчитать out-of-bag ошибку (`err_oob_j`) еще раз.\n",
    "4. Оценкой важности признака `j` для одного дерева будет разность `err_oob_j - err_oob`, важность для всего леса считается как среднее значение важности по деревьям.\n",
    "\n",
    "Реализуйте функцию `feature_importance`, которая принимает на вход Random Forest и возвращает массив, в котором содержится важность для каждого признака."
   ]
  },
  {
   "cell_type": "code",
   "execution_count": 11,
   "metadata": {},
   "outputs": [],
   "source": [
    "def feature_importance(rfc: RandomForestClassifier):\n",
    "    return rfc.feature_importance()\n",
    "\n",
    "def most_important_features(importance, names, k=20):\n",
    "    # Выводит названия k самых важных признаков\n",
    "    idicies = np.argsort(importance)[::-1][:k]\n",
    "    return np.array(names)[idicies]"
   ]
  },
  {
   "cell_type": "code",
   "execution_count": 51,
   "metadata": {},
   "outputs": [],
   "source": [
    "def synthetic_dataset(size):\n",
    "    X = [(np.random.randint(0, 2), np.random.randint(0, 2), i % 6 == 3, \n",
    "          i % 6 == 0, i % 3 == 2, np.random.randint(0, 2)) for i in range(size)]\n",
    "    y = [i % 3 for i in range(size)]\n",
    "    return np.array(X), np.array(y)"
   ]
  },
  {
   "cell_type": "markdown",
   "metadata": {},
   "source": [
    "Протестируйте решение на простом синтетическом наборе данных. В результате должна получиться точность `1.0`, наибольшее значение важности должно быть у признака с индексом `4`, признаки с индексами `2` и `3`  должны быть одинаково важны, а остальные признаки - не важны совсем."
   ]
  },
  {
   "cell_type": "code",
   "execution_count": 193,
   "metadata": {},
   "outputs": [],
   "source": [
    "X, y = synthetic_dataset(1000)\n",
    "rfc = RandomForestClassifier(n_estimators=40)\n",
    "rfc.fit(X, y)"
   ]
  },
  {
   "cell_type": "code",
   "execution_count": 194,
   "metadata": {},
   "outputs": [
    {
     "name": "stdout",
     "output_type": "stream",
     "text": [
      "Accuracy: 1.0\n",
      "Importance: [ 0.00089779 -0.00176646  0.05077488  0.08183027  0.13751136 -0.00149581]\n"
     ]
    }
   ],
   "source": [
    "print(\"Accuracy:\", np.mean(rfc.predict(X) == y))\n",
    "print(\"Importance:\", feature_importance(rfc))"
   ]
  },
  {
   "cell_type": "markdown",
   "metadata": {},
   "source": [
    "### \n",
    "Оптимизируйте по `AUC` на кроссвалидации (размер валидационной выборки - 20%) параметры своей реализации `Random Forest`: \n",
    "\n",
    "максимальную глубину деревьев из [2, 3, 5, 7, 10], количество деревьев из [5, 10, 20, 30, 50, 100]. \n",
    "\n",
    "Постройте `ROC` кривую (и выведите `AUC` и `accuracy`) для лучшего варианта.\n",
    "\n",
    "Подсказка: можно построить сразу 100 деревьев глубины 10, а потом убирать деревья и\n",
    "глубину."
   ]
  },
  {
   "cell_type": "code",
   "execution_count": 46,
   "metadata": {},
   "outputs": [],
   "source": [
    "from sklearn import metrics"
   ]
  },
  {
   "cell_type": "code",
   "execution_count": 60,
   "metadata": {},
   "outputs": [],
   "source": [
    "def read_datasets_spam(path_to_x, path_to_y):\n",
    "    X = read_dataset_X_spam(path_to_x)\n",
    "    y_df = pd.read_csv(path_to_y, sep=',')\n",
    "    y = np.array(y_df['Expected'])\n",
    "    shuffle_idx = np.arange(y.shape[0])\n",
    "    np.random.shuffle(shuffle_idx)\n",
    "    \n",
    "    X = X[shuffle_idx]\n",
    "    y = y[shuffle_idx]\n",
    "    return X, y"
   ]
  },
  {
   "cell_type": "code",
   "execution_count": 59,
   "metadata": {},
   "outputs": [],
   "source": [
    "def read_dataset_X_spam(path_to_csv):\n",
    "    df = pd.read_csv(path_to_csv, sep=',')\n",
    "    return np.array(df.drop('Id', 1))"
   ]
  },
  {
   "cell_type": "code",
   "execution_count": 92,
   "metadata": {},
   "outputs": [],
   "source": [
    "path_to_spam_X = '/home/ivankozlov98/Learning/Bio_ML/Homeworks/Hw4/x_spam_train.csv'\n",
    "path_to_spam_y = '/home/ivankozlov98/Learning/Bio_ML/Homeworks/Hw4/y_spam_train.csv'"
   ]
  },
  {
   "cell_type": "code",
   "execution_count": 95,
   "metadata": {},
   "outputs": [],
   "source": [
    "X, y = read_datasets_spam(path_to_spam_X, path_to_spam_y)\n",
    "kf = KFold(n_splits=3)\n",
    "train_index_test_index_s = list(kf.split(X))\n",
    "depths = [2, 3, 5] # , 7, 10\n",
    "num_trees_s = [5, 10, 20, 30] # , 50, 100\n",
    "depth_and_num_trees_to_auc = dict() # (depth, num_trees) -> [auc_1, auc_2, auc_3, auc_4, auc_5]\n",
    "# init depth_and_num_trees_to_auc\n",
    "for depth in depths:\n",
    "    for num_trees in num_trees_s:  \n",
    "        depth_and_num_trees_to_auc[(depth, num_trees)] = []"
   ]
  },
  {
   "cell_type": "code",
   "execution_count": 96,
   "metadata": {},
   "outputs": [
    {
     "name": "stderr",
     "output_type": "stream",
     "text": [
      "100%|██████████| 3/3 [3:53:41<00:00, 4673.88s/it]  \n"
     ]
    }
   ],
   "source": [
    "# CV\n",
    "for depth in tqdm(depths):\n",
    "    for num_trees in num_trees_s:   \n",
    "        for train_index, test_index in train_index_test_index_s:\n",
    "            X_train, X_test = X[train_index], X[test_index]\n",
    "            y_train, y_test = y[train_index], y[test_index]\n",
    "            classifier = RandomForestClassifier(max_depth=depth, n_estimators=num_trees)\n",
    "            classifier.fit(X_train, y_train)\n",
    "            pred = classifier.predict(X_test)\n",
    "            fpr, tpr, thresholds = metrics.roc_curve(y_test, pred, pos_label=1)\n",
    "            auc = metrics.auc(fpr, tpr)\n",
    "            depth_and_num_trees_to_auc[(depth, num_trees)].append(auc)"
   ]
  },
  {
   "cell_type": "code",
   "execution_count": 103,
   "metadata": {},
   "outputs": [],
   "source": [
    "depth_and_num_trees_to_mean_auc = {(depth, num_trees) : np.mean(aucs) for ((depth, num_trees), aucs) in depth_and_num_trees_to_auc.items()}"
   ]
  },
  {
   "cell_type": "code",
   "execution_count": 106,
   "metadata": {},
   "outputs": [],
   "source": [
    "best_depth, best_num_trees = max(depth_and_num_trees_to_mean_auc, key=depth_and_num_trees_to_mean_auc.get)"
   ]
  },
  {
   "cell_type": "code",
   "execution_count": 118,
   "metadata": {},
   "outputs": [
    {
     "data": {
      "text/plain": [
       "(3, 5)"
      ]
     },
     "execution_count": 118,
     "metadata": {},
     "output_type": "execute_result"
    }
   ],
   "source": [
    "best_depth, best_num_trees"
   ]
  },
  {
   "cell_type": "code",
   "execution_count": 115,
   "metadata": {},
   "outputs": [],
   "source": [
    "X_train, y_train = read_datasets_spam(path_to_spam_X, path_to_spam_y)\n",
    "X_train, X_test, y_train, y_test = train_test_split(X_train, y_train, test_size=0.2, random_state=42)"
   ]
  },
  {
   "cell_type": "code",
   "execution_count": 116,
   "metadata": {},
   "outputs": [
    {
     "name": "stdout",
     "output_type": "stream",
     "text": [
      "Accuracy: 0.8097826086956522\n",
      "Importance: [0.         0.         0.         0.         0.         0.\n",
      " 0.02269767 0.         0.         0.         0.         0.\n",
      " 0.         0.         0.         0.         0.0121547  0.\n",
      " 0.01410256 0.         0.10111972 0.         0.00948837 0.\n",
      " 0.00607735 0.01515712 0.01182783 0.0040293  0.         0.003663\n",
      " 0.         0.         0.         0.         0.         0.\n",
      " 0.         0.         0.00018605 0.         0.         0.\n",
      " 0.         0.         0.         0.         0.         0.\n",
      " 0.         0.         0.         0.02454212 0.02965009 0.\n",
      " 0.         0.0032967  0.        ]\n"
     ]
    }
   ],
   "source": [
    "rfc = RandomForestClassifier(max_depth=best_depth, n_estimators=best_num_trees)\n",
    "rfc.fit(X_train, y_train)\n",
    "print(\"Accuracy:\", np.mean(rfc.predict(X_test) == y_test))\n",
    "importances = feature_importance(rfc)\n",
    "print(\"Importance:\", importances)"
   ]
  },
  {
   "cell_type": "code",
   "execution_count": 117,
   "metadata": {},
   "outputs": [
    {
     "name": "stdout",
     "output_type": "stream",
     "text": [
      "0 0.0\n",
      "1 0.0\n",
      "2 0.0\n",
      "3 0.0\n",
      "4 0.0\n",
      "5 0.0\n",
      "6 0.022697674418604652\n",
      "7 0.0\n",
      "8 0.0\n",
      "9 0.0\n",
      "10 0.0\n",
      "11 0.0\n",
      "12 0.0\n",
      "13 0.0\n",
      "14 0.0\n",
      "15 0.0\n",
      "16 0.012154696132596687\n",
      "17 0.0\n",
      "18 0.014102564102564103\n",
      "19 0.0\n",
      "20 0.10111971800713579\n",
      "21 0.0\n",
      "22 0.009488372093023256\n",
      "23 0.0\n",
      "24 0.006077348066298343\n",
      "25 0.015157116451016639\n",
      "26 0.01182782988564821\n",
      "27 0.004029304029304026\n",
      "28 0.0\n",
      "29 0.0036630036630036613\n",
      "30 0.0\n",
      "31 0.0\n",
      "32 0.0\n",
      "33 0.0\n",
      "34 0.0\n",
      "35 0.0\n",
      "36 0.0\n",
      "37 0.0\n",
      "38 0.00018604651162790753\n",
      "39 0.0\n",
      "40 0.0\n",
      "41 0.0\n",
      "42 0.0\n",
      "43 0.0\n",
      "44 0.0\n",
      "45 0.0\n",
      "46 0.0\n",
      "47 0.0\n",
      "48 0.0\n",
      "49 0.0\n",
      "50 0.0\n",
      "51 0.024542124542124538\n",
      "52 0.02965009208103131\n",
      "53 0.0\n",
      "54 0.0\n",
      "55 0.0032967032967032963\n",
      "56 0.0\n"
     ]
    }
   ],
   "source": [
    "for (i, imp) in enumerate(importances):\n",
    "    print(i, imp)"
   ]
  },
  {
   "cell_type": "code",
   "execution_count": 113,
   "metadata": {},
   "outputs": [
    {
     "name": "stdout",
     "output_type": "stream",
     "text": [
      "AUC is 0.8496917567598196\n"
     ]
    }
   ],
   "source": [
    "fpr, tpr, thresholds = metrics.roc_curve(y_test, rfc.predict(X_test), pos_label=1)\n",
    "roc_auc = metrics.auc(fpr, tpr)\n",
    "print(f\"AUC is {auc}\")"
   ]
  },
  {
   "cell_type": "code",
   "execution_count": 112,
   "metadata": {},
   "outputs": [
    {
     "data": {
      "image/png": "[encoded data removed]",
      "text/plain": [
       "<Figure size 432x288 with 1 Axes>"
      ]
     },
     "metadata": {
      "needs_background": "light"
     },
     "output_type": "display_data"
    }
   ],
   "source": [
    "import matplotlib.pyplot as plt\n",
    "plt.title('Receiver Operating Characteristic')\n",
    "plt.plot(fpr, tpr, 'b', label = 'AUC = %0.2f' % roc_auc)\n",
    "plt.legend(loc = 'lower right')\n",
    "plt.plot([0, 1], [0, 1],'r--')\n",
    "plt.xlim([0, 1])\n",
    "plt.ylim([0, 1])\n",
    "plt.ylabel('True Positive Rate')\n",
    "plt.xlabel('False Positive Rate')\n",
    "plt.show()"
   ]
  },
  {
   "cell_type": "markdown",
   "metadata": {},
   "source": [
    "Проверьте, какие признаки важны для датасета spam? (Используйте файлы x_spam_train и y_spam_train)"
   ]
  },
  {
   "cell_type": "markdown",
   "metadata": {},
   "source": [
    "_Ваш ответ:_ в виду того, что использовались в качестве лучших параметров небольшое количество деревьев и небольшая глубина (5 и 3 соответственно) важности признаков далеки от истинных и получились такими в силу рандома (и для конкретной модели). 21-ый признак самый значимый (0.1), также значимы 6,16,18,22,24-27,29,38,51,52,55 признаки "
   ]
  },
  {
   "cell_type": "markdown",
   "metadata": {},
   "source": [
    "1. Обучите модель на всех данных из x_spam_train и y_spam_train.\n",
    "2. Сделайте submit своего решения и получите значение f1_score не менее 0.6"
   ]
  },
  {
   "cell_type": "code",
   "execution_count": 119,
   "metadata": {},
   "outputs": [],
   "source": [
    "X_train, y_train = read_datasets_spam(path_to_spam_X, path_to_spam_y)\n",
    "path_to_X_test = '/home/ivankozlov98/Learning/Bio_ML/Homeworks/Hw1/hw1/ml-intro/hw_dt_data/x_spam_test.csv'\n",
    "X_test = read_dataset_X_spam(path_to_X_test)"
   ]
  },
  {
   "cell_type": "code",
   "execution_count": 120,
   "metadata": {},
   "outputs": [],
   "source": [
    "rfc = RandomForestClassifier(max_depth=best_depth, n_estimators=best_num_trees)\n",
    "rfc.fit(X_train, y_train)"
   ]
  },
  {
   "cell_type": "code",
   "execution_count": 122,
   "metadata": {
    "pycharm": {
     "name": "#%%\n"
    }
   },
   "outputs": [],
   "source": [
    "submission = pd.DataFrame(columns = [\"Id\", \"Expected\"])\n",
    "submission[\"Id\"] = np.arange(X_test.shape[0])\n",
    "submission[\"Expected\"] =  rfc.predict(X_test)\n",
    "submission.to_csv('submission.csv', index=False)"
   ]
  },
  {
   "cell_type": "markdown",
   "metadata": {},
   "source": [
    "В качестве альтернативы попробуем библиотечные реализации ансамблей моделей. \n",
    "\n",
    "1. [CatBoost](https://catboost.ai/docs/)\n",
    "2. [XGBoost](https://xgboost.readthedocs.io/en/latest/)\n",
    "3. [LightGBM](https://lightgbm.readthedocs.io/en/latest/)\n"
   ]
  },
  {
   "cell_type": "markdown",
   "metadata": {},
   "source": [
    "Установите необходимые библиотеки. \n",
    "Возможно, потребуется установка дополнительных пакетов."
   ]
  },
  {
   "cell_type": "code",
   "execution_count": 123,
   "metadata": {},
   "outputs": [
    {
     "name": "stdout",
     "output_type": "stream",
     "text": [
      "Collecting lightgbm\n",
      "  Downloading lightgbm-3.3.2-py3-none-manylinux1_x86_64.whl (2.0 MB)\n",
      "\u001b[K     |████████████████████████████████| 2.0 MB 1.3 MB/s eta 0:00:01\n",
      "\u001b[?25hRequirement already satisfied: scipy in /home/ivankozlov98/environments/my_env/lib/python3.8/site-packages (from lightgbm) (1.5.2)\n",
      "Requirement already satisfied: scikit-learn!=0.22.0 in /home/ivankozlov98/environments/my_env/lib/python3.8/site-packages (from lightgbm) (1.0.2)\n",
      "Requirement already satisfied: wheel in /home/ivankozlov98/environments/my_env/lib/python3.8/site-packages (from lightgbm) (0.35.1)\n",
      "Requirement already satisfied: numpy in /home/ivankozlov98/environments/my_env/lib/python3.8/site-packages (from lightgbm) (1.19.1)\n",
      "Requirement already satisfied: joblib>=0.11 in /home/ivankozlov98/environments/my_env/lib/python3.8/site-packages (from scikit-learn!=0.22.0->lightgbm) (0.16.0)\n",
      "Requirement already satisfied: threadpoolctl>=2.0.0 in /home/ivankozlov98/environments/my_env/lib/python3.8/site-packages (from scikit-learn!=0.22.0->lightgbm) (2.1.0)\n",
      "Installing collected packages: lightgbm\n",
      "Successfully installed lightgbm-3.3.2\n",
      "\u001b[33mWARNING: You are using pip version 21.0.1; however, version 22.0.4 is available.\n",
      "You should consider upgrading via the '/home/ivankozlov98/environments/my_env/bin/python -m pip install --upgrade pip' command.\u001b[0m\n",
      "Requirement already satisfied: catboost in /home/ivankozlov98/environments/my_env/lib/python3.8/site-packages (0.24.1)\n",
      "Requirement already satisfied: plotly in /home/ivankozlov98/environments/my_env/lib/python3.8/site-packages (from catboost) (4.9.0)\n",
      "Requirement already satisfied: graphviz in /home/ivankozlov98/environments/my_env/lib/python3.8/site-packages (from catboost) (0.14.1)\n",
      "Requirement already satisfied: six in /home/ivankozlov98/environments/my_env/lib/python3.8/site-packages (from catboost) (1.15.0)\n",
      "Requirement already satisfied: matplotlib in /home/ivankozlov98/environments/my_env/lib/python3.8/site-packages (from catboost) (3.3.1)\n",
      "Requirement already satisfied: pandas>=0.24.0 in /home/ivankozlov98/environments/my_env/lib/python3.8/site-packages (from catboost) (1.1.2)\n",
      "Requirement already satisfied: numpy>=1.16.0 in /home/ivankozlov98/environments/my_env/lib/python3.8/site-packages (from catboost) (1.19.1)\n",
      "Requirement already satisfied: scipy in /home/ivankozlov98/environments/my_env/lib/python3.8/site-packages (from catboost) (1.5.2)\n",
      "Requirement already satisfied: pytz>=2017.2 in /home/ivankozlov98/environments/my_env/lib/python3.8/site-packages (from pandas>=0.24.0->catboost) (2020.1)\n",
      "Requirement already satisfied: python-dateutil>=2.7.3 in /home/ivankozlov98/environments/my_env/lib/python3.8/site-packages (from pandas>=0.24.0->catboost) (2.8.1)\n",
      "Requirement already satisfied: pyparsing!=2.0.4,!=2.1.2,!=2.1.6,>=2.0.3 in /home/ivankozlov98/environments/my_env/lib/python3.8/site-packages (from matplotlib->catboost) (2.4.7)\n",
      "Requirement already satisfied: certifi>=2020.06.20 in /home/ivankozlov98/environments/my_env/lib/python3.8/site-packages (from matplotlib->catboost) (2020.6.20)\n",
      "Requirement already satisfied: cycler>=0.10 in /home/ivankozlov98/environments/my_env/lib/python3.8/site-packages (from matplotlib->catboost) (0.10.0)\n",
      "Requirement already satisfied: pillow>=6.2.0 in /home/ivankozlov98/environments/my_env/lib/python3.8/site-packages (from matplotlib->catboost) (7.2.0)\n",
      "Requirement already satisfied: kiwisolver>=1.0.1 in /home/ivankozlov98/environments/my_env/lib/python3.8/site-packages (from matplotlib->catboost) (1.2.0)\n",
      "Requirement already satisfied: retrying>=1.3.3 in /home/ivankozlov98/environments/my_env/lib/python3.8/site-packages (from plotly->catboost) (1.3.3)\n",
      "\u001b[33mWARNING: You are using pip version 21.0.1; however, version 22.0.4 is available.\n",
      "You should consider upgrading via the '/home/ivankozlov98/environments/my_env/bin/python -m pip install --upgrade pip' command.\u001b[0m\n",
      "Collecting xgboost\n",
      "  Downloading xgboost-1.5.2-py3-none-manylinux2014_x86_64.whl (173.6 MB)\n",
      "\u001b[K     |████████████████████████████████| 173.6 MB 3.5 MB/s eta 0:00:017    |█████▉                          | 31.5 MB 2.2 MB/s eta 0:01:04     |████████▉                       | 48.0 MB 398 kB/s eta 0:05:15     |█████████████▍                  | 72.9 MB 1.0 MB/s eta 0:01:37     |█████████████▉                  | 75.1 MB 1.0 MB/s eta 0:01:35     |████████████████▍               | 89.1 MB 6.9 MB/s eta 0:00:13     |████████████████████████▊       | 133.9 MB 3.4 MB/s eta 0:00:12     |█████████████████████████████▎  | 158.5 MB 5.9 MB/s eta 0:00:03     |█████████████████████████████▌  | 160.0 MB 2.0 MB/s eta 0:00:07     |█████████████████████████████▋  | 160.4 MB 2.0 MB/s eta 0:00:07     |██████████████████████████████▋ | 166.0 MB 7.8 MB/s eta 0:00:01     |████████████████████████████████| 173.6 MB 3.5 kB/s \n",
      "\u001b[?25hRequirement already satisfied: numpy in /home/ivankozlov98/environments/my_env/lib/python3.8/site-packages (from xgboost) (1.19.1)\n",
      "Requirement already satisfied: scipy in /home/ivankozlov98/environments/my_env/lib/python3.8/site-packages (from xgboost) (1.5.2)\n",
      "Installing collected packages: xgboost\n",
      "Successfully installed xgboost-1.5.2\n",
      "\u001b[33mWARNING: You are using pip version 21.0.1; however, version 22.0.4 is available.\n",
      "You should consider upgrading via the '/home/ivankozlov98/environments/my_env/bin/python -m pip install --upgrade pip' command.\u001b[0m\n"
     ]
    }
   ],
   "source": [
    "!pip3 install lightgbm\n",
    "!pip3 install catboost\n",
    "!pip3 install xgboost"
   ]
  },
  {
   "cell_type": "markdown",
   "metadata": {},
   "source": [
    "1. Примените модели для нашего датасета.\n",
    "\n",
    "2. Для стандартного набора параметров у каждой модели нарисуйте `ROC` кривую и выведите `AUC` и `accuracy`.\n",
    "\n",
    "3. Посчитайте время обучения каждой модели (можно использовать [timeit magic](https://ipython.readthedocs.io/en/stable/interactive/magics.html#magic-timeit)).\n",
    "\n",
    "4. Сравните метрики качества и скорость обучения моделей. Какие выводы можно сделать?"
   ]
  },
  {
   "cell_type": "code",
   "execution_count": 173,
   "metadata": {},
   "outputs": [],
   "source": [
    "def get_accuracy(y_test, pred):\n",
    "    return np.mean(pred == y_test)\n",
    "\n",
    "def get_fpr_tpr_auc(y_test, pred):\n",
    "    fpr, tpr, thresholds = metrics.roc_curve(y_test, pred, pos_label=1)\n",
    "    auc = metrics.auc(fpr, tpr)\n",
    "    return fpr, tpr, auc \n",
    "    \n",
    "def draw_roc(fpr, tpr, roc_auc):\n",
    "    plt.title('Receiver Operating Characteristic')\n",
    "    plt.plot(fpr, tpr, 'b', label = 'AUC = %0.2f' % roc_auc)\n",
    "    plt.legend(loc = 'lower right')\n",
    "    plt.plot([0, 1], [0, 1],'r--')\n",
    "    plt.xlim([0, 1])\n",
    "    plt.ylim([0, 1])\n",
    "    plt.ylabel('True Positive Rate')\n",
    "    plt.xlabel('False Positive Rate')\n",
    "    plt.show()"
   ]
  },
  {
   "cell_type": "code",
   "execution_count": 174,
   "metadata": {},
   "outputs": [],
   "source": [
    "# prepare datasets\n",
    "X_train, y_train = read_datasets_spam(path_to_spam_X, path_to_spam_y)\n",
    "X_train, X_test, y_train, y_test = train_test_split(X_train, y_train, test_size=0.2, random_state=42)"
   ]
  },
  {
   "cell_type": "markdown",
   "metadata": {},
   "source": [
    "### CatBoost"
   ]
  },
  {
   "cell_type": "code",
   "execution_count": 175,
   "metadata": {},
   "outputs": [],
   "source": [
    "from catboost import Pool, CatBoostClassifier"
   ]
  },
  {
   "cell_type": "code",
   "execution_count": 195,
   "metadata": {},
   "outputs": [],
   "source": [
    "train_dataset = Pool(data=X_train, label=y_train)\n",
    "test_dataset = Pool(data=X_test, label=y_test)\n",
    "model = CatBoostClassifier()"
   ]
  },
  {
   "cell_type": "code",
   "execution_count": 196,
   "metadata": {},
   "outputs": [
    {
     "name": "stdout",
     "output_type": "stream",
     "text": [
      "18.3 s ± 2.91 s per loop (mean ± std. dev. of 7 runs, 1 loop each)\n"
     ]
    }
   ],
   "source": [
    "%timeit model.fit(train_dataset, logging_level='Silent')"
   ]
  },
  {
   "cell_type": "code",
   "execution_count": 197,
   "metadata": {},
   "outputs": [
    {
     "name": "stdout",
     "output_type": "stream",
     "text": [
      "Accuracy of catboost model: 0.9605978260869565\n",
      "AUC of catboost model: 0.9571759259259259\n"
     ]
    },
    {
     "data": {
      "image/png": "[encoded data removed]",
      "text/plain": [
       "<Figure size 432x288 with 1 Axes>"
      ]
     },
     "metadata": {
      "needs_background": "light"
     },
     "output_type": "display_data"
    }
   ],
   "source": [
    "pred_catboost = model.predict(X_test)\n",
    "print(f\"Accuracy of catboost model: {get_accuracy(y_test, pred_catboost)}\")\n",
    "fpr, tpr, auc = get_fpr_tpr_auc(y_test, pred_catboost)\n",
    "print(f\"AUC of catboost model: {auc}\")\n",
    "draw_roc(fpr, tpr, auc)"
   ]
  },
  {
   "cell_type": "markdown",
   "metadata": {},
   "source": [
    "### XgBoost"
   ]
  },
  {
   "cell_type": "code",
   "execution_count": 198,
   "metadata": {},
   "outputs": [],
   "source": [
    "from xgboost import XGBClassifier"
   ]
  },
  {
   "cell_type": "code",
   "execution_count": 199,
   "metadata": {},
   "outputs": [],
   "source": [
    "xgbc = XGBClassifier()"
   ]
  },
  {
   "cell_type": "code",
   "execution_count": 200,
   "metadata": {},
   "outputs": [
    {
     "name": "stderr",
     "output_type": "stream",
     "text": [
      "/home/ivankozlov98/environments/my_env/lib/python3.8/site-packages/xgboost/sklearn.py:1224: UserWarning: The use of label encoder in XGBClassifier is deprecated and will be removed in a future release. To remove this warning, do the following: 1) Pass option use_label_encoder=False when constructing XGBClassifier object; and 2) Encode your labels (y) as integers starting with 0, i.e. 0, 1, 2, ..., [num_class - 1].\n",
      "  warnings.warn(label_encoder_deprecation_msg, UserWarning)\n"
     ]
    },
    {
     "name": "stdout",
     "output_type": "stream",
     "text": [
      "[11:16:31] WARNING: ../src/learner.cc:1115: Starting in XGBoost 1.3.0, the default evaluation metric used with the objective 'binary:logistic' was changed from 'error' to 'logloss'. Explicitly set eval_metric if you'd like to restore the old behavior.\n",
      "[11:16:33] WARNING: ../src/learner.cc:1115: Starting in XGBoost 1.3.0, the default evaluation metric used with the objective 'binary:logistic' was changed from 'error' to 'logloss'. Explicitly set eval_metric if you'd like to restore the old behavior.\n",
      "[11:16:34] WARNING: ../src/learner.cc:1115: Starting in XGBoost 1.3.0, the default evaluation metric used with the objective 'binary:logistic' was changed from 'error' to 'logloss'. Explicitly set eval_metric if you'd like to restore the old behavior.\n",
      "[11:16:36] WARNING: ../src/learner.cc:1115: Starting in XGBoost 1.3.0, the default evaluation metric used with the objective 'binary:logistic' was changed from 'error' to 'logloss'. Explicitly set eval_metric if you'd like to restore the old behavior.\n",
      "[11:16:38] WARNING: ../src/learner.cc:1115: Starting in XGBoost 1.3.0, the default evaluation metric used with the objective 'binary:logistic' was changed from 'error' to 'logloss'. Explicitly set eval_metric if you'd like to restore the old behavior.\n",
      "[11:16:39] WARNING: ../src/learner.cc:1115: Starting in XGBoost 1.3.0, the default evaluation metric used with the objective 'binary:logistic' was changed from 'error' to 'logloss'. Explicitly set eval_metric if you'd like to restore the old behavior.\n",
      "[11:16:41] WARNING: ../src/learner.cc:1115: Starting in XGBoost 1.3.0, the default evaluation metric used with the objective 'binary:logistic' was changed from 'error' to 'logloss'. Explicitly set eval_metric if you'd like to restore the old behavior.\n",
      "[11:16:42] WARNING: ../src/learner.cc:1115: Starting in XGBoost 1.3.0, the default evaluation metric used with the objective 'binary:logistic' was changed from 'error' to 'logloss'. Explicitly set eval_metric if you'd like to restore the old behavior.\n",
      "1.62 s ± 104 ms per loop (mean ± std. dev. of 7 runs, 1 loop each)\n"
     ]
    }
   ],
   "source": [
    "%timeit xgbc.fit(X_train, y_train)"
   ]
  },
  {
   "cell_type": "code",
   "execution_count": 201,
   "metadata": {},
   "outputs": [
    {
     "name": "stdout",
     "output_type": "stream",
     "text": [
      "Accuracy of xgboost model: 0.9605978260869565\n",
      "AUC of xgboost model: 0.9576632553606239\n"
     ]
    },
    {
     "data": {
      "image/png": "[encoded data removed]",
      "text/plain": [
       "<Figure size 432x288 with 1 Axes>"
      ]
     },
     "metadata": {
      "needs_background": "light"
     },
     "output_type": "display_data"
    }
   ],
   "source": [
    "pred_xgboost = xgbc.predict(X_test)\n",
    "print(f\"Accuracy of xgboost model: {get_accuracy(y_test, pred_xgboost)}\")\n",
    "fpr, tpr, auc = get_fpr_tpr_auc(y_test, pred_xgboost)\n",
    "print(f\"AUC of xgboost model: {auc}\")\n",
    "draw_roc(fpr, tpr, auc)"
   ]
  },
  {
   "cell_type": "markdown",
   "metadata": {},
   "source": [
    "### LightGBM"
   ]
  },
  {
   "cell_type": "code",
   "execution_count": 187,
   "metadata": {},
   "outputs": [],
   "source": [
    "from lightgbm import LGBMClassifier"
   ]
  },
  {
   "cell_type": "code",
   "execution_count": 202,
   "metadata": {},
   "outputs": [],
   "source": [
    "gbm = LGBMClassifier()"
   ]
  },
  {
   "cell_type": "code",
   "execution_count": 203,
   "metadata": {},
   "outputs": [
    {
     "name": "stdout",
     "output_type": "stream",
     "text": [
      "553 ms ± 69.5 ms per loop (mean ± std. dev. of 7 runs, 1 loop each)\n"
     ]
    }
   ],
   "source": [
    "%timeit gbm.fit(X_train, y_train)"
   ]
  },
  {
   "cell_type": "code",
   "execution_count": 204,
   "metadata": {},
   "outputs": [
    {
     "name": "stdout",
     "output_type": "stream",
     "text": [
      "Accuracy of lightGBM model: 0.9605978260869565\n",
      "AUC of lightGBM model: 0.9576632553606239\n"
     ]
    },
    {
     "data": {
      "image/png": "[encoded data removed]",
      "text/plain": [
       "<Figure size 432x288 with 1 Axes>"
      ]
     },
     "metadata": {
      "needs_background": "light"
     },
     "output_type": "display_data"
    }
   ],
   "source": [
    "pred_gbm = gbm.predict(X_test)\n",
    "print(f\"Accuracy of lightGBM model: {get_accuracy(y_test, pred_gbm)}\")\n",
    "fpr, tpr, auc = get_fpr_tpr_auc(y_test, pred_gbm)\n",
    "print(f\"AUC of lightGBM model: {auc}\")\n",
    "draw_roc(fpr, tpr, auc)"
   ]
  },
  {
   "cell_type": "markdown",
   "metadata": {},
   "source": [
    "_Ваш ответ:_ все три модели показали одинаковую точность предсказаний. Быстрее всех, с заментым отрывом, тренировка прошла у `LightGBM` (553ms), далее `XgBoost`(1.62s), а затем `CatBoost`(18.3s). Следовательно лучше всего использовать для данных spam модель `LightGBM`."
   ]
  },
  {
   "cell_type": "code",
   "execution_count": 207,
   "metadata": {},
   "outputs": [
    {
     "data": {
      "text/plain": [
       "array([1, 0, 0, 0, 0, 0, 0, 1, 0, 1, 0, 1, 1, 0, 0, 0, 1, 1, 0, 0, 1, 1,\n",
       "       1, 0, 1, 0, 0, 0, 0])"
      ]
     },
     "execution_count": 207,
     "metadata": {},
     "output_type": "execute_result"
    }
   ],
   "source": [
    "pred_gbm[pred_gbm != y_test]"
   ]
  },
  {
   "cell_type": "code",
   "execution_count": 208,
   "metadata": {},
   "outputs": [
    {
     "data": {
      "text/plain": [
       "array([1, 0, 0, 0, 0, 1, 0, 1, 0, 1, 0, 1, 0, 0, 0, 1, 1, 0, 1, 0, 0, 0,\n",
       "       0, 1, 1, 0, 0, 0, 0])"
      ]
     },
     "execution_count": 208,
     "metadata": {},
     "output_type": "execute_result"
    }
   ],
   "source": [
    "pred_catboost[pred_catboost != y_test]"
   ]
  },
  {
   "cell_type": "code",
   "execution_count": 209,
   "metadata": {},
   "outputs": [
    {
     "data": {
      "text/plain": [
       "array([1, 0, 0, 0, 0, 1, 0, 1, 1, 0, 1, 0, 0, 0, 0, 1, 1, 1, 0, 0, 1, 0,\n",
       "       1, 0, 1, 0, 0, 0, 0])"
      ]
     },
     "execution_count": 209,
     "metadata": {},
     "output_type": "execute_result"
    }
   ],
   "source": [
    "pred_xgboost[pred_xgboost != y_test]"
   ]
  },
  {
   "cell_type": "code",
   "execution_count": null,
   "metadata": {},
   "outputs": [],
   "source": []
  }
 ],
 "metadata": {
  "kernelspec": {
   "display_name": "Python 3",
   "language": "python",
   "name": "python3"
  },
  "language_info": {
   "codemirror_mode": {
    "name": "ipython",
    "version": 3
   },
   "file_extension": ".py",
   "mimetype": "text/x-python",
   "name": "python",
   "nbconvert_exporter": "python",
   "pygments_lexer": "ipython3",
   "version": "3.8.2"
  }
 },
 "nbformat": 4,
 "nbformat_minor": 2
}
